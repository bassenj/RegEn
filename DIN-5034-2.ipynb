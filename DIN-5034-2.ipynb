{
 "cells": [
  {
   "cell_type": "markdown",
   "metadata": {
    "slideshow": {
     "slide_type": "skip"
    }
   },
   "source": [
    "<script>\n",
    "  jQuery(document).ready(function($) {  \n",
    "  \n",
    "  $(window).on('load', function(){\n",
    "    $('#preloader').fadeOut('slow',function(){$(this).remove();});\n",
    "  });\n",
    "  \n",
    "  });\n",
    "</script>\n",
    "\n",
    "<style type=\"text/css\">\n",
    "  div#preloader { position: fixed; \n",
    "      left: 0; \n",
    "      top: 0; \n",
    "      z-index: 999; \n",
    "      width: 100%; \n",
    "      height: 100%; \n",
    "      overflow: visible; \n",
    "      background: #fff url('http://preloaders.net/preloaders/720/Moving%20line.gif') no-repeat center center; \n",
    "  }\n",
    "\n",
    "</style>\n",
    "\n",
    "<div id=\"preloader\">\n",
    "\n",
    "</div>"
   ]
  },
  {
   "cell_type": "markdown",
   "metadata": {
    "slideshow": {
     "slide_type": "skip"
    }
   },
   "source": [
    "<script>\n",
    "  function code_toggle() {\n",
    "    if (code_shown){\n",
    "      $('div.input').hide('500');\n",
    "      $('#toggleButton1').val('Show Code')\n",
    "    } else {\n",
    "      $('div.input').show('500');\n",
    "      $('#toggleButton1').val('Hide Code')\n",
    "    }\n",
    "    code_shown = !code_shown\n",
    "  }\n",
    "\n",
    "  $( document ).ready(function(){\n",
    "    code_shown=false;\n",
    "    $('div.input').hide()\n",
    "  });\n",
    "</script>\n",
    "<form action=\"javascript:code_toggle()\"><input type=\"submit\" id=\"toggleButton1\" value=\"Show Code\"></form>"
   ]
  },
  {
   "cell_type": "markdown",
   "metadata": {
    "slideshow": {
     "slide_type": "skip"
    }
   },
   "source": [
    "<script>\n",
    "  function result_toggle() {\n",
    "    if (result_shown){\n",
    "      $('div.output').hide('500');\n",
    "      $('#toggleButton2').val('Show Results')\n",
    "    } else {\n",
    "      $('div.output').show('500');\n",
    "      $('#toggleButton2').val('Hide Results')\n",
    "    }\n",
    "    result_shown = !result_shown\n",
    "  }\n",
    "\n",
    "  $( document ).ready(function(){\n",
    "    result_shown=false;\n",
    "    $('div.output').hide()\n",
    "  });\n",
    "</script>\n",
    "<form action=\"javascript:result_toggle()\"><input type=\"submit\" id=\"toggleButton2\" value=\"Show Results\"></form>"
   ]
  },
  {
   "cell_type": "markdown",
   "metadata": {
    "slideshow": {
     "slide_type": "slide"
    }
   },
   "source": [
    "# DIN-5034-2-Algorithmus"
   ]
  },
  {
   "cell_type": "markdown",
   "metadata": {},
   "source": [
    "Berechne mithilfe von"
   ]
  },
  {
   "cell_type": "code",
   "execution_count": 53,
   "metadata": {
    "slideshow": {
     "slide_type": "skip"
    }
   },
   "outputs": [],
   "source": [
    "%display latex"
   ]
  },
  {
   "cell_type": "code",
   "execution_count": 54,
   "metadata": {},
   "outputs": [],
   "source": [
    "Grad=pi/180\n",
    "var('TagDesJahres')\n",
    "ZahlDerTageImJahr=365\n",
    "J = 360 * Grad * TagDesJahres / ZahlDerTageImJahr;"
   ]
  },
  {
   "cell_type": "markdown",
   "metadata": {},
   "source": [
    "die **Sonnendeklination**"
   ]
  },
  {
   "cell_type": "code",
   "execution_count": 55,
   "metadata": {},
   "outputs": [],
   "source": [
    "delta = (0.3948 \n",
    "         - 23.2559 * cos(J + 9.1 * Grad)\n",
    "         - 0.3915 * cos(2 * J + 5.4 * Grad)\n",
    "         - 0.1764 * cos(3 * J + 26. * Grad)\n",
    "        ) * Grad;"
   ]
  },
  {
   "cell_type": "markdown",
   "metadata": {},
   "source": [
    "An diesen Gleichungen wird bereits deutlich, dass der Algorithmus nur ungefähre Ergebnisse liefern kann, da das Konzept der Schaltjahre und Schaltsekunden nicht berücksichtigt wird."
   ]
  },
  {
   "cell_type": "markdown",
   "metadata": {
    "slideshow": {
     "slide_type": "slide"
    }
   },
   "source": [
    "Bestimme die sogenannte **Zeitgleichung**"
   ]
  },
  {
   "cell_type": "code",
   "execution_count": 56,
   "metadata": {},
   "outputs": [],
   "source": [
    "var('Stunden')\n",
    "Minuten = Stunden / 60\n",
    "Zgl = (0.0066 \n",
    "       + 7.3525 * cos(J + 85.9 * Grad)\n",
    "       + 9.9359 * cos(2 * J + 108.9 * Grad)\n",
    "       + 0.3387 * cos(3 * J + 105.2 * Grad)\n",
    "      ) * Minuten;"
   ]
  },
  {
   "cell_type": "markdown",
   "metadata": {},
   "source": [
    "und aus der **lokalen Zeit LZ** und der **Zeitzone ZZ** (z.B. MEZ = UTC+1 oder MESZ = UTC+2) oder direkt aus der **Weltzeit (UTC)** in Abhängigkeit der **geographischen Länge $\\lambda$** die **mittlere Ortszeit MOZ**"
   ]
  },
  {
   "cell_type": "code",
   "execution_count": 57,
   "metadata": {},
   "outputs": [],
   "source": [
    "var('LZ')\n",
    "var('Zeitzone')\n",
    "var('Laengengrad')\n",
    "UTC = LZ - Zeitzone\n",
    "MOZ = UTC - 4 * (0 * 15 * Grad - Laengengrad) * Minuten / Grad;"
   ]
  },
  {
   "cell_type": "markdown",
   "metadata": {},
   "source": [
    "und damit die **wahre Ortszeit WOZ**, welche die Schwankungen der Erdrotation berücksichtigt,"
   ]
  },
  {
   "cell_type": "code",
   "execution_count": 58,
   "metadata": {},
   "outputs": [],
   "source": [
    "WOZ = MOZ + Zgl;"
   ]
  },
  {
   "cell_type": "markdown",
   "metadata": {
    "slideshow": {
     "slide_type": "slide"
    }
   },
   "source": [
    "Durch die **geographische Breite $\\varphi$** und den **Stundenwinkel**"
   ]
  },
  {
   "cell_type": "code",
   "execution_count": 59,
   "metadata": {},
   "outputs": [],
   "source": [
    "Stundenwinkel = (12 * Stunden - WOZ) * 15 * Grad / Stunden;"
   ]
  },
  {
   "cell_type": "markdown",
   "metadata": {},
   "source": [
    "lassen sich **Sonnenhöhe** und -**azimut** berechnen"
   ]
  },
  {
   "cell_type": "code",
   "execution_count": 60,
   "metadata": {},
   "outputs": [],
   "source": [
    "var('Breitengrad')\n",
    "Sonnenhoehe = arcsin(\n",
    "    cos(Stundenwinkel) * cos(Breitengrad) * cos(delta)\n",
    "    + sin(Breitengrad) * sin(delta)\n",
    "    );\n",
    "Sonnenazimut = (180 * Grad \n",
    "    + sign(WOZ / Stunden - 12)\n",
    "    * arccos(\n",
    "        (sin(Sonnenhoehe) * sin(Breitengrad) - sin(delta))\n",
    "        / (cos(Sonnenhoehe) * cos(Breitengrad))\n",
    "        )\n",
    "    );"
   ]
  },
  {
   "cell_type": "markdown",
   "metadata": {
    "slideshow": {
     "slide_type": "slide"
    }
   },
   "source": [
    "## Heutiger Sonnenweg und jetziger Sonnestand"
   ]
  },
  {
   "cell_type": "markdown",
   "metadata": {},
   "source": [
    "Bestimme den heutigen Sonnenweg am DBI-TZ! Ein Vergleich kann mit dem Online-Angebot von [Sonnenverlauf.de](https://www.sonnenverlauf.de/#/50.93,13.35,17/2017.09.22/15:10/1/0) vorgenommen werden.\n",
    "\n",
    "Dafür wird zunächst die **lokale Zeit** bestimmt."
   ]
  },
  {
   "cell_type": "code",
   "execution_count": 61,
   "metadata": {},
   "outputs": [
    {
     "name": "stdout",
     "output_type": "stream",
     "text": [
      "Seit Beginn des Tages sind 22.4 Stunden vergangen.\n"
     ]
    }
   ],
   "source": [
    "# Zeit\n",
    "import datetime as dt\n",
    "\n",
    "# Zeitzone ZZ\n",
    "MEZ = + 1 * Stunden\n",
    "MESZ = + 2 * Stunden\n",
    "ZZ = MEZ\n",
    "\n",
    "# Jetzt\n",
    "Jetzt = dt.datetime.utcnow() + dt.timedelta(hours = int(ZZ / Stunden));\n",
    "#Jetzt = dt.datetime(2017,10,24,9,30)\n",
    "\n",
    "# LokaleZeit LZ\n",
    "LokaleZeit = (Jetzt.hour + Jetzt.minute / 60) * Stunden;\n",
    "print 'Seit Beginn des Tages sind {:.1f} Stunden vergangen.'.format(float(LokaleZeit/Stunden))"
   ]
  },
  {
   "cell_type": "markdown",
   "metadata": {
    "slideshow": {
     "slide_type": "slide"
    }
   },
   "source": [
    "Dann brauchen wir die Information, welchen **Tag des Jahres** wir heute haben."
   ]
  },
  {
   "cell_type": "code",
   "execution_count": 62,
   "metadata": {},
   "outputs": [
    {
     "name": "stdout",
     "output_type": "stream",
     "text": [
      "Heute haben wir den 298. Tag des Jahres.\n"
     ]
    }
   ],
   "source": [
    "Heute = (Jetzt.date() - dt.date(Jetzt.year,1,1)).days + 1;\n",
    "print 'Heute haben wir den {}. Tag des Jahres.'.format(Heute)"
   ]
  },
  {
   "cell_type": "code",
   "execution_count": 63,
   "metadata": {
    "scrolled": true
   },
   "outputs": [
    {
     "name": "stdout",
     "output_type": "stream",
     "text": [
      "Die Erde hat seit Begin des Jahres 293.9 Grad auf der Sonnenumlaufbahn zurückgelegt.\n",
      "Die Abweichung des Sonnenstandes ist heute etwa -11.9 Grad.\n"
     ]
    }
   ],
   "source": [
    "print 'Die Erde hat seit Begin des Jahres {:.1f} Grad auf der Sonnenumlaufbahn zurückgelegt.'.format(\n",
    "    float(J(TagDesJahres = Heute) / Grad))\n",
    "print 'Die Abweichung des Sonnenstandes ist heute etwa {:.1f} Grad.'.format(float(delta(TagDesJahres = Heute) / Grad))"
   ]
  },
  {
   "cell_type": "markdown",
   "metadata": {
    "slideshow": {
     "slide_type": "slide"
    }
   },
   "source": [
    "Über das Jahr gesehen hat die **Abweichung** folgenden Verlauf."
   ]
  },
  {
   "cell_type": "code",
   "execution_count": 64,
   "metadata": {},
   "outputs": [],
   "source": [
    "Deltadiagram = plot(delta.function(TagDesJahres) / Grad, 0, 365)\n",
    "Deltadiagram.axes_labels(['Tag des\\n Jahres',u'Sonnendeklination\\n in °'])"
   ]
  },
  {
   "cell_type": "code",
   "execution_count": 65,
   "metadata": {},
   "outputs": [
    {
     "name": "stdout",
     "output_type": "stream",
     "text": [
      "Die Sonnenzeit weicht heute 16.0 Minuten von der lokalen Zeit ab.\n"
     ]
    }
   ],
   "source": [
    "print 'Die Sonnenzeit weicht heute {:.1f} Minuten von der lokalen Zeit ab.'.format(float(Zgl(TagDesJahres = Heute) / Minuten))"
   ]
  },
  {
   "cell_type": "markdown",
   "metadata": {
    "slideshow": {
     "slide_type": "slide"
    }
   },
   "source": [
    "Über das Jahr gesehen hat die **Zeitgleichung** folgenden Verlauf."
   ]
  },
  {
   "cell_type": "code",
   "execution_count": 66,
   "metadata": {},
   "outputs": [],
   "source": [
    "Zgldiagramm = plot(Zgl.function(TagDesJahres) / Minuten, 0, 365)\n",
    "Zgldiagramm.axes_labels(['Tag des\\n Jahres','Abweichung von der\\n Sonnenzeit in Minuten'])"
   ]
  },
  {
   "cell_type": "markdown",
   "metadata": {},
   "source": [
    "Für die Berechnung der anderen Gleichungen ist der **geographische Standort** entscheidend. Dafür werden der **Längengrad $l$** und der **Breitengrad $b$** des DBI-TZ verwendet."
   ]
  },
  {
   "cell_type": "code",
   "execution_count": 67,
   "metadata": {},
   "outputs": [],
   "source": [
    "# Längengrad\n",
    "l = 13.35 * Grad;\n",
    "# Breitengrad\n",
    "b = 50.93 * Grad;"
   ]
  },
  {
   "cell_type": "markdown",
   "metadata": {},
   "source": [
    "An diesem Ort (Längengrad und Zeitzone) ist die **mittlere Ortszeit** nur von der lokalen Zeit abhängig:"
   ]
  },
  {
   "cell_type": "code",
   "execution_count": 68,
   "metadata": {},
   "outputs": [
    {
     "name": "stdout",
     "output_type": "stream",
     "text": [
      "MOZ(LZ, Laengengrad, Stunden, Zeitzone)\n"
     ]
    },
    {
     "data": {
      "text/html": [
       "<html><script type=\"math/tex; mode=display\">\\newcommand{\\Bold}[1]{\\mathbf{#1}}\\mathit{LZ} - 0.110000000000000 \\, \\mathit{Stunden}</script></html>"
      ],
      "text/plain": [
       "LZ - 0.110000000000000*Stunden"
      ]
     },
     "execution_count": 68,
     "metadata": {},
     "output_type": "execute_result"
    }
   ],
   "source": [
    "print 'MOZ'+str(MOZ.arguments())\n",
    "MOZ.subs({\n",
    "    Laengengrad:l\n",
    "    ,Zeitzone:ZZ\n",
    "}).expand()"
   ]
  },
  {
   "cell_type": "markdown",
   "metadata": {
    "slideshow": {
     "slide_type": "slide"
    }
   },
   "source": [
    "Um den etwas komplizierteren Ausdruck für die **wahre Ortszeit** zu vereinfachen, wird das Program `gp` verwendet."
   ]
  },
  {
   "cell_type": "code",
   "execution_count": 69,
   "metadata": {},
   "outputs": [
    {
     "name": "stdout",
     "output_type": "stream",
     "text": [
      "WOZ(LZ, Laengengrad, Stunden, TagDesJahres, Zeitzone)\n"
     ]
    },
    {
     "data": {
      "text/html": [
       "<html><script type=\"math/tex; mode=display\">\\newcommand{\\Bold}[1]{\\mathbf{#1}}\\verb|22.57389471617615543989451222*Stunden|</script></html>"
      ],
      "text/plain": [
       "22.57389471617615543989451222*Stunden"
      ]
     },
     "execution_count": 69,
     "metadata": {},
     "output_type": "execute_result"
    }
   ],
   "source": [
    "print 'WOZ'+str(WOZ.arguments())\n",
    "gp(WOZ.subs({\n",
    "    TagDesJahres:Heute\n",
    "    ,Laengengrad:l\n",
    "    ,Zeitzone:ZZ\n",
    "    ,LZ:LokaleZeit\n",
    "}))"
   ]
  },
  {
   "cell_type": "code",
   "execution_count": 70,
   "metadata": {},
   "outputs": [
    {
     "name": "stdout",
     "output_type": "stream",
     "text": [
      "Stundenwinkel(LZ, Laengengrad, Stunden, TagDesJahres, Zeitzone)\n"
     ]
    },
    {
     "data": {
      "text/html": [
       "<html><script type=\"math/tex; mode=display\">\\newcommand{\\Bold}[1]{\\mathbf{#1}}\\verb|-158.6084207426423340984176834|</script></html>"
      ],
      "text/plain": [
       "-158.6084207426423340984176834"
      ]
     },
     "execution_count": 70,
     "metadata": {},
     "output_type": "execute_result"
    }
   ],
   "source": [
    "print 'Stundenwinkel'+str(Stundenwinkel.arguments())\n",
    "gp(Stundenwinkel.subs({    \n",
    "    TagDesJahres:Heute\n",
    "    ,Laengengrad:l\n",
    "    ,Zeitzone:ZZ\n",
    "    ,LZ:LokaleZeit\n",
    "}))/Grad"
   ]
  },
  {
   "cell_type": "markdown",
   "metadata": {
    "slideshow": {
     "slide_type": "slide"
    }
   },
   "source": [
    "Wir schreiben nun die heutige Sonnenhöhe am DBI-TZ zur Sommerzeit als Funktion der lokalen Zeit."
   ]
  },
  {
   "cell_type": "code",
   "execution_count": 71,
   "metadata": {},
   "outputs": [
    {
     "name": "stdout",
     "output_type": "stream",
     "text": [
      "Sonnenhoehe(Breitengrad, LZ, Laengengrad, Stunden, TagDesJahres, Zeitzone)\n",
      "Zur Zeit steht die Sonne in einem Winkel von etwa -47.2 Grad ueber dem DBI-TZ.\n"
     ]
    }
   ],
   "source": [
    "print 'Sonnenhoehe'+str(Sonnenhoehe.arguments())\n",
    "SH = (Sonnenhoehe.subs({    \n",
    "      TagDesJahres:Heute\n",
    "      ,LZ:LZ*Stunden\n",
    "      ,Laengengrad:l\n",
    "      ,Breitengrad:b\n",
    "      ,Zeitzone:ZZ\n",
    "})/Grad).function(LZ)\n",
    "Hoehe = SH(LokaleZeit/Stunden).n()\n",
    "print 'Zur Zeit steht die Sonne in einem Winkel von etwa {:.1f} Grad ueber dem DBI-TZ.'.format(float(Hoehe))"
   ]
  },
  {
   "cell_type": "markdown",
   "metadata": {
    "slideshow": {
     "slide_type": "slide"
    }
   },
   "source": [
    "Natürlich können wir mit unseren Gleichungen auch den Zeitpunkt des Sonnenauf- und -untergangs berechnen, indem wir die Nulldurchgänge der Sonnenhöhe am Vormittag und Nachmittag bestimmen."
   ]
  },
  {
   "cell_type": "code",
   "execution_count": 72,
   "metadata": {},
   "outputs": [
    {
     "name": "stdout",
     "output_type": "stream",
     "text": [
      "Sonnenaufgang war etwa um 06:50 und Sonnenuntergang wird etwa um 16:50 sein.\n"
     ]
    }
   ],
   "source": [
    "Sonnenaufgang = find_root(SH,0,12)\n",
    "Sonnenuntergang = find_root(SH,12,24)\n",
    "\n",
    "print 'Sonnenaufgang war etwa um {:%H:%M} und Sonnenuntergang wird etwa um {:%H:%M} sein.'.format(\n",
    "    dt.datetime.utcfromtimestamp(float(Sonnenaufgang*3600))\n",
    "    ,dt.datetime.utcfromtimestamp(float(Sonnenuntergang*3600))\n",
    "    )"
   ]
  },
  {
   "cell_type": "markdown",
   "metadata": {
    "slideshow": {
     "slide_type": "slide"
    }
   },
   "source": [
    "Wir können auch den Sonnenhöchststand ermitteln, indem wir die folgende Extremwertaufgabe lösen."
   ]
  },
  {
   "cell_type": "code",
   "execution_count": 73,
   "metadata": {},
   "outputs": [
    {
     "name": "stdout",
     "output_type": "stream",
     "text": [
      "Der Sonnenhöchststand ist heute um 11:50.\n"
     ]
    }
   ],
   "source": [
    "Mittag = find_root(SH.diff(LZ),Sonnenaufgang,Sonnenuntergang)\n",
    "print 'Der Sonnenhöchststand ist heute um {:%H:%M}.'.format(\n",
    "    dt.datetime.utcfromtimestamp(float(Mittag*3600))\n",
    ")"
   ]
  },
  {
   "cell_type": "code",
   "execution_count": 74,
   "metadata": {},
   "outputs": [
    {
     "name": "stdout",
     "output_type": "stream",
     "text": [
      "Sonnenazimut(Breitengrad, LZ, Laengengrad, Stunden, TagDesJahres, Zeitzone)\n",
      "Zur Zeit steht die Sonne im Azimut von 328.3 Grad.\n"
     ]
    }
   ],
   "source": [
    "print 'Sonnenazimut'+str(Sonnenazimut.arguments())\n",
    "SA = (\n",
    "      Sonnenazimut.subs({    \n",
    "          TagDesJahres:Heute\n",
    "          ,LZ:LZ*Stunden\n",
    "          ,Laengengrad:l\n",
    "          ,Breitengrad:b\n",
    "          ,Zeitzone:ZZ\n",
    "      }).subs(Stunden=1)/Grad\n",
    ").function(LZ)\n",
    "Azimut = SA(LokaleZeit/Stunden).n()\n",
    "print 'Zur Zeit steht die Sonne im Azimut von {:.1f} Grad.'.format(float(Azimut))"
   ]
  },
  {
   "cell_type": "markdown",
   "metadata": {
    "slideshow": {
     "slide_type": "slide"
    }
   },
   "source": [
    "## Sonnenstunden\n",
    "Die Definition der Luftmasse in der Vorlesung $LM = \\frac{1}{\\sin{\\gamma_S}}$ gilt nur für große Winkel $\\gamma_S > 30\\, °$.\n",
    "Diese Bedingung ist in unseren Breitengraden selten der Fall.\n",
    "Deshalb verwenden wir hier eine [Formel](http://www.pveducation.org/pvcdrom/2-properties-sunlight/air-mass),\n",
    "die die Krümmung der Erdoberfläche berücksichtigt."
   ]
  },
  {
   "cell_type": "code",
   "execution_count": 75,
   "metadata": {
    "slideshow": {
     "slide_type": "slide"
    }
   },
   "outputs": [],
   "source": [
    "Zeit=var('Zeit')\n",
    "aspectratio = 3\n",
    "durchmesser = 10\n",
    "StundenListe = srange(12-6, 12+10, 2)\n",
    "\n",
    "# Sonnenweg\n",
    "Sonnenwegdiagram = parametric_plot( (SA(Zeit), SH(Zeit)), (Zeit, Sonnenaufgang, Sonnenuntergang ) )\n",
    "# Punkte für Stunden\n",
    "SonnenwegdiagramStunden = point( [(SA(Zeit), SH(Zeit)) for Zeit in StundenListe] )\n",
    "# Symbol für die Sonne\n",
    "Sonne = ellipse((Azimut,Hoehe),durchmesser,durchmesser / aspectratio,rgbcolor='yellow', fill=True, legend_label='Die Sonne')\n",
    "\n",
    "# Grafikobjekt\n",
    "G = Graphics()\n",
    "G += Sonnenwegdiagram\n",
    "G += SonnenwegdiagramStunden\n",
    "# Beschriftung für Stunden\n",
    "for Zeit in StundenListe:\n",
    "    if SH(Zeit) > -5:\n",
    "        da = 3\n",
    "        if Zeit < 12: da = -3\n",
    "        G += text('{}'.format(Zeit),(SA(Zeit) + da, SH(Zeit) + 6 / aspectratio))\n",
    "G += Sonne\n",
    "\n",
    "G.axes_range(0,360,0,60)\n",
    "G.axes_labels(['Azimut',u'Höhe'])\n",
    "G.set_aspect_ratio(aspectratio)"
   ]
  },
  {
   "cell_type": "code",
   "execution_count": 83,
   "metadata": {
    "slideshow": {
     "slide_type": "slide"
    }
   },
   "outputs": [
    {
     "data": {
      "image/png": "[encoded data removed]",
      "text/plain": [
       "Graphics object consisting of 8 graphics primitives"
      ]
     },
     "metadata": {},
     "output_type": "display_data"
    }
   ],
   "source": [
    "G.show()"
   ]
  },
  {
   "cell_type": "code",
   "execution_count": 77,
   "metadata": {
    "slideshow": {
     "slide_type": "slide"
    }
   },
   "outputs": [],
   "source": [
    "SH=(Sonnenhoehe.subs({    \n",
    "    LZ:LZ*Stunden\n",
    "    ,Laengengrad:l\n",
    "    ,Breitengrad:b\n",
    "    ,Zeitzone:ZZ\n",
    "})/Grad).function(LZ)\n",
    "\n",
    "ErsterTag = 1\n",
    "Tage = 365\n",
    "Sonnenstunden = 0\n",
    "Luftmasse = 0\n",
    "# Formel aus der Vorlesung\n",
    "LM = (1 / sin(SH*Grad)).factor()\n",
    "# Alternative Formel\n",
    "LM = (1 / (cos((90 - SH) * Grad) + 0.50572 * (6.07995 + SH)**(-1.6364))).factor()\n",
    "#print LM\n",
    "Delta = 0.01\n",
    "for Heute in srange(ErsterTag,ErsterTag + Tage,1):\n",
    "    Sonnenaufgang = find_root(SH(TagDesJahres=Heute),0,12)\n",
    "    Sonnenuntergang = find_root(SH(TagDesJahres=Heute),12,24)\n",
    "    Sonnenstunden += float(Sonnenuntergang - Sonnenaufgang - 2 * Delta)\n",
    "    Luftmasse += \\\n",
    "        numerical_integral(LM(TagDesJahres=Heute),Sonnenaufgang + Delta,Sonnenuntergang - Delta)[0] \\\n",
    "        / float(Sonnenuntergang - Sonnenaufgang - 2 * Delta)"
   ]
  },
  {
   "cell_type": "markdown",
   "metadata": {
    "slideshow": {
     "slide_type": "slide"
    }
   },
   "source": [
    "In Deutschland wird von einer Sonnenscheindauer von $1000$ Stunden pro Jahr ausgegangen."
   ]
  },
  {
   "cell_type": "code",
   "execution_count": 78,
   "metadata": {},
   "outputs": [
    {
     "name": "stdout",
     "output_type": "stream",
     "text": [
      "An diesem Ort gibt es 4398 Stunden Tageslicht im Jahr.\n",
      "Die mittlere tägliche Sonnenscheindauer beträgt 12.05 Stunden.\n",
      "Die mittlere Luftmasse beträgt 4.88.\n"
     ]
    }
   ],
   "source": [
    "print 'An diesem Ort gibt es {:.0f} Stunden Tageslicht im Jahr.'.format(Sonnenstunden)\n",
    "print 'Die mittlere tägliche Sonnenscheindauer beträgt {:.2f} Stunden.'.format(Sonnenstunden / Tage)\n",
    "print 'Die mittlere Luftmasse beträgt {:.2f}.'.format(Luftmasse / Tage) "
   ]
  },
  {
   "cell_type": "markdown",
   "metadata": {
    "slideshow": {
     "slide_type": "slide"
    }
   },
   "source": [
    "Um auf die Sonnenscheindauer zu kommen, wird die gleiche Auswertung für die Mittagsstunden wiederholt."
   ]
  },
  {
   "cell_type": "code",
   "execution_count": 79,
   "metadata": {},
   "outputs": [],
   "source": [
    "SH=(Sonnenhoehe.subs({    \n",
    "    LZ:LZ*Stunden\n",
    "    ,Laengengrad:l\n",
    "    ,Breitengrad:b\n",
    "    ,Zeitzone:ZZ\n",
    "})/Grad).function(LZ)\n",
    "\n",
    "ErsterTag = 1\n",
    "Tage = 365\n",
    "Sonnenstunden = 0\n",
    "Luftmasse = 0\n",
    "# Formel aus der Vorlesung\n",
    "LM = (1 / sin(SH*Grad)).factor()\n",
    "# Alternative Formel\n",
    "LM = (1 / (cos((90 - SH) * Grad) + 0.50572 * (6.07995 + SH)**(-1.6364))).factor()\n",
    "#print LM\n",
    "Delta = 0.01\n",
    "for Heute in srange(ErsterTag,ErsterTag + Tage,1):\n",
    "    Sonnenaufgang = find_root(SH(TagDesJahres=Heute),0,12)\n",
    "    Sonnenuntergang = find_root(SH(TagDesJahres=Heute),12,24)\n",
    "    Mittag = find_root(SH(TagDesJahres=Heute).diff(LZ),Sonnenaufgang,Sonnenuntergang)\n",
    "    Mittagsstunden = (Sonnenuntergang - Sonnenaufgang) / 4\n",
    "    Anfangszeit = Mittag - Mittagsstunden / 2\n",
    "    Endzeit = Mittag + Mittagsstunden / 2\n",
    "    Sonnenstunden += float(Mittagsstunden)\n",
    "    Luftmasse += \\\n",
    "        numerical_integral(LM(TagDesJahres=Heute),Anfangszeit,Endzeit)[0] \\\n",
    "        / float(Mittagsstunden)"
   ]
  },
  {
   "cell_type": "code",
   "execution_count": 80,
   "metadata": {},
   "outputs": [
    {
     "name": "stdout",
     "output_type": "stream",
     "text": [
      "An diesem Ort gibt es 1101 Stunden Sonnenschein im Jahr.\n",
      "Die mittlere tägliche Sonnenscheindauer beträgt 3.02 Stunden.\n",
      "Die mittlere Luftmasse beträgt 1.97.\n"
     ]
    }
   ],
   "source": [
    "print 'An diesem Ort gibt es {:.0f} Stunden Sonnenschein im Jahr.'.format(Sonnenstunden)\n",
    "print 'Die mittlere tägliche Sonnenscheindauer beträgt {:.2f} Stunden.'.format(Sonnenstunden / Tage)\n",
    "print 'Die mittlere Luftmasse beträgt {:.2f}.'.format(Luftmasse / Tage) "
   ]
  },
  {
   "cell_type": "code",
   "execution_count": 85,
   "metadata": {
    "slideshow": {
     "slide_type": "slide"
    }
   },
   "outputs": [
    {
     "name": "stdout",
     "output_type": "stream",
     "text": [
      "----------------------\n",
      "Zeit\t LM\t SH\n",
      "in h\t -\t in °\n",
      "---------------------\n",
      " 8.4\t28.8\t 0.7\n",
      " 9.4\t 7.4\t 7.3\n",
      "10.4\t 4.6\t12.3\n",
      "11.4\t 3.7\t15.3\n",
      "12.4\t 3.6\t16.0\n",
      "13.4\t 4.0\t14.3\n",
      "14.4\t 5.3\t10.5\n",
      "15.4\t10.7\t 4.8\n",
      "---------------------\n"
     ]
    }
   ],
   "source": [
    "Heute = 1 #364/2\n",
    "Sonnenaufgang = find_root(SH(TagDesJahres=Heute),0,12)\n",
    "Sonnenuntergang = find_root(SH(TagDesJahres=Heute),12,24)\n",
    "Mittag = find_root(SH(TagDesJahres=Heute).diff(LZ),Sonnenaufgang,Sonnenuntergang)\n",
    "LM = (1 / (cos((90 - SH) * Grad) + 0.50572 * (6.07995 + SH)**(-1.6364))).factor()\n",
    "LM = LM(TagDesJahres = Heute).factor()\n",
    "print '----------------------'\n",
    "print 'Zeit\\t LM\\t SH'\n",
    "print 'in h\\t -\\t in °'\n",
    "print '---------------------'\n",
    "for Zeit in srange(Sonnenaufgang+0.1,Sonnenuntergang):\n",
    "    print '{:4.1f}\\t{:4.1f}\\t{:4.1f}'.format(float(Zeit), float(LM(LZ=Zeit)), float(SH(TagDesJahres=Heute,LZ=Zeit)))\n",
    "print '---------------------'"
   ]
  },
  {
   "cell_type": "markdown",
   "metadata": {},
   "source": [
    "----\n",
    "<script>\n",
    "  $(document).ready(function(){\n",
    "    $('div.prompt').hide();\n",
    "    $('div.back-to-top').hide();\n",
    "    <!-- $('nav#menubar').hide(); -->\n",
    "    $('.breadcrumb').hide();\n",
    "    $('.hidden-print').hide();\n",
    "  });\n",
    "</script>\n",
    "\n",
    "<footer id=\"attribution\" style=\"float:right; color:#999; background:#fff;\">\n",
    "Created with Jupyter, delivered by Fastly, rendered by Rackspace.\n",
    "</footer>"
   ]
  }
 ],
 "metadata": {
  "celltoolbar": "Slideshow",
  "kernelspec": {
   "display_name": "SageMath 8.0",
   "language": "",
   "name": "sagemath"
  },
  "language_info": {
   "codemirror_mode": {
    "name": "ipython",
    "version": 2
   },
   "file_extension": ".py",
   "mimetype": "text/x-python",
   "name": "python",
   "nbconvert_exporter": "python",
   "pygments_lexer": "ipython2",
   "version": "2.7.13"
  },
  "livereveal": {
   "scroll": true,
   "slideNumber": "c.v",
   "start_slideshow_at": "selected",
   "theme": "sky",
   "transition": "zoom"
  }
 },
 "nbformat": 4,
 "nbformat_minor": 2
}
