{
 "cells": [
  {
   "cell_type": "raw",
   "metadata": {
    "slideshow": {
     "slide_type": "skip"
    }
   },
   "source": [
    "<script>\n",
    "  jQuery(document).ready(function($) {\n",
    "\n",
    "  $(window).load(function(){\n",
    "    $('#preloader').fadeOut('slow',function(){$(this).remove();});\n",
    "  });\n",
    "\n",
    "  });\n",
    "</script>\n",
    "\n",
    "<style type=\"text/css\">\n",
    "  div#preloader { position: fixed;\n",
    "      left: 0;\n",
    "      top: 0;\n",
    "      z-index: 999;\n",
    "      width: 100%;\n",
    "      height: 100%;\n",
    "      overflow: visible;\n",
    "      background: #fff url('http://preloaders.net/preloaders/720/Moving%20line.gif') no-repeat center center;\n",
    "  }\n",
    "\n",
    "</style>\n",
    "\n",
    "<div id=\"preloader\"></div>"
   ]
  },
  {
   "cell_type": "raw",
   "metadata": {
    "slideshow": {
     "slide_type": "skip"
    }
   },
   "source": [
    "<script>\n",
    "  function code_toggle() {\n",
    "    if (code_shown){\n",
    "      $('div.input').hide('500');\n",
    "      $('#toggleButton').val('Show Code')\n",
    "    } else {\n",
    "      $('div.input').show('500');\n",
    "      $('#toggleButton').val('Hide Code')\n",
    "    }\n",
    "    code_shown = !code_shown\n",
    "  }\n",
    "\n",
    "  $( document ).ready(function(){\n",
    "    code_shown=false;\n",
    "    $('div.input').hide()\n",
    "  });\n",
    "</script>\n",
    "<form action=\"javascript:code_toggle()\"><input type=\"submit\" id=\"toggleButton\" value=\"Show Code\"></form>"
   ]
  },
  {
   "cell_type": "markdown",
   "metadata": {
    "slideshow": {
     "slide_type": "skip"
    }
   },
   "source": [
    "$\\newcommand{\\SI}[2]{#1\\, \\mathrm{#2}}$\n",
    "$\\newcommand{\\si}[1]{\\, \\mathrm{#1}}$\n",
    "$\\newcommand{\\diff}{\\,\\mathrm{d}}$\n"
   ]
  },
  {
   "cell_type": "markdown",
   "metadata": {
    "slideshow": {
     "slide_type": "slide"
    }
   },
   "source": [
    "# Seminar: Wind"
   ]
  },
  {
   "cell_type": "markdown",
   "metadata": {
    "slideshow": {
     "slide_type": "-"
    }
   },
   "source": [
    "## Informationen\n",
    "Alle Aufgaben, auch die im Seminar nicht gerechneten, sind Prüfungsrelevant. Die Klausur wird zu circa $20 - 25\\%$ Rechenaufgaben enthalten, wie sie in den beiden Seminaren besprochen wurden."
   ]
  },
  {
   "cell_type": "code",
   "execution_count": 1,
   "metadata": {
    "slideshow": {
     "slide_type": "-"
    }
   },
   "outputs": [],
   "source": [
    "# SI-Einheiten\n",
    "kg = var('kg')\n",
    "Meter = var('Meter')\n",
    "Sekunde = var('Sekunde')\n",
    "Joule = var('Joule')\n",
    "\n",
    "# Abgeleitete Einheiten\n",
    "Minute = 60 * Sekunde\n",
    "Stunde = 60 * Minute\n",
    "Tag = 24 * Stunde\n",
    "Jahr = 365 * Tag\n",
    "Watt = Joule / Sekunde\n",
    "kWh = 1e+3 * Watt * Stunde\n",
    "MWh = 1e+6 * Watt * Stunde\n",
    "GWh = 1e+9 * Watt * Stunde"
   ]
  },
  {
   "cell_type": "markdown",
   "metadata": {
    "slideshow": {
     "slide_type": "slide"
    }
   },
   "source": [
    "## Aufgaben"
   ]
  },
  {
   "cell_type": "markdown",
   "metadata": {
    "slideshow": {
     "slide_type": "fragment"
    }
   },
   "source": [
    "### 1.\n",
    "Man berechne unter Zuhilfenahme des *Potenzgesetzes von Hellmann* die mittlere Windgeschwindigkeit eines Standortes in $\\SI{80}{m}$ Höhe. Für diesen Standort liegen Winddaten in $\\SI{20}{m}$ Höhe mit einer Referenzgeschwindigkeit von $\\SI{5.09}{m/s}$ vor. Für das leicht unebene Geländes ist ein Hellmann-Exponent von $\\alpha=0.28$ anzunehmen. In welcher Höhe beträgt die mittlere Windgeschwindigkeit $\\SI{9.5}{m/s}$?"
   ]
  },
  {
   "cell_type": "code",
   "execution_count": 2,
   "metadata": {
    "slideshow": {
     "slide_type": "subslide"
    }
   },
   "outputs": [
    {
     "data": {
      "text/html": [
       "<html><script type=\"math/tex; mode=display\">\\newcommand{\\Bold}[1]{\\mathbf{#1}}\\frac{\\mathit{Geschwindigkeit}}{\\mathit{Referenzgeschwindigkeit}} = \\left(\\frac{\\mathit{Hoehe}}{\\mathit{Referenzhoehe}}\\right)^{0.280000000000000}</script></html>"
      ],
      "text/plain": [
       "Geschwindigkeit/Referenzgeschwindigkeit == (Hoehe/Referenzhoehe)^0.280000000000000"
      ]
     },
     "metadata": {},
     "output_type": "display_data"
    }
   ],
   "source": [
    "# Konstanten\n",
    "HellmannExponent = 0.28\n",
    "\n",
    "# Potenzgesetz von Hellmann\n",
    "Geschwindigkeit = var('Geschwindigkeit')\n",
    "Referenzgeschwindigkeit = var('Referenzgeschwindigkeit')\n",
    "Hoehe = var('Hoehe')\n",
    "Referenzhoehe = var('Referenzhoehe')\n",
    "PotenzgesetzVonHellmann = Geschwindigkeit / Referenzgeschwindigkeit == (Hoehe / Referenzhoehe)**HellmannExponent\n",
    "pretty_print(PotenzgesetzVonHellmann)"
   ]
  },
  {
   "cell_type": "code",
   "execution_count": 3,
   "metadata": {
    "slideshow": {
     "slide_type": "subslide"
    }
   },
   "outputs": [
    {
     "data": {
      "text/html": [
       "<html><script type=\"math/tex; mode=display\">\\newcommand{\\Bold}[1]{\\mathbf{#1}}\\verb|Die|\\phantom{\\verb!x!}\\verb|Windgeschwindigkeit|\\phantom{\\verb!x!}\\verb|in|\\phantom{\\verb!x!}\\verb|80.0|\\phantom{\\verb!x!}\\verb|m|\\phantom{\\verb!x!}\\verb|Höhe|\\phantom{\\verb!x!}\\verb|beträgt|\\phantom{\\verb!x!}\\verb|7.5|\\phantom{\\verb!x!}\\verb|m/s.|</script></html>"
      ],
      "text/plain": [
       "'Die Windgeschwindigkeit in 80.0 m H\\xc3\\xb6he betr\\xc3\\xa4gt 7.5 m/s.'"
      ]
     },
     "metadata": {},
     "output_type": "display_data"
    }
   ],
   "source": [
    "# Parameter\n",
    "h = 80 * Meter\n",
    "href = 20 * Meter\n",
    "uref = 5.09 * Meter / Sekunde\n",
    "\n",
    "# Lösung\n",
    "Ergebnis = PotenzgesetzVonHellmann(\n",
    "            Hoehe = h,\n",
    "            Referenzhoehe = href,\n",
    "            Referenzgeschwindigkeit = uref\n",
    "            ).solve(Geschwindigkeit)[0]\n",
    "Loesung = 'Die Windgeschwindigkeit in {} m Höhe beträgt {:.1f} m/s.'.format(\n",
    "        float(h / Meter),\n",
    "        float(Ergebnis.rhs() / (Meter / Sekunde))\n",
    ")\n",
    "pretty_print(Loesung)"
   ]
  },
  {
   "cell_type": "code",
   "execution_count": 4,
   "metadata": {
    "slideshow": {
     "slide_type": "subslide"
    }
   },
   "outputs": [
    {
     "data": {
      "text/html": [
       "<html><script type=\"math/tex; mode=display\">\\newcommand{\\Bold}[1]{\\mathbf{#1}}\\verb|Die|\\phantom{\\verb!x!}\\verb|Windgeschwindigkeit|\\phantom{\\verb!x!}\\verb|von|\\phantom{\\verb!x!}\\verb|9.5|\\phantom{\\verb!x!}\\verb|m/s|\\phantom{\\verb!x!}\\verb|wird|\\phantom{\\verb!x!}\\verb|in|\\phantom{\\verb!x!}\\verb|einer|\\phantom{\\verb!x!}\\verb|Höhe|\\phantom{\\verb!x!}\\verb|von|\\phantom{\\verb!x!}\\verb|185.7|\\phantom{\\verb!x!}\\verb|m|\\phantom{\\verb!x!}\\verb|erreicht.|</script></html>"
      ],
      "text/plain": [
       "'Die Windgeschwindigkeit von 9.5 m/s wird in einer H\\xc3\\xb6he von 185.7 m erreicht.'"
      ]
     },
     "metadata": {},
     "output_type": "display_data"
    }
   ],
   "source": [
    "# Parameter\n",
    "u = 9.5 * Meter / Sekunde\n",
    "\n",
    "Ergebnis = PotenzgesetzVonHellmann(\n",
    "            Geschwindigkeit = u,\n",
    "            Referenzhoehe = href,\n",
    "            Referenzgeschwindigkeit = uref\n",
    "            ).solve(Hoehe)\n",
    "for h1 in Ergebnis:\n",
    "    try:\n",
    "        Loesung = 'Die Windgeschwindigkeit von {:.1f} m/s wird in einer Höhe von {:.1f} m erreicht.'.format(\n",
    "            float(u / (Meter / Sekunde)),\n",
    "            float(h1.rhs() / Meter)\n",
    "        )\n",
    "    except:\n",
    "        pass\n",
    "pretty_print(Loesung)"
   ]
  },
  {
   "cell_type": "markdown",
   "metadata": {
    "slideshow": {
     "slide_type": "subslide"
    }
   },
   "source": [
    "#### Lösung\n",
    "Bei einer Höhe von $\\SI{80}{m}$\n",
    "kann eine Windgeschwindigkeit von $\\SI{7.5}{m/s}$ angenommen werden.\n",
    "\\begin{align*}\n",
    "    v(s)\n",
    "        = v_0 \\cdot \\left( \\frac{s}{s_0} \\right)^{\\alpha}  \t\n",
    "        = 5.09 \\cdot \\left( \\frac{80}{20} \\right)^{0.28} \n",
    "        = \\SI{7.5}{m/s}.\n",
    "\\end{align*}\n",
    "Für die zweite Frage wird die gegebene Gleichung entsprechend umgestellt und man erhält eine abgeschätzte Höhe von $\\SI{186}{m}$.\n",
    "\\begin{align*}\n",
    "    s(v)\n",
    "        = h_0 \\cdot \\left( \\frac{v}{v_0} \\right)^\\frac{1}{\\alpha}\n",
    "        = 20 \\cdot \\left( \\frac{9.5}{5.09} \\right)^\\frac{1}{0.28}\n",
    "        = \\SI{185.7}{m}\n",
    "\\end{align*}"
   ]
  },
  {
   "cell_type": "markdown",
   "metadata": {
    "slideshow": {
     "slide_type": "slide"
    }
   },
   "source": [
    "### 2. \n",
    "An einem Standort 1 herrscht ganzjährig eine Windgeschwindigkeit von $\\SI{4}{m/s}$. Dagegen verfügt ein weiterer Standort 2 in einer Jahreshälfte über eine konstante Windgeschwindigkeit von $\\SI{8}{m/s}$, während in der anderen Jahreshälfte gar kein Wind weht.\n",
    "\n",
    "Für beide Standorte soll die jahresgemittelte Windgeschwindigkeit berechnet werden. Inwieweit unterscheiden sich die beiden Standorte in der maximal entnehmbaren Energiemenge."
   ]
  },
  {
   "cell_type": "code",
   "execution_count": 5,
   "metadata": {
    "slideshow": {
     "slide_type": "skip"
    }
   },
   "outputs": [],
   "source": [
    "# Variablen\n",
    "Dichte = var('Dichte')\n",
    "RotorRadius = var('RotorRadius')\n",
    "Massenstrom = var('Massenstrom')\n",
    "Leistungsbeiwert = var('Leistungsbeiwert')\n",
    "Auslassgeschwindigkeit = var('Auslassgeschwindigkeit')"
   ]
  },
  {
   "cell_type": "code",
   "execution_count": 6,
   "metadata": {
    "slideshow": {
     "slide_type": "subslide"
    }
   },
   "outputs": [
    {
     "data": {
      "text/html": [
       "<html><script type=\"math/tex; mode=display\">\\newcommand{\\Bold}[1]{\\mathbf{#1}}\\frac{1}{2} \\, \\pi \\mathit{Dichte} \\mathit{Geschwindigkeit}^{3} \\mathit{Leistungsbeiwert} \\mathit{RotorRadius}^{2}</script></html>"
      ],
      "text/plain": [
       "1/2*pi*Dichte*Geschwindigkeit^3*Leistungsbeiwert*RotorRadius^2"
      ]
     },
     "metadata": {},
     "output_type": "display_data"
    }
   ],
   "source": [
    "# Definitionen\n",
    "RotorFlaeche = pi * RotorRadius**2\n",
    "Leistung = Massenstrom * Geschwindigkeit**2 / 2.\n",
    "\n",
    "# Die Leistung des Windes\n",
    "LeistungAnlage = Leistung - Leistung(Geschwindigkeit = Auslassgeschwindigkeit)\n",
    "\n",
    "# Maximale Leistung wird theoretisch erreicht, wenn der Wind zum Stillstand kommt\n",
    "MaximaleLeistung = LeistungAnlage(\n",
    "        Massenstrom = RotorFlaeche * Dichte * Geschwindigkeit,\n",
    "        Auslassgeschwindigkeit = 0\n",
    "        )\n",
    "\n",
    "# Die tatsächliche Leistung des Windes an der Anlage\n",
    "# ergibt sich aus der maximalen Leistung des Windes\n",
    "# und der Leistungsbeiwert der Anlage\n",
    "LeistungWind = MaximaleLeistung * Leistungsbeiwert\n",
    "pretty_print(LeistungWind.factor())"
   ]
  },
  {
   "cell_type": "code",
   "execution_count": 7,
   "metadata": {
    "slideshow": {
     "slide_type": "subslide"
    }
   },
   "outputs": [
    {
     "data": {
      "text/html": [
       "<html><script type=\"math/tex; mode=display\">\\newcommand{\\Bold}[1]{\\mathbf{#1}}\\verb|Während|\\phantom{\\verb!x!}\\verb|die|\\phantom{\\verb!x!}\\verb|mittlere|\\phantom{\\verb!x!}\\verb|Geschwindigkeiten|\\phantom{\\verb!x!}\\verb|gleich|\\phantom{\\verb!x!}\\verb|sind,|\\phantom{\\verb!x!}\\verb|ist|\\phantom{\\verb!x!}\\verb|das|\\phantom{\\verb!x!}\\verb|Verhältnis|\\phantom{\\verb!x!}\\verb|der|\\phantom{\\verb!x!}\\verb|Energieerträge|\\phantom{\\verb!x!}\\verb|4.0.|</script></html>"
      ],
      "text/plain": [
       "'W\\xc3\\xa4hrend die mittlere Geschwindigkeiten gleich sind, ist das Verh\\xc3\\xa4ltnis der Energieertr\\xc3\\xa4ge 4.0.'"
      ]
     },
     "metadata": {},
     "output_type": "display_data"
    }
   ],
   "source": [
    "# Energie\n",
    "Zeit = var('Zeit')\n",
    "Energie = LeistungWind.integrate(Zeit)\n",
    "\n",
    "# Verhältnis\n",
    "Ergebnis = (\n",
    "    (Energie(Geschwindigkeit = 8, Zeit = 0.5) + Energie(Geschwindigkeit = 0, Zeit = 0.5)) /\n",
    "    Energie(Geschwindigkeit = 4, Zeit = 1.0)\n",
    "    )\n",
    "Loesung = 'Während die mittlere Geschwindigkeiten gleich sind, ist das Verhältnis der Energieerträge {:.1f}.'.format(\n",
    "    float(Ergebnis))\n",
    "pretty_print(Loesung)"
   ]
  },
  {
   "cell_type": "markdown",
   "metadata": {
    "slideshow": {
     "slide_type": "subslide"
    }
   },
   "source": [
    "#### Lösung\n",
    "Die mittleren Windgeschwindigkeiten betragen jeweils\n",
    "\\begin{align*}\n",
    "  \\bar v_1 \t&= \\SI{4}{m/s}\t\t\t\t\t\t\t\t\t\t\t\t\\\\\n",
    "  \\bar v_2  &= 0.5 \\cdot 8 + 0.5 \\cdot 0 = \\SI{4}{m/s}.\n",
    "\\end{align*}\n",
    "Somit ist der Mittelwert für jeden Standort $\\SI{4}{m/s}$ und somit für beide Standorte identisch. Zur Berechnung der maximal entnehmbaren Energiemenge gilt für Standort 1\n",
    "\\begin{align*}\n",
    "  E_1\t= c_p \\int_{0}^{t} P(t) dt\n",
    "        = c_p\\cdot \\frac{\\rho}{2} A v_1^3 \\cdot \\Delta t_1,\n",
    "\\end{align*}\n",
    "wobei $\\Delta t_1 = \\SI{1}{Jahr}$. Betrachtet man für den zweiten Standort die beiden Jahreshälften getrennt ergibt sich\n",
    "\\begin{align*}\n",
    "  E_2 = c_p \\cdot \\frac{\\rho}{2} A v_2^3 \\cdot \\Delta t_2 + 0,\n",
    "\\end{align*}\n",
    "mit $v_2 = 2 \\cdot v_1$ und $\\Delta t_2 = \\SI{1/2}{a}$ ergibt sich folgende Korrelation:\n",
    "\\begin{align*}\n",
    "    \\frac{E_2}{E_1} \n",
    "        = \\frac{c_p \\cdot \\frac{\\rho}{2} A (2\\cdot v_1)^3 \\cdot \\Delta t_2}{c_p\\cdot \\frac{\\rho}{2} A v_1^3 \\cdot \\Delta t_1}\n",
    "        = \\frac{8\\cdot v_1^3 \\cdot \\tfrac{1}{2}\\si{a}}{v_1^3 \\cdot \\SI{1}{a}}\n",
    "        = 4\n",
    "\\end{align*}\n",
    "Daraus folgt, dass die Energieausbeute am Standort 2 4 mal so groß ist wie am Standort 1."
   ]
  },
  {
   "cell_type": "markdown",
   "metadata": {
    "slideshow": {
     "slide_type": "slide"
    }
   },
   "source": [
    "### 3.\n",
    "Zur Beschreibung von relativen Windhäufigkeiten in einer spezifischen Höhe durch die Weibullverteilung sind für einen Standort auf Helgoland der Formparameter $C=2.13$ und der Skalenparameter $A=8$ gegeben. "
   ]
  },
  {
   "cell_type": "code",
   "execution_count": 8,
   "metadata": {
    "slideshow": {
     "slide_type": "fragment"
    }
   },
   "outputs": [],
   "source": [
    "# Weibull-Verteilung\n",
    "Formparameter = var('Formparameter')\n",
    "Skalenparameter = var('Skalenparameter')\n",
    "Wahrscheinlichkeitsdichte = (Formparameter / Skalenparameter * \n",
    "                             (Geschwindigkeit / Skalenparameter)**(Formparameter - 1) * \n",
    "                             exp(-(Geschwindigkeit / Skalenparameter)**Formparameter))\n",
    "\n",
    "forget()\n",
    "assume(Formparameter>0)\n",
    "assume(Geschwindigkeit>0)\n",
    "Verteilungsfunktion = Wahrscheinlichkeitsdichte.integrate(Geschwindigkeit, 0, Geschwindigkeit)"
   ]
  },
  {
   "cell_type": "markdown",
   "metadata": {
    "slideshow": {
     "slide_type": "subslide"
    }
   },
   "source": [
    "#### a)\n",
    "Bestimme die relative Häufigkeit der Windgeschwindigkeiten $\\SI{5}{m/s}, \\SI{10}{m/s}$ und $\\SI{15}{m/s}$."
   ]
  },
  {
   "cell_type": "code",
   "execution_count": 9,
   "metadata": {
    "slideshow": {
     "slide_type": "fragment"
    }
   },
   "outputs": [
    {
     "data": {
      "text/html": [
       "<div class=\"notruncate\">\n",
       "<table  class=\"table_form\">\n",
       "<tbody>\n",
       "<tr class =\"row-a\">\n",
       "<td class=\"ch\">Geschwindigkeit in m/s</td>\n",
       "<td>  5<script type=\"math/tex\">\\pm</script>0.5</td>\n",
       "<td> 10<script type=\"math/tex\">\\pm</script>0.5</td>\n",
       "<td> 15<script type=\"math/tex\">\\pm</script>0.5</td>\n",
       "</tr>\n",
       "<tr class =\"row-b\">\n",
       "<td class=\"ch\">Anteil in %</td>\n",
       "<td>10.84</td>\n",
       "<td>6.86</td>\n",
       "<td>1.19</td>\n",
       "</tr>\n",
       "<tr class =\"row-a\">\n",
       "<td class=\"ch\">Anteil im Intervall in %</td>\n",
       "<td>10.81</td>\n",
       "<td>6.86</td>\n",
       "<td>1.20</td>\n",
       "</tr>\n",
       "</tbody>\n",
       "</table>\n",
       "</div>"
      ],
      "text/plain": [
       "  Geschwindigkeit in m/s   |   5$\\pm$0.5    10$\\pm$0.5    15$\\pm$0.5\n",
       "  Anteil in %              | 10.84         6.86          1.19\n",
       "  Anteil im Intervall in % | 10.81         6.86          1.20"
      ]
     },
     "metadata": {},
     "output_type": "display_data"
    }
   ],
   "source": [
    "WeibullHelgoland = Wahrscheinlichkeitsdichte(\n",
    "    Formparameter = 2.13,\n",
    "    Skalenparameter = 8\n",
    "    )\n",
    "H = Verteilungsfunktion(Formparameter = 2.13, Skalenparameter = 8)\n",
    "Aufgabe3a = list()\n",
    "for v in (5, 10, 15):\n",
    "    row = list()\n",
    "    row.append(\"{:3d}$\\pm$0.5\".format(v))\n",
    "    row.append('{:.2f}'.format(float(WeibullHelgoland(Geschwindigkeit = v) * 100)))\n",
    "    row.append('{:.2f}'.format(float((H(Geschwindigkeit = v+0.5)-H(Geschwindigkeit = v-0.5)) * 100)))\n",
    "    Aufgabe3a.append(row)\n",
    "tab = table(Aufgabe3a, header_row=[\"Geschwindigkeit in m/s\", \"Anteil in %\", \"Anteil im Intervall in %\"]).transpose()\n",
    "pretty_print(tab)"
   ]
  },
  {
   "cell_type": "code",
   "execution_count": 10,
   "metadata": {
    "slideshow": {
     "slide_type": "skip"
    }
   },
   "outputs": [
    {
     "data": {
      "image/png": "[encoded data removed]",
      "text/plain": [
       "Graphics object consisting of 2 graphics primitives"
      ]
     },
     "metadata": {},
     "output_type": "display_data"
    }
   ],
   "source": [
    "G = Graphics()\n",
    "T = RealDistribution('weibull', [8, 2.13])\n",
    "G += T.plot(xmin=0, xmax=20, color='red', thickness=2)\n",
    "G += histogram([T.get_random_element() for _ in range(365*24*60)],bins=20, normed=True, range=[0,20])\n",
    "G.show()\n",
    "#T.generate_histogram_data(num_samples=10000, bins=4)"
   ]
  },
  {
   "cell_type": "markdown",
   "metadata": {
    "slideshow": {
     "slide_type": "subslide"
    }
   },
   "source": [
    "#### Lösung\n",
    "Einsetzen in die gegebene Gleichung liefert folgende Ergebnisse.\n",
    "\n",
    "| Windgeschw., $\\si{m/s}$ | $5\\pm0.5$ | $10\\pm0.5$ | $15\\pm0.5$ |\n",
    "|------|------|------|------|\n",
    "| $h(v)$                  | 0.108     | 0.0686     | 0.0119     |\n",
    "\n",
    "HINWEIS: Die vorliegende Weibullverteilung ist erstellt worden, basierend auf ganzzahligen Windgeschwindigkeiten. Dies bedeutet, dass die hier berechneten Wahrscheinlichkeiten den Intervallen $5\\pm\\SI{0.5}{m/s}$, $10\\pm\\SI{0.5}{m/s}$ und $15\\pm\\SI{0.5}{m/s}$ entsprechen. Alternativ ist es ebenfalls möglich andere Intervalle zu definieren und deren Wahrscheinlichkeit zu bestimmen. Siehe dazu Teilaufgabe 3c)."
   ]
  },
  {
   "cell_type": "markdown",
   "metadata": {
    "slideshow": {
     "slide_type": "subslide"
    }
   },
   "source": [
    "#### b)\n",
    "Bei bekannten Form- und Skalenparameter kann die mittlere Windgeschwindigkeit durch\n",
    "\\begin{align*}\n",
    "  \\bar v = A \\cdot \\left( 0.568 + \\frac{0.434}{C} \\right)^{\\frac{1}{C}}\n",
    "\\end{align*}\n",
    "approximiert werden. Welche mittlere Windgeschwindigkeit kann für den Standort in Helgoland abgeschätzt werden und wie viele Stunden pro Jahr liegen die gemittelte Windgeschwindigkeiten vor?"
   ]
  },
  {
   "cell_type": "code",
   "execution_count": 11,
   "metadata": {
    "slideshow": {
     "slide_type": "fragment"
    }
   },
   "outputs": [
    {
     "data": {
      "text/html": [
       "<html><script type=\"math/tex; mode=display\">\\newcommand{\\Bold}[1]{\\mathbf{#1}}\\begin{array}{l}\n",
       "\\verb|Die|\\phantom{\\verb!x!}\\verb|Auftrtenswahrscheinlichkeit|\\phantom{\\verb!x!}\\verb|der|\\phantom{\\verb!x!}\\verb|mittleren|\\phantom{\\verb!x!}\\verb|Geschwindigkeit|\\phantom{\\verb!x!}\\verb|(7.09|\\phantom{\\verb!x!}\\verb|m/s)|\\phantom{\\verb!x!}\\verb|beträgt|\\phantom{\\verb!x!}\\verb|10.7|\\phantom{\\verb!x!}\\verb|%.|\\\\\n",
       "\\verb|Im|\\phantom{\\verb!x!}\\verb|Jahr|\\phantom{\\verb!x!}\\verb|weht|\\phantom{\\verb!x!}\\verb|der|\\phantom{\\verb!x!}\\verb|Wind|\\phantom{\\verb!x!}\\verb|etwa|\\phantom{\\verb!x!}\\verb|939|\\phantom{\\verb!x!}\\verb|Stunden|\\phantom{\\verb!x!}\\verb|mit|\\phantom{\\verb!x!}\\verb|der|\\phantom{\\verb!x!}\\verb|mittleren|\\phantom{\\verb!x!}\\verb|Windgeschwindigkeit.|\n",
       "\\end{array}</script></html>"
      ],
      "text/plain": [
       "'Die Auftrtenswahrscheinlichkeit der mittleren Geschwindigkeit (7.09 m/s) betr\\xc3\\xa4gt 10.7 %. \\nIm Jahr weht der Wind etwa 939 Stunden mit der mittleren Windgeschwindigkeit.'"
      ]
     },
     "metadata": {},
     "output_type": "display_data"
    },
    {
     "data": {
      "text/html": [
       "<html><script type=\"math/tex; mode=display\">\\newcommand{\\Bold}[1]{\\mathbf{#1}}\\verb|Mit|\\phantom{\\verb!x!}\\verb|der|\\phantom{\\verb!x!}\\verb|gegebenen|\\phantom{\\verb!x!}\\verb|Formel|\\phantom{\\verb!x!}\\verb|ergibt|\\phantom{\\verb!x!}\\verb|sich|\\phantom{\\verb!x!}\\verb|eine|\\phantom{\\verb!x!}\\verb|mittlere|\\phantom{\\verb!x!}\\verb|Geschwindigkeit|\\phantom{\\verb!x!}\\verb|von|\\phantom{\\verb!x!}\\verb|7.08|\\phantom{\\verb!x!}\\verb|m/s.|</script></html>"
      ],
      "text/plain": [
       "'Mit der gegebenen Formel ergibt sich eine mittlere Geschwindigkeit von 7.08 m/s.'"
      ]
     },
     "metadata": {},
     "output_type": "display_data"
    }
   ],
   "source": [
    "mittlereGeschwindigkeit = integral_numerical(Geschwindigkeit * WeibullHelgoland, 0, 100)[0]\n",
    "Wahrscheinlichkeit = WeibullHelgoland(Geschwindigkeit = mittlereGeschwindigkeit)\n",
    "Stunden = Wahrscheinlichkeit * Jahr / Stunde\n",
    "Loesung1 =  \"\"\"Die Auftrtenswahrscheinlichkeit der mittleren Geschwindigkeit ({:.2f} m/s) beträgt {:.1f} %. \n",
    "Im Jahr weht der Wind etwa {:d} Stunden mit der mittleren Windgeschwindigkeit.\"\"\".format(\n",
    "    float(mittlereGeschwindigkeit),\n",
    "    float(Wahrscheinlichkeit * 100),\n",
    "    int(Stunden)\n",
    ")\n",
    "Loesung2 = 'Mit der gegebenen Formel ergibt sich eine mittlere Geschwindigkeit von {:.2f} m/s.'.format(\n",
    "    float((Skalenparameter * (0.568 + 0.434 / Formparameter)**(1/Formparameter))(Skalenparameter = 8, Formparameter = 2.13))\n",
    ")\n",
    "pretty_print(Loesung1)\n",
    "pretty_print(Loesung2)"
   ]
  },
  {
   "cell_type": "code",
   "execution_count": 12,
   "metadata": {
    "slideshow": {
     "slide_type": "skip"
    }
   },
   "outputs": [
    {
     "data": {
      "text/html": [
       "<html><script type=\"math/tex; mode=display\">\\newcommand{\\Bold}[1]{\\mathbf{#1}}-e^{\\left(-\\mathit{Skalenparameter}^{-\\mathit{Formparameter}} e^{\\left(\\mathit{Formparameter} \\log\\left(1000\\right)\\right)}\\right)} + 1</script></html>"
      ],
      "text/plain": [
       "-e^(-Skalenparameter^(-Formparameter)*e^(Formparameter*log(1000))) + 1"
      ]
     },
     "metadata": {},
     "output_type": "display_data"
    }
   ],
   "source": [
    "assume(Skalenparameter>0)\n",
    "assume(Formparameter>0)\n",
    "Formel = Wahrscheinlichkeitsdichte.integrate(Geschwindigkeit,0,1000).expand()\n",
    "pretty_print(Formel)"
   ]
  },
  {
   "cell_type": "markdown",
   "metadata": {
    "slideshow": {
     "slide_type": "subslide"
    }
   },
   "source": [
    "#### Lösung\n",
    "Einsetzen liefert $\\bar v = \\SI{7.08}{m/s}$. Die Wahrscheinlichkeit konkrete Windgeschwindigkeiten für $\\SI{7}{m/s}$ liegt bei $h(v=\\SI{7}{m/s}) = \\SI{10.8}{\\%}$.\n",
    "\n",
    "HINWEIS: Explizite Werte, wie $\\bar v = \\SI{7.08}{m/s}$ können mithilfe der gegeben Gleichung nicht bewertet werden, sondern nur Intervalle. In diesem Fall liegt die errechnete Windgeschwindigkeit im Bereich von $h(v= 7\\pm\\SI{0.5}{m/s})$. Daraus lässt sich eine Zeit von $t=0.108\\cdot\\SI{8760}{h}=\\SI{945}{h}$ abschätzen."
   ]
  },
  {
   "cell_type": "markdown",
   "metadata": {
    "slideshow": {
     "slide_type": "subslide"
    }
   },
   "source": [
    "#### c)\n",
    "Die Verteilungsfunktion der Weibullverteilung gibt an, wie wahrscheinlich Windgeschwindigkeiten $v_0 \\leq v$ auftreten. Bestimme die Häufigkeit von Windgeschwindigkeiten im Bereich von $5$ bis $\\SI{10}{m/s}$, von $10$ bis $\\SI{15}{m/s}$ und von $15$ bis $\\SI{20}{m/s}$."
   ]
  },
  {
   "cell_type": "code",
   "execution_count": 13,
   "metadata": {
    "slideshow": {
     "slide_type": "fragment"
    }
   },
   "outputs": [
    {
     "data": {
      "text/html": [
       "<div class=\"notruncate\">\n",
       "<table  class=\"table_form\">\n",
       "<tbody>\n",
       "<tr class =\"row-a\">\n",
       "<td class=\"ch\">Intervall in m/s</td>\n",
       "<td> 5...10</td>\n",
       "<td>10...15</td>\n",
       "<td>15...20</td>\n",
       "</tr>\n",
       "<tr class =\"row-b\">\n",
       "<td class=\"ch\">Anteil in %</td>\n",
       "<td>49.2</td>\n",
       "<td>17.8</td>\n",
       "<td> 2.1</td>\n",
       "</tr>\n",
       "</tbody>\n",
       "</table>\n",
       "</div>"
      ],
      "text/plain": [
       "  Intervall in m/s |  5...10   10...15   15...20\n",
       "  Anteil in %      | 49.2      17.8       2.1"
      ]
     },
     "metadata": {},
     "output_type": "display_data"
    }
   ],
   "source": [
    "H = Verteilungsfunktion(Formparameter = 2.13, Skalenparameter = 8)\n",
    "Aufgabe3c = list()\n",
    "for v in (5, 10, 15):\n",
    "    row = list()\n",
    "    row.append('{:2d}...{:d}'.format(v,int(v + 5)))\n",
    "    row.append('{:4.1f}'.format(float((H(Geschwindigkeit = v + 5) - H(Geschwindigkeit = v)) * 100 )))\n",
    "    Aufgabe3c.append(row)\n",
    "tab = table(Aufgabe3c, header_row=[\"Intervall in m/s\", \"Anteil in %\"]).transpose()\n",
    "pretty_print(tab)"
   ]
  },
  {
   "cell_type": "markdown",
   "metadata": {
    "slideshow": {
     "slide_type": "subslide"
    }
   },
   "source": [
    "#### Lösung\n",
    "Einsetzen und Bilden der Differenzen auf Grundlage der Stammfunktion $H(v+5) - H(v)$ liefert die drei Häufigkeiten\n",
    "\n",
    "| Windgeschwindigkeiten in $\\si{m/s}$ \t| 5..10\t\t| 10..15\t| 15..20\t|\n",
    "| ----- | ----- | ------ | ----- |\n",
    "| $h(v)$                                | $0.492$   \t| $0.175$ \t| $0.0212$\t|\n",
    "\n",
    "**HINWEIS**: Falls die Formel von $H(v)$ nicht zur Hand liegt, können die Werte auch durch Aufsummieren der Einzelwerte oder dem Integral im gegebenen Intervall von $h(v)$ approximiert werden."
   ]
  },
  {
   "cell_type": "markdown",
   "metadata": {
    "slideshow": {
     "slide_type": "subslide"
    }
   },
   "source": [
    "#### d)\n",
    "Bestimme den Jahresenergieertrag einer Anlage mit Rotordurchmesser $d = \\SI{82}{m}$ und einem Leistungsbeiwert $c_p = {0.5}$ \n",
    "bei einer Luftdichte von $\\rho = \\SI{1.2}{kg/m^3}$ unter der Annahme einer mittleren Windgeschwindigkeit aus Teilaufgabe b).\n",
    "Berechne für die gleiche Anlage den Jahresenergieertrag unter der Annahme der Häufigkeiten aus Teilaufgabe c). Approximiere dabei die Windgeschwindigkeiten der Intervalle durch deren Mittelwert und gehe davon aus, dass für Windgeschwindigkeiten unter $\\SI{5}{m/s}$ und über $\\SI{20}{m/s}$ keine Energieentnahme aus dem Wind erfolgen kann. Diskutiere den Unterschied der beiden berechneten Jahresenergieerträge."
   ]
  },
  {
   "cell_type": "code",
   "execution_count": 14,
   "metadata": {
    "slideshow": {
     "slide_type": "subslide"
    }
   },
   "outputs": [
    {
     "data": {
      "text/html": [
       "<html><script type=\"math/tex; mode=display\">\\newcommand{\\Bold}[1]{\\mathbf{#1}}\\verb|Bei|\\phantom{\\verb!x!}\\verb|konstanter|\\phantom{\\verb!x!}\\verb|mittlerer|\\phantom{\\verb!x!}\\verb|Windgeschwindigkeit|\\phantom{\\verb!x!}\\verb|(7.09|\\phantom{\\verb!x!}\\verb|m/s)|\\phantom{\\verb!x!}\\verb|ergibt|\\phantom{\\verb!x!}\\verb|sich|\\phantom{\\verb!x!}\\verb|eine|\\phantom{\\verb!x!}\\verb|Energiemenge|\\phantom{\\verb!x!}\\verb|von|\\phantom{\\verb!x!}\\verb|4.936|\\phantom{\\verb!x!}\\verb|GWh.|</script></html>"
      ],
      "text/plain": [
       "'Bei konstanter mittlerer Windgeschwindigkeit (7.09 m/s) ergibt sich eine Energiemenge von 4.936 GWh.'"
      ]
     },
     "metadata": {},
     "output_type": "display_data"
    }
   ],
   "source": [
    "Eins = Joule / (kg * Meter**2 / Sekunde**2)\n",
    "LeistungHelgoland = LeistungWind(\n",
    "    Dichte = 1.2 * kg / Meter**3,\n",
    "    RotorRadius = 82 * Meter / 2,\n",
    "    Leistungsbeiwert = 0.5\n",
    ") * Eins\n",
    "\n",
    "EnergieKonstant = LeistungHelgoland(Geschwindigkeit = mittlereGeschwindigkeit * Meter / Sekunde) * Jahr\n",
    "\n",
    "Ergebnis = 'Bei konstanter mittlerer Windgeschwindigkeit ({:.2f} m/s) ergibt sich eine Energiemenge von {:.3f} GWh.'. format(\n",
    "    float(mittlereGeschwindigkeit),\n",
    "    float(EnergieKonstant / GWh)\n",
    ")\n",
    "pretty_print(Ergebnis)"
   ]
  },
  {
   "cell_type": "code",
   "execution_count": 15,
   "metadata": {
    "slideshow": {
     "slide_type": "subslide"
    }
   },
   "outputs": [
    {
     "data": {
      "text/html": [
       "<html><script type=\"math/tex; mode=display\">\\newcommand{\\Bold}[1]{\\mathbf{#1}}\\verb|Wird|\\phantom{\\verb!x!}\\verb|die|\\phantom{\\verb!x!}\\verb|Windgeschwindigkeitsverteilung|\\phantom{\\verb!x!}\\verb|in|\\phantom{\\verb!x!}\\verb|drei|\\phantom{\\verb!x!}\\verb|Intervalle|\\phantom{\\verb!x!}\\verb|eingeteilt,|\\phantom{\\verb!x!}\\verb|ergibt|\\phantom{\\verb!x!}\\verb|sich|\\phantom{\\verb!x!}\\verb|eine|\\phantom{\\verb!x!}\\verb|Energie|\\phantom{\\verb!x!}\\verb|von|\\phantom{\\verb!x!}\\verb|9.286|\\phantom{\\verb!x!}\\verb|GWh.|</script></html>"
      ],
      "text/plain": [
       "'Wird die Windgeschwindigkeitsverteilung in drei Intervalle eingeteilt, ergibt sich eine Energie von 9.286 GWh.'"
      ]
     },
     "metadata": {},
     "output_type": "display_data"
    },
    {
     "data": {
      "text/html": [
       "<div class=\"notruncate\">\n",
       "<table  class=\"table_form\">\n",
       "<tbody>\n",
       "<tr class =\"row-a\">\n",
       "<td class=\"ch\">Intervall in m/s</td>\n",
       "<td> 5...10</td>\n",
       "<td>10...15</td>\n",
       "<td>15...20</td>\n",
       "</tr>\n",
       "<tr class =\"row-b\">\n",
       "<td class=\"ch\">Mittelwert in m/s</td>\n",
       "<td> 7.5</td>\n",
       "<td>12.5</td>\n",
       "<td>17.5</td>\n",
       "</tr>\n",
       "<tr class =\"row-a\">\n",
       "<td class=\"ch\">Stunden</td>\n",
       "<td>4312.5</td>\n",
       "<td>1560.6</td>\n",
       "<td>185.4</td>\n",
       "</tr>\n",
       "<tr class =\"row-b\">\n",
       "<td class=\"ch\">Energieertrag in MWh</td>\n",
       "<td>2882.4</td>\n",
       "<td>4829.1</td>\n",
       "<td>1574.1</td>\n",
       "</tr>\n",
       "</tbody>\n",
       "</table>\n",
       "</div>"
      ],
      "text/plain": [
       "  Intervall in m/s     |  5...10   10...15   15...20\n",
       "  Mittelwert in m/s    |  7.5      12.5      17.5\n",
       "  Stunden              | 4312.5    1560.6    185.4\n",
       "  Energieertrag in MWh | 2882.4    4829.1    1574.1"
      ]
     },
     "metadata": {},
     "output_type": "display_data"
    }
   ],
   "source": [
    "GesamtEnergie = 0\n",
    "Aufgabe3d = list()\n",
    "for v in (5, 10, 15):\n",
    "    Stunden = (H(Geschwindigkeit = v + 5) - H(Geschwindigkeit = v)) * Jahr\n",
    "    Energie = LeistungHelgoland(Geschwindigkeit = (v + 2.5) * Meter / Sekunde) * Stunden\n",
    "    GesamtEnergie += Energie / GWh\n",
    "    row = list()\n",
    "    row.append('{:2d}...{:d}'.format(v,int(v + 5)))\n",
    "    row.append('{:4.1f}'.format(float(v + 2.5)))\n",
    "    row.append('{:4.1f}'.format(float(Stunden / Stunde)))\n",
    "    row.append('{:4.1f}'.format(float(Energie / MWh)))\n",
    "    Aufgabe3d.append(row)\n",
    "    \n",
    "pretty_print('Wird die Windgeschwindigkeitsverteilung in drei Intervalle eingeteilt, ergibt sich eine Energie von {:.3f} GWh.'.format(\n",
    "    float(GesamtEnergie)\n",
    "))\n",
    "tab = table(Aufgabe3d, header_row=[\"Intervall in m/s\", \"Mittelwert in m/s\", \"Stunden\", \"Energieertrag in MWh\"]).transpose()\n",
    "pretty_print(tab)"
   ]
  },
  {
   "cell_type": "code",
   "execution_count": 16,
   "metadata": {
    "slideshow": {
     "slide_type": "subslide"
    }
   },
   "outputs": [
    {
     "data": {
      "text/html": [
       "<html><script type=\"math/tex; mode=display\">\\newcommand{\\Bold}[1]{\\mathbf{#1}}\\verb|Bei|\\phantom{\\verb!x!}\\verb|variabler|\\phantom{\\verb!x!}\\verb|Windgeschwindigkeit|\\phantom{\\verb!x!}\\verb|ergibt|\\phantom{\\verb!x!}\\verb|sich|\\phantom{\\verb!x!}\\verb|eine|\\phantom{\\verb!x!}\\verb|Energiemenge|\\phantom{\\verb!x!}\\verb|von|\\phantom{\\verb!x!}\\verb|8.553|\\phantom{\\verb!x!}\\verb|GWh.|</script></html>"
      ],
      "text/plain": [
       "'Bei variabler Windgeschwindigkeit ergibt sich eine Energiemenge von 8.553 GWh.'"
      ]
     },
     "metadata": {},
     "output_type": "display_data"
    }
   ],
   "source": [
    "vmps = var('vmps')\n",
    "EnergieVariabel = integral_numerical(\n",
    "    LeistungHelgoland(\n",
    "        Geschwindigkeit = vmps * Meter / Sekunde\n",
    "    ) * WeibullHelgoland(Geschwindigkeit = vmps) * Jahr / GWh,\n",
    "    5, \n",
    "    20\n",
    ")[0]\n",
    "\n",
    "Loesung = 'Bei variabler Windgeschwindigkeit ergibt sich eine Energiemenge von {:.3f} GWh.'. format(\n",
    "    float(EnergieVariabel)\n",
    ")\n",
    "pretty_print(Loesung)"
   ]
  },
  {
   "cell_type": "markdown",
   "metadata": {
    "slideshow": {
     "slide_type": "subslide"
    }
   },
   "source": [
    "#### Lösung\n",
    "Im ersten Fall ist die Geschwindigkeit konstant und es ergibt somit für $\\Delta t=\\SI{8760}{h}$\n",
    "\n",
    "\\begin{align*}\n",
    "    E(\\bar v) \n",
    "        = c_p\\cdot \\frac{\\rho}{2} A \\bar{v}^3 \\cdot \\Delta t\n",
    "        = 0.5 \\cdot \\frac{1.2\\si{kg/m^3}}{2} \\cdot \\pi \\frac{(\\SI{82}{m})^2}{4} \\cdot (\\SI{7.08}{m/s})^3 \\cdot \\SI{8760}{h} \n",
    "        = \\SI{4.925}{GWh}.\n",
    "\\end{align*}\n",
    "\n",
    "Im zweiten Fall existieren einzelne Windgeschwindigkeiten gemäß ihrer Häufigkeit. Demnach weht $\\SI{49.2}{\\%}$ des Jahres ein Wind mit einer Windstärke von circa $\\SI{7.5}{m/s}$\n",
    "\n",
    "\n",
    "| Windgeschw., $\\si{m/s}$  \t| 5..10\t\t| 10..15\t| 15..20\t|\n",
    "| ------ | ------ | -------- | -------- |\n",
    "| $\\bar v_i$, $\\si{m/s}$\t\t\t\t\t| 7.5\t\t| 12.5\t\t| 17.5\t\t|\n",
    "| $\\Delta t_i$, $\\si{h}$     \t\t\t\t| 4309.9   \t| 1533.0 \t| 185.7\t\t|\n",
    "| $E_i$, $\\si{MWh}$\t\t\t\t\t\t| 2880.7   \t| 4743.6\t| 1576.9\t|\n",
    "\n",
    "\\begin{align*}\n",
    "    \\bar E(v) = \\sum_{i=1}^3 c_p \\cdot \\frac{\\rho}{2} A v_i^3 \\cdot \\Delta t_i = \\SI{9.201}{GWh}.\n",
    "\\end{align*}\n",
    "\n",
    "Erklärung der Abweichung beider Ergebnisse: der nichtlinearer Zusammenhang zwischen Windgeschwindigkeit und entnommener Energie ($E \\sim v^3 $) führt zu Fehlern bei Verwendung linear gemittelter Abhängigkeiten."
   ]
  },
  {
   "cell_type": "markdown",
   "metadata": {
    "slideshow": {
     "slide_type": "slide"
    }
   },
   "source": [
    "### 4.\n",
    "Die Kosten einer Windkraftanlage betragen $\\SI{1150}{€}$ pro $\\si{kW}$ installierter Leistung (Anlagen im $\\si{MW}$ Bereich bei einer Turmhöhe über $\\SI{100}{m}$). \n",
    "Für Fundament, Netzanbindung und sonstige Kosten fallen weitere $\\SI{35}{\\%}$ der Anlagenkosten an. \n",
    "Die jährlichen Betriebskosten der Anlage liegen bei circa $\\SI{3}{\\%}$ der gesamten Anlageninvestition. \n",
    "Aus gegenwärtiger Sicht liegt die Betriebsdauer der Windkraftanlage bei $20$ Jahren. Es kann Näherungsweise von einem Zinssatz von $\\SI{3.5}{\\%}$ ausgegangen werden."
   ]
  },
  {
   "cell_type": "code",
   "execution_count": 17,
   "metadata": {
    "slideshow": {
     "slide_type": "subslide"
    }
   },
   "outputs": [],
   "source": [
    "# Einheiten\n",
    "Euro = var('Euro')\n",
    "ct = Euro / 100\n",
    "\n",
    "# Kosten\n",
    "Anlagenkosten = 1150 * Euro / (1000 * Watt)\n",
    "AnteilInstallation = 0.35\n",
    "AnteilBetrieb = 0.03 / Jahr\n",
    "\n",
    "# Investionskosten\n",
    "InstallierteLeistung = var('InstallierteLeistung')\n",
    "Investitionskosten = InstallierteLeistung * Anlagenkosten * (1 + AnteilInstallation)\n",
    "\n",
    "# Annuitäten und Gesamtkosten\n",
    "Zins = 0.035\n",
    "Dauer = 20\n",
    "Zinssatz = var('Zinssatz')\n",
    "Lebensdauer = var('Lebensdauer')\n",
    "Annuitaet = Investitionskosten * Zinssatz * (1 + Zinssatz)**Lebensdauer / ((1 + Zinssatz)**Lebensdauer - 1) / Jahr\n",
    "Gesamtkosten = Annuitaet * Lebensdauer * Jahr"
   ]
  },
  {
   "cell_type": "markdown",
   "metadata": {
    "slideshow": {
     "slide_type": "subslide"
    }
   },
   "source": [
    "#### a)\n",
    "Wie hoch liegen die Gesamtinvestitionen eines potentiellen Investors, wenn ein Windpark aus zehn $\\SI{5}{MW}$-Anlagen errichtet werden soll."
   ]
  },
  {
   "cell_type": "code",
   "execution_count": 18,
   "metadata": {
    "slideshow": {
     "slide_type": "fragment"
    }
   },
   "outputs": [
    {
     "data": {
      "text/html": [
       "<html><script type=\"math/tex; mode=display\">\\newcommand{\\Bold}[1]{\\mathbf{#1}}\\verb|Die|\\phantom{\\verb!x!}\\verb|Investitionskosten|\\phantom{\\verb!x!}\\verb|liegen|\\phantom{\\verb!x!}\\verb|bei|\\phantom{\\verb!x!}\\verb|77.625|\\phantom{\\verb!x!}\\verb|Mio.|\\phantom{\\verb!x!}\\verb|€|</script></html>"
      ],
      "text/plain": [
       "'Die Investitionskosten liegen bei 77.625 Mio. \\xe2\\x82\\xac'"
      ]
     },
     "metadata": {},
     "output_type": "display_data"
    }
   ],
   "source": [
    "LeistungPark = 10 * 5 * 1e+6 * Watt\n",
    "KInv = Investitionskosten(InstallierteLeistung = LeistungPark)\n",
    "Loesung = 'Die Investitionskosten liegen bei {:.3f} Mio. €'.format(float(KInv / (1e+6*Euro)))\n",
    "pretty_print(Loesung)"
   ]
  },
  {
   "cell_type": "markdown",
   "metadata": {
    "slideshow": {
     "slide_type": "skip"
    }
   },
   "source": [
    "#### Lösung\n",
    "Es werden die Parkkosten $+ \\SI{35}{\\%}$ berechnet. \n",
    "Wichtig hierbei ist, dass die Betriebskosten nicht zu den Investitionskosten gerechnet werden, da diese von den späteren Einnahmen gedeckt werden. \n",
    "Die Investitionskosten betragen:\n",
    "\n",
    "\\begin{align*}\n",
    "    K_\\mathrm{Inv} \n",
    "        = 10 \\cdot \\SI{5000}{kW} \\cdot \\SI{1150}{€/kW} \\cdot 1.35 \n",
    "        = \\SI{77.625}{M€}\n",
    "\\end{align*}"
   ]
  },
  {
   "cell_type": "markdown",
   "metadata": {
    "slideshow": {
     "slide_type": "subslide"
    }
   },
   "source": [
    "#### b)\n",
    "Wie hoch sind die daraus resultierenden jährlichen Kosten im Verlauf der Betriebsdauer, wenn die Kostenbetrachtung auf Grundlage der Annuitätenmethode."
   ]
  },
  {
   "cell_type": "code",
   "execution_count": 19,
   "metadata": {
    "slideshow": {
     "slide_type": "fragment"
    }
   },
   "outputs": [
    {
     "data": {
      "text/html": [
       "<div class=\"notruncate\">\n",
       "<table  class=\"table_form\">\n",
       "<tbody>\n",
       "<tr class =\"row-a\">\n",
       "<td class=\"ch\">Annuitäten in Mio. €/a</td>\n",
       "<td>5.462</td>\n",
       "</tr>\n",
       "<tr class =\"row-b\">\n",
       "<td class=\"ch\">Jährliche Kosten in Mio. €/a</td>\n",
       "<td>7.791</td>\n",
       "</tr>\n",
       "</tbody>\n",
       "</table>\n",
       "</div>"
      ],
      "text/plain": [
       "  Annuitäten in Mio. €/a       | 5.462\n",
       "  Jährliche Kosten in Mio. €/a | 7.791"
      ]
     },
     "metadata": {},
     "output_type": "display_data"
    }
   ],
   "source": [
    "a = Annuitaet(InstallierteLeistung = 10 * 5 * 1e+6 * Watt, Zinssatz = Zins, Lebensdauer = Dauer)\n",
    "\n",
    "Aufgabe4b = list()\n",
    "row = list()\n",
    "row.append('{:.3f}'.format(float(a / (1e+6 * Euro / Jahr))))\n",
    "row.append('{:.3f}'.format(float( (a + KInv * AnteilBetrieb) / (1e+6 * Euro / Jahr))))\n",
    "Aufgabe4b.append(row)\n",
    "tab = table(Aufgabe4b, header_row=[\"Annuitäten in Mio. €/a\", \"Jährliche Kosten in Mio. €/a\"]).transpose()\n",
    "pretty_print(tab)"
   ]
  },
  {
   "cell_type": "markdown",
   "metadata": {
    "slideshow": {
     "slide_type": "subslide"
    }
   },
   "source": [
    "#### Lösung\n",
    "Die Investitionskosten liefern eine Annuität von\n",
    "\n",
    "\\begin{align*}\n",
    "    a = \\SI{77.625}{M€} \\cdot \\frac{0.035 \\cdot (1.035)^{20}}{(1.035)^{20} - 1} = a = \\SI{5.462}{M€}\n",
    "\\end{align*}\n",
    "\n",
    "Hierzu werden nun die jährlichen Betriebskosten addiert\n",
    "\n",
    "\\begin{align*}\n",
    "    K_\\mathrm{Jahr} = a + 0.03\\cdot K_\\mathrm{Inv} = \\SI{7.791}{M€}\n",
    "\\end{align*}\n",
    "\n",
    "um die jährlichen Gesamtkosten in Höhe von $\\SI{7.791}{M€}$ zu erhalten."
   ]
  },
  {
   "cell_type": "markdown",
   "metadata": {
    "slideshow": {
     "slide_type": "subslide"
    }
   },
   "source": [
    "#### c)\n",
    "Wie hoch ist der jährlich zu erwartende Energieertrag des Windparks, wenn an dem potentiellen Standort mit $1000$, $1700$ bzw. $2350$ Vollaststunden gerechnet werden kann?"
   ]
  },
  {
   "cell_type": "code",
   "execution_count": 20,
   "metadata": {
    "slideshow": {
     "slide_type": "fragment"
    }
   },
   "outputs": [
    {
     "data": {
      "text/html": [
       "<div class=\"notruncate\">\n",
       "<table  class=\"table_form\">\n",
       "<tbody>\n",
       "<tr class =\"row-a\">\n",
       "<td class=\"ch\">Volllastunden</td>\n",
       "<td>1000</td>\n",
       "<td>1700</td>\n",
       "<td>2350</td>\n",
       "</tr>\n",
       "<tr class =\"row-b\">\n",
       "<td class=\"ch\">Energieertrag in MWh</td>\n",
       "<td> 50000</td>\n",
       "<td> 85000</td>\n",
       "<td>117500</td>\n",
       "</tr>\n",
       "</tbody>\n",
       "</table>\n",
       "</div>"
      ],
      "text/plain": [
       "  Volllastunden        | 1000     1700     2350\n",
       "  Energieertrag in MWh |  50000    85000   117500"
      ]
     },
     "execution_count": 20,
     "metadata": {},
     "output_type": "execute_result"
    }
   ],
   "source": [
    "Aufgabe4c = list()\n",
    "for t in (1000, 1700, 2350):\n",
    "    row = list()\n",
    "    row.append('{:d}'.format(t))\n",
    "    row.append('{:6d}'.format(int(LeistungPark * t * Stunde / MWh)))\n",
    "    Aufgabe4c.append(row)\n",
    "\n",
    "table(Aufgabe4c, header_row=[\"Volllastunden\", \"Energieertrag in MWh\"]).transpose()"
   ]
  },
  {
   "cell_type": "markdown",
   "metadata": {
    "slideshow": {
     "slide_type": "subslide"
    }
   },
   "source": [
    "#### Lösung\n",
    "Es gilt die Gleichung $E = P \\cdot \\Delta t$. Damit ergeben sich für die Einzelnen Vollaststundenwerte\n",
    "\n",
    "| Vollaststunden in Stunden  | $1000$ | $1700$ | $2350$\t\t|\n",
    "| --- | --- | --- | ---- |\n",
    "| Energieertrag in $\\si{MWh}$  | $50000$ | $85000$ | $117500$\t|"
   ]
  },
  {
   "cell_type": "markdown",
   "metadata": {
    "slideshow": {
     "slide_type": "subslide"
    }
   },
   "source": [
    "#### d)\n",
    "Welche Stromgestehungskosten resultieren daraus? Wie hoch ist der dabei der Anteil der Betriebskosten?"
   ]
  },
  {
   "cell_type": "code",
   "execution_count": 21,
   "metadata": {
    "slideshow": {
     "slide_type": "fragment"
    }
   },
   "outputs": [
    {
     "data": {
      "text/html": [
       "<div class=\"notruncate\">\n",
       "<table  class=\"table_form\">\n",
       "<tbody>\n",
       "<tr class =\"row-a\">\n",
       "<td class=\"ch\">Volllaststunden</td>\n",
       "<td>1000</td>\n",
       "<td>1700</td>\n",
       "<td>2350</td>\n",
       "</tr>\n",
       "<tr class =\"row-b\">\n",
       "<td class=\"ch\">Stromgestehungskosten in Euro/MWh</td>\n",
       "<td>155.8</td>\n",
       "<td>91.7</td>\n",
       "<td>66.3</td>\n",
       "</tr>\n",
       "<tr class =\"row-a\">\n",
       "<td class=\"ch\">Stromgestehungskosten in ct/kWh</td>\n",
       "<td>15.6</td>\n",
       "<td> 9.2</td>\n",
       "<td> 6.6</td>\n",
       "</tr>\n",
       "<tr class =\"row-b\">\n",
       "<td class=\"ch\">Anteil der Betriebskosten an Stromgestehungskosten in ct/kWh</td>\n",
       "<td>4.66</td>\n",
       "<td>2.74</td>\n",
       "<td>1.98</td>\n",
       "</tr>\n",
       "</tbody>\n",
       "</table>\n",
       "</div>"
      ],
      "text/plain": [
       "  Volllaststunden                                              | 1000    1700   2350\n",
       "  Stromgestehungskosten in Euro/MWh                            | 155.8   91.7   66.3\n",
       "  Stromgestehungskosten in ct/kWh                              | 15.6     9.2    6.6\n",
       "  Anteil der Betriebskosten an Stromgestehungskosten in ct/kWh | 4.66    2.74   1.98"
      ]
     },
     "execution_count": 21,
     "metadata": {},
     "output_type": "execute_result"
    }
   ],
   "source": [
    "Aufgabe4d = list()\n",
    "for i in range(len(Aufgabe4c)):\n",
    "    t = Aufgabe4c[i][0]\n",
    "    #Energieertrag = Aufgabe4c[i][1]\n",
    "    Energieertrag = Integer(Aufgabe4c[i][1]) * MWh\n",
    "    Kosten = (a + KInv * AnteilBetrieb) * Jahr\n",
    "    row = list()\n",
    "    row.append('{:d}'.format(int(t)))\n",
    "    row.append('{:4.1f}'.format(float(Kosten / Energieertrag / (Euro / MWh))))\n",
    "    row.append('{:4.1f}'.format(float(Kosten / Energieertrag / (ct / kWh))))\n",
    "    row.append('{:4.2f}'.format(float(KInv * AnteilBetrieb * Jahr / Energieertrag / (ct / kWh))))\n",
    "    Aufgabe4d.append(row)\n",
    "\n",
    "header_row = [\"Volllaststunden\",\n",
    "             \"Stromgestehungskosten in Euro/MWh\",\n",
    "             \"Stromgestehungskosten in ct/kWh\",\n",
    "             \"Anteil der Betriebskosten an Stromgestehungskosten in ct/kWh\"]\n",
    "table(Aufgabe4d, header_row=header_row).transpose()"
   ]
  },
  {
   "cell_type": "markdown",
   "metadata": {
    "slideshow": {
     "slide_type": "subslide"
    }
   },
   "source": [
    "#### Lösung\n",
    "Die Angabe sollte Grundsätzlich in $\\si{ct/kWh}$ oder $\\si{€/MWh}$ erfolgen. Es muss der Quotient aus jährlichen Betriebskosten und Energieertrag $(K_\\mathrm{Jahr}/E)$ gebildet werden. Für die Betrachtung des Anteils der Betriebskosten, wird deren Quotient mit dem Energieertrag $(0.03 \\cdot K_\\mathrm{Inv}/E)$ betrachtet."
   ]
  },
  {
   "cell_type": "code",
   "execution_count": 22,
   "metadata": {
    "slideshow": {
     "slide_type": "-"
    }
   },
   "outputs": [
    {
     "data": {
      "text/html": [
       "<div class=\"notruncate\">\n",
       "<table  class=\"table_form\">\n",
       "<tbody>\n",
       "<tr class =\"row-a\">\n",
       "<td class=\"ch\">Volllaststunden</td>\n",
       "<td>1000</td>\n",
       "<td>1700</td>\n",
       "<td>2350</td>\n",
       "</tr>\n",
       "<tr class =\"row-b\">\n",
       "<td class=\"ch\">Stromgestehungskosten in Euro/MWh</td>\n",
       "<td>155.8</td>\n",
       "<td>91.7</td>\n",
       "<td>66.3</td>\n",
       "</tr>\n",
       "<tr class =\"row-a\">\n",
       "<td class=\"ch\">Stromgestehungskosten in ct/kWh</td>\n",
       "<td>15.6</td>\n",
       "<td> 9.2</td>\n",
       "<td> 6.6</td>\n",
       "</tr>\n",
       "<tr class =\"row-b\">\n",
       "<td class=\"ch\">Anteil der Betriebskosten an Stromgestehungskosten in ct/kWh</td>\n",
       "<td>4.66</td>\n",
       "<td>2.74</td>\n",
       "<td>1.98</td>\n",
       "</tr>\n",
       "</tbody>\n",
       "</table>\n",
       "</div>"
      ],
      "text/plain": [
       "  Volllaststunden                                              | 1000    1700   2350\n",
       "  Stromgestehungskosten in Euro/MWh                            | 155.8   91.7   66.3\n",
       "  Stromgestehungskosten in ct/kWh                              | 15.6     9.2    6.6\n",
       "  Anteil der Betriebskosten an Stromgestehungskosten in ct/kWh | 4.66    2.74   1.98"
      ]
     },
     "execution_count": 22,
     "metadata": {},
     "output_type": "execute_result"
    }
   ],
   "source": [
    "Loesung4d = [ \n",
    "    [ 1000, 1700, 2350 ],\n",
    "    [ 155.8, 91.66, 66.31 ],\n",
    "    [ 15.6, 9.17, 6.63 ],\n",
    "    [ 4.66, 2.74, 1.98 ]\n",
    "    ]\n",
    "table(Aufgabe4d, header_row=header_row).transpose()"
   ]
  },
  {
   "cell_type": "markdown",
   "metadata": {
    "slideshow": {
     "slide_type": "slide"
    }
   },
   "source": [
    "### Zusatz\n",
    "Der maximale Leistungsbeiwert einer Windkraftanlage wird nur bei optimaler Schnelllaufzahl $\\lambda = \\tfrac{u}{v}$ erreicht. Dabei kann die Umlaufgeschwindigkeit $u$ aus Rotordurchmesser $d$ und Rotordrehzahl $n$ mittels $u = \\pi \\cdot d \\cdot n$ berechnet werden. Bestimme für einen Rotor mit $\\SI{44}{m}$ Durchmesser, einer Drehzahl von $\\SI{28}{{min}^{-1}}$ und einer optimalen Schnelllaufzahl von $\\lambda_\\mathrm{opt} = 7.5$ die Auslegungsgeschwindigkeit."
   ]
  },
  {
   "cell_type": "code",
   "execution_count": 23,
   "metadata": {
    "slideshow": {
     "slide_type": "skip"
    }
   },
   "outputs": [],
   "source": [
    "Schnelllaufzahl = var('Schnelllaufzahl')\n",
    "Umlaufgeschwindigkeit = var('Umlaufgeschwindigkeit')\n",
    "Auslegungsgeschwindigkeit = var('Auslegungsgeschwindigkeit')\n",
    "RotorDurchmesser = var('RotorDurchmesser')\n",
    "Drehzahl = var('Drehzahl')"
   ]
  },
  {
   "cell_type": "code",
   "execution_count": 24,
   "metadata": {
    "slideshow": {
     "slide_type": "fragment"
    }
   },
   "outputs": [
    {
     "data": {
      "text/html": [
       "<html><script type=\"math/tex; mode=display\">\\newcommand{\\Bold}[1]{\\mathbf{#1}}\\verb|Die|\\phantom{\\verb!x!}\\verb|Auslegungsgeschwindigkeit|\\phantom{\\verb!x!}\\verb|beträgt|\\phantom{\\verb!x!}\\verb|8.6|\\phantom{\\verb!x!}\\verb|m/s.|</script></html>"
      ],
      "text/plain": [
       "'Die Auslegungsgeschwindigkeit betr\\xc3\\xa4gt 8.6 m/s.'"
      ]
     },
     "metadata": {},
     "output_type": "display_data"
    }
   ],
   "source": [
    "Gleichung1 = Schnelllaufzahl == Umlaufgeschwindigkeit / Auslegungsgeschwindigkeit\n",
    "Gleichung2 = Umlaufgeschwindigkeit == pi * RotorDurchmesser * Drehzahl\n",
    "\n",
    "Loesung = solve([Gleichung1, Gleichung2],Auslegungsgeschwindigkeit,Umlaufgeschwindigkeit)[0][0]\n",
    "\n",
    "Ergebnis = Loesung(\n",
    "    Drehzahl = 28 / Minute,\n",
    "    RotorDurchmesser = 44 * Meter,\n",
    "    Schnelllaufzahl = 7.5\n",
    ").rhs() / (Meter / Sekunde)\n",
    "\n",
    "pretty_print('Die Auslegungsgeschwindigkeit beträgt {:.1f} m/s.'.format(float(Ergebnis)))"
   ]
  },
  {
   "cell_type": "code",
   "execution_count": 25,
   "metadata": {},
   "outputs": [
    {
     "data": {
      "text/html": [
       "<html><script type=\"math/tex; mode=display\">\\newcommand{\\Bold}[1]{\\mathbf{#1}}\\mathit{Auslegungsgeschwindigkeit} = \\frac{\\pi \\mathit{Drehzahl} \\mathit{RotorDurchmesser}}{\\mathit{Schnelllaufzahl}}</script></html>"
      ],
      "text/plain": [
       "Auslegungsgeschwindigkeit == pi*Drehzahl*RotorDurchmesser/Schnelllaufzahl"
      ]
     },
     "metadata": {},
     "output_type": "display_data"
    }
   ],
   "source": [
    "pretty_print(Loesung)"
   ]
  },
  {
   "cell_type": "markdown",
   "metadata": {
    "slideshow": {
     "slide_type": "subslide"
    }
   },
   "source": [
    "#### Lösung\n",
    "Es wird die Definition für $u$ in die Definition der Schnelllaufzahl eingesetzt und anschließend nach $v$ umgestellt. Daraus ergibt eine Auslegungsgeschwindigkeit von:\n",
    "\\begin{align*}\n",
    "    v = \\frac{\\pi d n}{\\lambda} = \\SI{8.6}{m/s}\n",
    "\\end{align*}"
   ]
  },
  {
   "cell_type": "markdown",
   "metadata": {
    "slideshow": {
     "slide_type": "slide"
    }
   },
   "source": [
    "## Formelsammlung\n",
    "Potenzgesetz von Hellmann zur Bestimmung des Geschwindigkeitsprofils:\n",
    "\\begin{align*}\n",
    "    v(h) = v_0 \\left( \\frac{h}{h_0} \\right)^\\alpha\n",
    "\\end{align*}\n",
    "\n",
    "Leistungs- und Energiebegriffe:\n",
    "\n",
    "Leistung:\n",
    "\\begin{align*}\n",
    "P \t\t\t \t\n",
    "    &= \\frac{dE}{dt} = \\frac{dE_{kin}}{dt} = \\frac{1}{2} \\frac{dm}{dt} (u_2^2 - u_1^2)\t\\\\\n",
    "P_\\mathrm{Wind} \n",
    "    &= \\frac{1}{2} \\frac{dm}{dt} u^2 = \\frac{\\rho}{2} \\cdot \\Pi r^2 \\cdot u^3\t\t\t\\\\\n",
    "P_\\mathrm{Anlage} \n",
    "    &= c_p \\cdot \\frac{\\rho}{2} \\cdot \\Pi r^2 \\cdot u^3\t\t\t\n",
    "\\end{align*}"
   ]
  },
  {
   "cell_type": "markdown",
   "metadata": {
    "slideshow": {
     "slide_type": "subslide"
    }
   },
   "source": [
    "Energie(ertrag):\n",
    "\\begin{align*}\n",
    "E \n",
    "    = \\int \\diff E \n",
    "    = \\int P \\diff t \n",
    "    = c_p \\cdot \\frac{\\rho}{2} A \\bar v^3 \\int \\diff t \n",
    "    = c_p \\cdot \\frac{\\rho}{2} A \\bar v^3 \\Delta t\n",
    "\\end{align*}\n",
    "\n",
    "Weibullverteilung (h...Dichtefkt., H...Verteilungsfkt.)\n",
    "\\begin{align*}\n",
    "\th(v) &= \\frac{C}{A} \\left( \\frac{v}{A} \\right)^{C-1} \\cdot \\exp \\left( - \\left( \\frac{v}{A} \\right)^C \\right) \\\\\n",
    "\tH(v) &= \\int_{0}^{v} h(v) \\diff v = 1 - \\exp\\left(-\\left(\\frac{v}{A}\\right)^C \\right)\n",
    "\\end{align*}\n",
    "\n",
    "Mittelwert:\n",
    "\\begin{align*}\n",
    "\t  \\bar v \t= \\frac{1}{\\int_a^b\\diff t} \\cdot \\int_a^b v(t) \\cdot \\diff t = \\frac{1}{t_\\text{tot}} \\cdot \\int_a^b v(t) \\cdot \\diff t\n",
    "\\end{align*}"
   ]
  },
  {
   "cell_type": "markdown",
   "metadata": {
    "slideshow": {
     "slide_type": "subslide"
    }
   },
   "source": [
    "Annuitätenmethode:\n",
    "\\begin{align*}\n",
    "a = K_\\mathrm{Inv} \\frac{i \\cdot (1+i)^n}{(1+i)^n - 1},\n",
    "\\end{align*}\n",
    "\n",
    "|\t$a$ \t\t\t   | Annuität\t\t\t\t|\n",
    "| -------------------- | --------------------   |   \n",
    "|\t$K_\\mathrm{Inv}$ \t| Gesamtinvestition \t|\n",
    "|\t$i$ \t\t\t\t| Kalkulationszins \t\t|\n",
    "|   $n$ \t\t\t\t| Laufzeit              |"
   ]
  },
  {
   "cell_type": "markdown",
   "metadata": {
    "slideshow": {
     "slide_type": "slide"
    }
   },
   "source": [
    "# ENDE\n",
    "\n",
    "\n",
    "Viel Spaß beim Üben!"
   ]
  },
  {
   "cell_type": "raw",
   "metadata": {
    "slideshow": {
     "slide_type": "skip"
    }
   },
   "source": [
    "<script>\n",
    "  $(document).ready(function(){\n",
    "    $('div.prompt').hide();\n",
    "    $('div.back-to-top').hide();\n",
    "    $('nav#menubar').hide();\n",
    "    $('.breadcrumb').hide();\n",
    "    $('.hidden-print').hide();\n",
    "  });\n",
    "</script>\n",
    "\n",
    "<footer id=\"attribution\" style=\"float:right; color:#999; background:#fff;\">\n",
    "Created with Jupyter, delivered by Fastly, rendered by Rackspace.\n",
    "</footer>"
   ]
  }
 ],
 "metadata": {
  "celltoolbar": "Slideshow",
  "kernelspec": {
   "display_name": "SageMath 8.0",
   "language": "",
   "name": "sagemath"
  },
  "language_info": {
   "codemirror_mode": {
    "name": "ipython",
    "version": 2
   },
   "file_extension": ".py",
   "mimetype": "text/x-python",
   "name": "python",
   "nbconvert_exporter": "python",
   "pygments_lexer": "ipython2",
   "version": "2.7.13"
  },
  "livereveal": {
   "scroll": true,
   "slideNumber": "c.v",
   "start_slideshow_at": "selected",
   "theme": "sky",
   "transition": "zoom"
  }
 },
 "nbformat": 4,
 "nbformat_minor": 2
}
