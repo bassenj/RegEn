{
 "cells": [
  {
   "cell_type": "raw",
   "metadata": {
    "slideshow": {
     "slide_type": "skip"
    }
   },
   "source": [
    "<script>\n",
    "  jQuery(document).ready(function($) {  \n",
    "  \n",
    "  $(window).on('load', function(){\n",
    "    $('#preloader').fadeOut('slow',function(){$(this).remove();});\n",
    "  });\n",
    "  \n",
    "  });\n",
    "</script>\n",
    "\n",
    "<style type=\"text/css\">\n",
    "  div#preloader { position: fixed; \n",
    "      left: 0; \n",
    "      top: 0; \n",
    "      z-index: 999; \n",
    "      width: 100%; \n",
    "      height: 100%; \n",
    "      overflow: visible; \n",
    "      background: #fff url('http://preloaders.net/preloaders/720/Moving%20line.gif') no-repeat center center; \n",
    "  }\n",
    "\n",
    "</style>\n",
    "\n",
    "<div id=\"preloader\">\n",
    "\n",
    "</div>"
   ]
  },
  {
   "cell_type": "raw",
   "metadata": {
    "slideshow": {
     "slide_type": "skip"
    }
   },
   "source": [
    "<script>\n",
    "  function code_toggle() {\n",
    "    if (code_shown){\n",
    "      $('div.input').hide('500');\n",
    "      $('#toggleButton1').val('Show Code')\n",
    "    } else {\n",
    "      $('div.input').show('500');\n",
    "      $('#toggleButton1').val('Hide Code')\n",
    "    }\n",
    "    code_shown = !code_shown\n",
    "  }\n",
    "\n",
    "  $( document ).ready(function(){\n",
    "    code_shown=false;\n",
    "    $('div.input').hide()\n",
    "  });\n",
    "</script>\n",
    "<form action=\"javascript:code_toggle()\"><input type=\"submit\" id=\"toggleButton1\" value=\"Show Code\"></form>"
   ]
  },
  {
   "cell_type": "raw",
   "metadata": {
    "slideshow": {
     "slide_type": "skip"
    }
   },
   "source": [
    "<script>\n",
    "  function result_toggle() {\n",
    "    if (result_shown){\n",
    "      $('div.output').hide('500');\n",
    "      $('#toggleButton2').val('Show Results')\n",
    "    } else {\n",
    "      $('div.output').show('500');\n",
    "      $('#toggleButton2').val('Hide Results')\n",
    "    }\n",
    "    result_shown = !result_shown\n",
    "  }\n",
    "\n",
    "  $( document ).ready(function(){\n",
    "    result_shown=false;\n",
    "    $('div.output').hide()\n",
    "  });\n",
    "</script>\n",
    "<form action=\"javascript:result_toggle()\"><input type=\"submit\" id=\"toggleButton2\" value=\"Show Results\"></form>"
   ]
  },
  {
   "cell_type": "code",
   "execution_count": 29,
   "metadata": {
    "slideshow": {
     "slide_type": "skip"
    }
   },
   "outputs": [],
   "source": [
    "%display latex"
   ]
  },
  {
   "cell_type": "markdown",
   "metadata": {
    "slideshow": {
     "slide_type": "slide"
    }
   },
   "source": [
    "# DIN-5034-2-Algorithmus"
   ]
  },
  {
   "cell_type": "markdown",
   "metadata": {},
   "source": [
    "Der DIN-Algorithmus ist für die Berechnung der Sonneneinstrahlung in Innenräume entwickelt worden."
   ]
  },
  {
   "cell_type": "code",
   "execution_count": 30,
   "metadata": {
    "slideshow": {
     "slide_type": "skip"
    }
   },
   "outputs": [],
   "source": [
    "import datetime as dt\n",
    "\n",
    "var('Zeit')\n",
    "var('Stunden')\n",
    "\n",
    "var('TagDesJahres J')\n",
    "var('delta ZG')\n",
    "\n",
    "var('LZ UTC WOZ MOZ')\n",
    "var('Zeitzone ZZ')\n",
    "var('Laengengrad')\n",
    "var('Breitengrad')\n",
    "var('Stundenwinkel')\n",
    "var('Sonnenhoehe')\n",
    "var('Sonnenazimut')\n",
    "\n",
    "# Faktoren und Konstanten\n",
    "Grad = pi/180\n",
    "Minuten = Stunden / 60\n",
    "ZahlDerTageImJahr = 365"
   ]
  },
  {
   "cell_type": "markdown",
   "metadata": {},
   "source": [
    "Der **Jahreswinkel** $J$:"
   ]
  },
  {
   "cell_type": "code",
   "execution_count": 31,
   "metadata": {},
   "outputs": [],
   "source": [
    "J_eqn = J == 360 * Grad * TagDesJahres / ZahlDerTageImJahr;"
   ]
  },
  {
   "cell_type": "markdown",
   "metadata": {},
   "source": [
    "die **Sonnendeklination** $\\delta$:"
   ]
  },
  {
   "cell_type": "code",
   "execution_count": 32,
   "metadata": {},
   "outputs": [],
   "source": [
    "delta_eqn = delta == (0.3948 \n",
    "                        - 23.2559 * cos(J + 9.1 * Grad)\n",
    "                        - 0.3915 * cos(2 * J + 5.4 * Grad)\n",
    "                        - 0.1764 * cos(3 * J + 26. * Grad)\n",
    "                     ) * Grad;\n",
    "delta_eqn = solve([delta_eqn, J_eqn], J, delta)[-1][-1]"
   ]
  },
  {
   "cell_type": "markdown",
   "metadata": {},
   "source": [
    "An diesen Gleichungen wird bereits deutlich, dass der Algorithmus nur ungefähre Ergebnisse liefern kann, da das Konzept der Schaltjahre und Schaltsekunden nicht berücksichtigt wird."
   ]
  },
  {
   "cell_type": "markdown",
   "metadata": {
    "slideshow": {
     "slide_type": "slide"
    }
   },
   "source": [
    "Die sogenannte **Zeitgleichung** $ZG$ beschreibt die Abweichung der **wahren Ortszeit** $WOZ$ von der **mittleren Ortszeit** $MOZ$.\n",
    "Die mittlere Ortszeit ist relativ zur **koordinierten Weltzeit** $UTC$ definiert und hängt vom **Längengrad** ab.\n",
    "Mit der Angabe der **Zeitzone** $ZZ$ ist auch die **lokale Zeit** $LZ$ gegeben:"
   ]
  },
  {
   "cell_type": "code",
   "execution_count": 33,
   "metadata": {},
   "outputs": [],
   "source": [
    "ZG_def = ZG == WOZ - MOZ;\n",
    "ZG_eqn = ZG == (0.0066 \n",
    "                    + 7.3525 * cos(J + 85.9 * Grad)\n",
    "                    + 9.9359 * cos(2 * J + 108.9 * Grad)\n",
    "                    + 0.3387 * cos(3 * J + 105.2 * Grad)\n",
    "               ) * Minuten;\n",
    "ZG_eqn = solve([ZG_eqn, J_eqn], J, ZG)[-1][-1]\n",
    "MOZ_eqn = MOZ == UTC - 4 * Minuten/(1 * Grad) * Laengengrad\n",
    "LZ_eqn = LZ == UTC + ZZ"
   ]
  },
  {
   "cell_type": "markdown",
   "metadata": {
    "slideshow": {
     "slide_type": "slide"
    }
   },
   "source": [
    "Aus der Definition und einer empirischen Zeitgleichung kann die wahre Ortszeit bestimmt werden:"
   ]
  },
  {
   "cell_type": "code",
   "execution_count": 34,
   "metadata": {},
   "outputs": [],
   "source": [
    "WOZ_eqn = solve([ZG_def, ZG_eqn], ZG, WOZ)[-1][-1]\n",
    "WOZ_eqn = solve([WOZ_eqn, MOZ_eqn], MOZ, WOZ)[-1][-1]\n",
    "WOZ_eqn = solve([WOZ_eqn, LZ_eqn], UTC, WOZ)[-1][-1]"
   ]
  },
  {
   "cell_type": "markdown",
   "metadata": {
    "slideshow": {
     "slide_type": "slide"
    }
   },
   "source": [
    "Der **Stundenwinkel**:"
   ]
  },
  {
   "cell_type": "code",
   "execution_count": 35,
   "metadata": {},
   "outputs": [],
   "source": [
    "Stundenwinkel_eqn = Stundenwinkel == (12 * Stunden - WOZ) * 15 * Grad / Stunden;\n",
    "Stundenwinkel_eqn = solve([Stundenwinkel_eqn, WOZ_eqn], WOZ, Stundenwinkel)[-1][-1]"
   ]
  },
  {
   "cell_type": "markdown",
   "metadata": {},
   "source": [
    "Mit der **geographischen Breite $\\varphi$** lassen sich **Sonnenhöhe** und -**azimut** berechnen:"
   ]
  },
  {
   "cell_type": "code",
   "execution_count": 36,
   "metadata": {},
   "outputs": [],
   "source": [
    "Sonnenhoehe_eqn = Sonnenhoehe == arcsin(\n",
    "    cos(Stundenwinkel) * cos(Breitengrad) * cos(delta)\n",
    "    + sin(Breitengrad) * sin(delta)\n",
    "    );\n",
    "Sonnenhoehe_eqn = solve([Sonnenhoehe_eqn, Stundenwinkel_eqn], Stundenwinkel, Sonnenhoehe)[-1][-1]\n",
    "Sonnenhoehe_eqn = solve([Sonnenhoehe_eqn, delta_eqn], delta, Sonnenhoehe)[-1][-1]\n",
    "\n",
    "Sonnenazimut_eqn = Sonnenazimut == (180 * Grad \n",
    "    + sign(WOZ/Stunden - 12)\n",
    "    * arccos(\n",
    "        (sin(Sonnenhoehe) * sin(Breitengrad) - sin(delta))\n",
    "        / (cos(Sonnenhoehe) * cos(Breitengrad))\n",
    "        )\n",
    "    );\n",
    "Sonnenazimut_eqn = solve([Sonnenazimut_eqn, Sonnenhoehe_eqn], Sonnenhoehe, Sonnenazimut)[-1][-1]\n",
    "Sonnenazimut_eqn = solve([Sonnenazimut_eqn, WOZ_eqn], WOZ, Sonnenazimut)[-1][-1]\n",
    "Sonnenazimut_eqn = solve([Sonnenazimut_eqn, delta_eqn], delta, Sonnenazimut)[-1][-1]"
   ]
  },
  {
   "cell_type": "markdown",
   "metadata": {
    "slideshow": {
     "slide_type": "slide"
    }
   },
   "source": [
    "## Heutiger Sonnenweg und jetziger Sonnestand"
   ]
  },
  {
   "cell_type": "markdown",
   "metadata": {},
   "source": [
    "Der heutige Sonnenweg am DBI-TZ kann mit den gegebenen Gleichungen bestimmt werden. Ein Vergleich kann mit dem Online-Angebot von [Sonnenverlauf.de](https://www.sonnenverlauf.de/#/50.93,13.35,17/2018.12.07/09:15/1/0) vorgenommen werden."
   ]
  },
  {
   "cell_type": "code",
   "execution_count": 37,
   "metadata": {},
   "outputs": [],
   "source": [
    "l = -13.35 * Grad\n",
    "b = 50.93 * Grad\n",
    "\n",
    "Sonnenhoehe_hier = Sonnenhoehe_eqn(Laengengrad=l, Breitengrad=b)\n",
    "Sonnenazimut_hier = Sonnenazimut_eqn(Laengengrad=l, Breitengrad=b)\n",
    "WOZ_hier = WOZ_eqn(Laengengrad=l)"
   ]
  },
  {
   "cell_type": "markdown",
   "metadata": {},
   "source": [
    "Zurzeit gilt die **Mitteleuropäische Normalzeit** $MEZ$:"
   ]
  },
  {
   "cell_type": "code",
   "execution_count": 38,
   "metadata": {},
   "outputs": [],
   "source": [
    "MEZ = + 1 * Stunden\n",
    "MESZ = + 2 * Stunden\n",
    "ZZ = MEZ\n",
    "\n",
    "Jetzt = dt.datetime.utcnow() + dt.timedelta(hours = int(ZZ / Stunden));\n",
    "Heute = (Jetzt.date() - dt.date(Jetzt.year,1,1)).days + 1;\n",
    "\n",
    "LokaleZeit = (Jetzt.hour + Jetzt.minute / 60) * Stunden;"
   ]
  },
  {
   "cell_type": "code",
   "execution_count": 39,
   "metadata": {},
   "outputs": [],
   "source": [
    "WOZ_jetzt = (WOZ_hier(TagDesJahres=Heute, LZ=LokaleZeit, ZZ=ZZ)/Stunden).expand()"
   ]
  },
  {
   "cell_type": "markdown",
   "metadata": {
    "slideshow": {
     "slide_type": "slide"
    }
   },
   "source": [
    "Mit dem **Tag des Jahres** ergibt sich:"
   ]
  },
  {
   "cell_type": "code",
   "execution_count": 40,
   "metadata": {},
   "outputs": [],
   "source": [
    "J_heute = J_eqn.rhs()\n",
    "delta_heute = delta_eqn.rhs()\n",
    "ZG_heute = ZG_eqn.rhs()"
   ]
  },
  {
   "cell_type": "code",
   "execution_count": 41,
   "metadata": {
    "scrolled": true
   },
   "outputs": [
    {
     "name": "stdout",
     "output_type": "stream",
     "text": [
      "Seit Beginn des Tages sind 0.5 Stunden vergangen.\n",
      "Heute haben wir den 341. Tag des Jahres.\n",
      "Die Erde hat seit Begin des Jahres 336.3 Grad auf der Sonnenumlaufbahn zurückgelegt.\n",
      "Die Abweichung des Sonnenstandes ist heute etwa -22.5 Grad.\n",
      "Die Sonnenzeit weicht heute 8.4 Minuten von der lokalen Zeit ab.\n"
     ]
    }
   ],
   "source": [
    "print 'Seit Beginn des Tages sind {:.1f} Stunden vergangen.'.format(float(LokaleZeit/Stunden))\n",
    "print 'Heute haben wir den {}. Tag des Jahres.'.format(Heute)\n",
    "print 'Die Erde hat seit Begin des Jahres {:.1f} Grad auf der Sonnenumlaufbahn zurückgelegt.'.format(\n",
    "    float(J_heute(TagDesJahres=Heute) / Grad))\n",
    "print 'Die Abweichung des Sonnenstandes ist heute etwa {:.1f} Grad.'.format(\n",
    "    float(delta_heute(TagDesJahres=Heute)/Grad))\n",
    "print 'Die Sonnenzeit weicht heute {:.1f} Minuten von der lokalen Zeit ab.'.format(\n",
    "    float(ZG_heute(TagDesJahres=Heute)/Minuten))"
   ]
  },
  {
   "cell_type": "markdown",
   "metadata": {
    "slideshow": {
     "slide_type": "slide"
    }
   },
   "source": [
    "Über das Jahr gesehen hat die **Abweichung** folgenden Verlauf."
   ]
  },
  {
   "cell_type": "code",
   "execution_count": 42,
   "metadata": {},
   "outputs": [
    {
     "data": {
      "image/png": "[encoded data removed]",
      "text/plain": [
       "Graphics object consisting of 1 graphics primitive"
      ]
     },
     "execution_count": 42,
     "metadata": {},
     "output_type": "execute_result"
    }
   ],
   "source": [
    "Deltadiagram = plot(delta_heute/Grad, 0, 365)\n",
    "Deltadiagram.axes_labels(['Tag des\\n Jahres',u'Sonnendeklination\\n in °'])\n",
    "Deltadiagram"
   ]
  },
  {
   "cell_type": "markdown",
   "metadata": {
    "slideshow": {
     "slide_type": "slide"
    }
   },
   "source": [
    "Über das Jahr gesehen hat die **Zeitgleichung** folgenden Verlauf."
   ]
  },
  {
   "cell_type": "code",
   "execution_count": 43,
   "metadata": {},
   "outputs": [
    {
     "data": {
      "image/png": "[encoded data removed]",
      "text/plain": [
       "Graphics object consisting of 1 graphics primitive"
      ]
     },
     "execution_count": 43,
     "metadata": {},
     "output_type": "execute_result"
    }
   ],
   "source": [
    "Zgldiagramm = plot(ZG_heute / Minuten, 0, 365)\n",
    "Zgldiagramm.axes_labels(['Tag des\\n Jahres','Abweichung von der\\n Sonnenzeit in Minuten'])\n",
    "Zgldiagramm"
   ]
  },
  {
   "cell_type": "markdown",
   "metadata": {
    "slideshow": {
     "slide_type": "slide"
    }
   },
   "source": [
    "Für den **heute**:"
   ]
  },
  {
   "cell_type": "code",
   "execution_count": 44,
   "metadata": {},
   "outputs": [],
   "source": [
    "SH = (Sonnenhoehe_hier(TagDesJahres=Heute, ZZ=ZZ, LZ=LZ*Stunden).rhs()/Grad).function(LZ)"
   ]
  },
  {
   "cell_type": "code",
   "execution_count": 45,
   "metadata": {},
   "outputs": [
    {
     "name": "stdout",
     "output_type": "stream",
     "text": [
      "Zur Zeit steht die Sonne in einem Winkel von etwa -60.8 Grad ueber dem DBI-TZ.\n"
     ]
    }
   ],
   "source": [
    "Hoehe = SH(LokaleZeit/Stunden).n()\n",
    "print 'Zur Zeit steht die Sonne in einem Winkel von etwa {:.1f} Grad ueber dem DBI-TZ.'.format(float(Hoehe))"
   ]
  },
  {
   "cell_type": "markdown",
   "metadata": {
    "slideshow": {
     "slide_type": "slide"
    }
   },
   "source": [
    "Natürlich können wir mit unseren Gleichungen auch den Zeitpunkt des Sonnenauf- und -untergangs berechnen, indem wir die Nulldurchgänge der Sonnenhöhe am Vormittag und Nachmittag bestimmen."
   ]
  },
  {
   "cell_type": "code",
   "execution_count": 46,
   "metadata": {},
   "outputs": [
    {
     "name": "stdout",
     "output_type": "stream",
     "text": [
      "Sonnenaufgang war etwa um 08:01 und Sonnenuntergang wird etwa um 15:55 sein.\n"
     ]
    }
   ],
   "source": [
    "Sonnenaufgang = find_root(SH,0,12)\n",
    "Sonnenuntergang = find_root(SH,12,24)\n",
    "\n",
    "print 'Sonnenaufgang war etwa um {:%H:%M} und Sonnenuntergang wird etwa um {:%H:%M} sein.'.format(\n",
    "    dt.datetime.utcfromtimestamp(float(Sonnenaufgang*3600))\n",
    "    ,dt.datetime.utcfromtimestamp(float(Sonnenuntergang*3600))\n",
    "    )"
   ]
  },
  {
   "cell_type": "markdown",
   "metadata": {
    "slideshow": {
     "slide_type": "slide"
    }
   },
   "source": [
    "Wir können auch den Sonnenhöchststand ermitteln, indem wir die folgende Extremwertaufgabe lösen."
   ]
  },
  {
   "cell_type": "code",
   "execution_count": 47,
   "metadata": {},
   "outputs": [
    {
     "name": "stdout",
     "output_type": "stream",
     "text": [
      "Der Sonnenhöchststand ist heute um 11:58.\n"
     ]
    }
   ],
   "source": [
    "Mittag = find_root(SH.diff(LZ),Sonnenaufgang,Sonnenuntergang)\n",
    "print 'Der Sonnenhöchststand ist heute um {:%H:%M}.'.format(\n",
    "    dt.datetime.utcfromtimestamp(float(Mittag*3600))\n",
    ")"
   ]
  },
  {
   "cell_type": "code",
   "execution_count": 48,
   "metadata": {},
   "outputs": [
    {
     "name": "stdout",
     "output_type": "stream",
     "text": [
      "Zur Zeit steht die Sonne im Azimut von 16.2 Grad.\n"
     ]
    }
   ],
   "source": [
    "SA = Sonnenazimut_hier(TagDesJahres=Heute, ZZ=ZZ, LZ=LZ*Stunden).rhs()/Grad\n",
    "SA = SA(Stunden=1).function(LZ) # Die sign-Funktion lässt sich sonst nicht gut vereinfachen.\n",
    "\n",
    "Azimut = SA(LZ=LokaleZeit/Stunden).n()\n",
    "print 'Zur Zeit steht die Sonne im Azimut von {:.1f} Grad.'.format(float(Azimut))"
   ]
  },
  {
   "cell_type": "markdown",
   "metadata": {
    "slideshow": {
     "slide_type": "slide"
    }
   },
   "source": [
    "## Sonnenstunden\n",
    "Die Definition der Luftmasse in der Vorlesung $LM = \\frac{1}{\\sin{\\gamma_S}}$ gilt nur für große Winkel $\\gamma_S > 30\\, °$.\n",
    "Diese Bedingung ist in unseren Breitengraden selten der Fall.\n",
    "Deshalb verwenden wir hier eine [Formel](http://www.pveducation.org/pvcdrom/2-properties-sunlight/air-mass),\n",
    "die die Krümmung der Erdoberfläche berücksichtigt."
   ]
  },
  {
   "cell_type": "code",
   "execution_count": 49,
   "metadata": {
    "slideshow": {
     "slide_type": "slide"
    }
   },
   "outputs": [],
   "source": [
    "aspectratio = 3\n",
    "durchmesser = 10\n",
    "StundenListe = srange(12-6, 12+10, 2)\n",
    "\n",
    "# Sonnenweg\n",
    "Sonnenwegdiagram = parametric_plot( (SA(Zeit), SH(Zeit)), (Zeit, Sonnenaufgang, Sonnenuntergang ) )\n",
    "# Punkte für Stunden\n",
    "SonnenwegdiagramStunden = point( [(SA(Zeit), SH(Zeit)) for Zeit in StundenListe] )\n",
    "# Symbol für die Sonne\n",
    "Sonne = ellipse((Azimut,Hoehe),durchmesser,durchmesser / aspectratio,rgbcolor='yellow', fill=True, legend_label='Die Sonne')\n",
    "\n",
    "# Grafikobjekt\n",
    "G = Graphics()\n",
    "G += Sonnenwegdiagram\n",
    "G += SonnenwegdiagramStunden\n",
    "# Beschriftung für Stunden\n",
    "for Zeit in StundenListe:\n",
    "    if SH(Zeit) > -5:\n",
    "        da = 3\n",
    "        if Zeit < 12: da = -3\n",
    "        G += text('{}'.format(Zeit),(SA(Zeit) + da, SH(Zeit) + 6 / aspectratio))\n",
    "G += Sonne\n",
    "\n",
    "G.axes_range(0,360,0,60)\n",
    "G.axes_labels(['Azimut',u'Höhe'])\n",
    "G.set_aspect_ratio(aspectratio)"
   ]
  },
  {
   "cell_type": "code",
   "execution_count": 50,
   "metadata": {
    "slideshow": {
     "slide_type": "slide"
    }
   },
   "outputs": [
    {
     "data": {
      "image/png": "[encoded data removed]",
      "text/plain": [
       "Graphics object consisting of 8 graphics primitives"
      ]
     },
     "metadata": {},
     "output_type": "display_data"
    }
   ],
   "source": [
    "G.show()"
   ]
  },
  {
   "cell_type": "code",
   "execution_count": 51,
   "metadata": {
    "slideshow": {
     "slide_type": "slide"
    }
   },
   "outputs": [],
   "source": [
    "SH = Sonnenhoehe_hier(ZZ=ZZ, LZ=LZ*Stunden).rhs()/Grad\n",
    "ErsterTag = 1\n",
    "Tage = 365\n",
    "Sonnenstunden = 0\n",
    "Luftmasse = 0\n",
    "# Formel aus der Vorlesung\n",
    "LM = (1 / sin(SH*Grad)).factor()\n",
    "# Alternative Formel\n",
    "LM = (1 / (cos((90 - SH) * Grad) + 0.50572 * (6.07995 + SH)**(-1.6364))).factor()\n",
    "#print LM\n",
    "Delta = 0.01\n",
    "for Heute in srange(ErsterTag,ErsterTag + Tage,1):\n",
    "    Sonnenaufgang = find_root(SH(TagDesJahres=Heute),0,12)\n",
    "    Sonnenuntergang = find_root(SH(TagDesJahres=Heute),12,24)\n",
    "    Sonnenstunden += float(Sonnenuntergang - Sonnenaufgang - 2 * Delta)\n",
    "    Luftmasse += \\\n",
    "        numerical_integral(LM(TagDesJahres=Heute),Sonnenaufgang + Delta,Sonnenuntergang - Delta)[0] \\\n",
    "        / float(Sonnenuntergang - Sonnenaufgang - 2 * Delta)"
   ]
  },
  {
   "cell_type": "markdown",
   "metadata": {
    "slideshow": {
     "slide_type": "slide"
    }
   },
   "source": [
    "In Deutschland wird von einer Sonnenscheindauer von $1000$ Stunden pro Jahr ausgegangen."
   ]
  },
  {
   "cell_type": "code",
   "execution_count": 52,
   "metadata": {},
   "outputs": [
    {
     "name": "stdout",
     "output_type": "stream",
     "text": [
      "An diesem Ort gibt es 4398 Stunden Tageslicht im Jahr.\n",
      "Die mittlere tägliche Sonnenscheindauer beträgt 12.05 Stunden.\n",
      "Die mittlere Luftmasse beträgt 4.88.\n"
     ]
    }
   ],
   "source": [
    "print 'An diesem Ort gibt es {:.0f} Stunden Tageslicht im Jahr.'.format(Sonnenstunden)\n",
    "print 'Die mittlere tägliche Sonnenscheindauer beträgt {:.2f} Stunden.'.format(Sonnenstunden / Tage)\n",
    "print 'Die mittlere Luftmasse beträgt {:.2f}.'.format(Luftmasse / Tage) "
   ]
  },
  {
   "cell_type": "markdown",
   "metadata": {
    "slideshow": {
     "slide_type": "slide"
    }
   },
   "source": [
    "Um auf die Sonnenscheindauer zu kommen, wird die gleiche Auswertung für die Mittagsstunden wiederholt."
   ]
  },
  {
   "cell_type": "code",
   "execution_count": 53,
   "metadata": {},
   "outputs": [],
   "source": [
    "SH = Sonnenhoehe_hier(ZZ=ZZ, LZ=LZ*Stunden).rhs()/Grad\n",
    "ErsterTag = 1\n",
    "Tage = 365\n",
    "Sonnenstunden = 0\n",
    "Luftmasse = 0\n",
    "# Formel aus der Vorlesung\n",
    "LM = (1 / sin(SH*Grad)).factor()\n",
    "# Alternative Formel\n",
    "LM = (1 / (cos((90 - SH) * Grad) + 0.50572 * (6.07995 + SH)**(-1.6364))).factor()\n",
    "#print LM\n",
    "Delta = 0.01\n",
    "for Heute in srange(ErsterTag,ErsterTag + Tage,1):\n",
    "    Sonnenaufgang = find_root(SH(TagDesJahres=Heute),0,12)\n",
    "    Sonnenuntergang = find_root(SH(TagDesJahres=Heute),12,24)\n",
    "    Mittag = find_root(SH(TagDesJahres=Heute).diff(LZ),Sonnenaufgang,Sonnenuntergang)\n",
    "    Mittagsstunden = (Sonnenuntergang - Sonnenaufgang) / 4\n",
    "    Anfangszeit = Mittag - Mittagsstunden / 2\n",
    "    Endzeit = Mittag + Mittagsstunden / 2\n",
    "    Sonnenstunden += float(Mittagsstunden)\n",
    "    Luftmasse += \\\n",
    "        numerical_integral(LM(TagDesJahres=Heute),Anfangszeit,Endzeit)[0] \\\n",
    "        / float(Mittagsstunden)"
   ]
  },
  {
   "cell_type": "code",
   "execution_count": 54,
   "metadata": {},
   "outputs": [
    {
     "name": "stdout",
     "output_type": "stream",
     "text": [
      "An diesem Ort gibt es 1101 Stunden Sonnenschein im Jahr.\n",
      "Die mittlere tägliche Sonnenscheindauer beträgt 3.02 Stunden.\n",
      "Die mittlere Luftmasse beträgt 1.97.\n"
     ]
    }
   ],
   "source": [
    "print 'An diesem Ort gibt es {:.0f} Stunden Sonnenschein im Jahr.'.format(Sonnenstunden)\n",
    "print 'Die mittlere tägliche Sonnenscheindauer beträgt {:.2f} Stunden.'.format(Sonnenstunden / Tage)\n",
    "print 'Die mittlere Luftmasse beträgt {:.2f}.'.format(Luftmasse / Tage) "
   ]
  },
  {
   "cell_type": "code",
   "execution_count": 55,
   "metadata": {
    "slideshow": {
     "slide_type": "slide"
    }
   },
   "outputs": [
    {
     "name": "stdout",
     "output_type": "stream",
     "text": [
      "----------------------\n",
      "Zeit\t LM\t SH\n",
      "in h\t -\t in °\n",
      "---------------------\n",
      " 8.4\t28.8\t 0.7\n",
      " 9.4\t 7.4\t 7.3\n",
      "10.4\t 4.6\t12.3\n",
      "11.4\t 3.7\t15.3\n",
      "12.4\t 3.6\t16.0\n",
      "13.4\t 4.0\t14.3\n",
      "14.4\t 5.3\t10.5\n",
      "15.4\t10.7\t 4.8\n",
      "---------------------\n"
     ]
    }
   ],
   "source": [
    "Heute = 1 #364/2\n",
    "Sonnenaufgang = find_root(SH(TagDesJahres=Heute),0,12)\n",
    "Sonnenuntergang = find_root(SH(TagDesJahres=Heute),12,24)\n",
    "Mittag = find_root(SH(TagDesJahres=Heute).diff(LZ),Sonnenaufgang,Sonnenuntergang)\n",
    "LM = (1 / (cos((90 - SH) * Grad) + 0.50572 * (6.07995 + SH)**(-1.6364))).factor()\n",
    "LM = LM(TagDesJahres = Heute).factor()\n",
    "print '----------------------'\n",
    "print 'Zeit\\t LM\\t SH'\n",
    "print 'in h\\t -\\t in °'\n",
    "print '---------------------'\n",
    "for Zeit in srange(Sonnenaufgang+0.1,Sonnenuntergang):\n",
    "    print '{:4.1f}\\t{:4.1f}\\t{:4.1f}'.format(float(Zeit), float(LM(LZ=Zeit)), float(SH(TagDesJahres=Heute,LZ=Zeit)))\n",
    "print '---------------------'"
   ]
  },
  {
   "cell_type": "markdown",
   "metadata": {},
   "source": [
    "----"
   ]
  },
  {
   "cell_type": "raw",
   "metadata": {
    "slideshow": {
     "slide_type": "skip"
    }
   },
   "source": [
    "<script>\n",
    "  $(document).ready(function(){\n",
    "    $('div.prompt').hide();\n",
    "    $('div.back-to-top').hide();\n",
    "    <!-- $('nav#menubar').hide(); -->\n",
    "    $('.breadcrumb').hide();\n",
    "    $('.hidden-print').hide();\n",
    "  });\n",
    "</script>\n",
    "\n",
    "<footer id=\"attribution\" style=\"float:right; color:#999; background:#fff;\">\n",
    "Created with Jupyter, delivered by Fastly, rendered by Rackspace.\n",
    "</footer>"
   ]
  }
 ],
 "metadata": {
  "celltoolbar": "Slideshow",
  "kernelspec": {
   "display_name": "SageMath 8.0",
   "language": "",
   "name": "sagemath"
  },
  "language_info": {
   "codemirror_mode": {
    "name": "ipython",
    "version": 2
   },
   "file_extension": ".py",
   "mimetype": "text/x-python",
   "name": "python",
   "nbconvert_exporter": "python",
   "pygments_lexer": "ipython2",
   "version": "2.7.13"
  },
  "livereveal": {
   "scroll": true,
   "slideNumber": "c.v",
   "start_slideshow_at": "selected",
   "theme": "sky",
   "transition": "zoom"
  }
 },
 "nbformat": 4,
 "nbformat_minor": 2
}
