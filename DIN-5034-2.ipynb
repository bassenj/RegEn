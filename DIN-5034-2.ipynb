{
 "cells": [
  {
   "cell_type": "raw",
   "metadata": {
    "slideshow": {
     "slide_type": "skip"
    }
   },
   "source": [
    "<script>\n",
    "  jQuery(document).ready(function($) {  \n",
    "  \n",
    "  $(window).on('load', function(){\n",
    "    $('#preloader').fadeOut('slow',function(){$(this).remove();});\n",
    "  });\n",
    "  \n",
    "  });\n",
    "</script>\n",
    "\n",
    "<style type=\"text/css\">\n",
    "  div#preloader { position: fixed; \n",
    "      left: 0; \n",
    "      top: 0; \n",
    "      z-index: 999; \n",
    "      width: 100%; \n",
    "      height: 100%; \n",
    "      overflow: visible; \n",
    "      background: #fff url('http://preloaders.net/preloaders/720/Moving%20line.gif') no-repeat center center; \n",
    "  }\n",
    "\n",
    "</style>\n",
    "\n",
    "<div id=\"preloader\">\n",
    "\n",
    "</div>"
   ]
  },
  {
   "cell_type": "raw",
   "metadata": {
    "slideshow": {
     "slide_type": "skip"
    }
   },
   "source": [
    "<script>\n",
    "  function code_toggle() {\n",
    "    if (code_shown){\n",
    "      $('div.input').hide('500');\n",
    "      $('#toggleButton1').val('Show Code')\n",
    "    } else {\n",
    "      $('div.input').show('500');\n",
    "      $('#toggleButton1').val('Hide Code')\n",
    "    }\n",
    "    code_shown = !code_shown\n",
    "  }\n",
    "\n",
    "  $( document ).ready(function(){\n",
    "    code_shown=false;\n",
    "    $('div.input').hide()\n",
    "  });\n",
    "</script>\n",
    "<form action=\"javascript:code_toggle()\"><input type=\"submit\" id=\"toggleButton1\" value=\"Show Code\"></form>"
   ]
  },
  {
   "cell_type": "raw",
   "metadata": {
    "slideshow": {
     "slide_type": "skip"
    }
   },
   "source": [
    "<script>\n",
    "  function result_toggle() {\n",
    "    if (result_shown){\n",
    "      $('div.output').hide('500');\n",
    "      $('#toggleButton2').val('Show Results')\n",
    "    } else {\n",
    "      $('div.output').show('500');\n",
    "      $('#toggleButton2').val('Hide Results')\n",
    "    }\n",
    "    result_shown = !result_shown\n",
    "  }\n",
    "\n",
    "  $( document ).ready(function(){\n",
    "    result_shown=false;\n",
    "    $('div.output').hide()\n",
    "  });\n",
    "</script>\n",
    "<form action=\"javascript:result_toggle()\"><input type=\"submit\" id=\"toggleButton2\" value=\"Show Results\"></form>"
   ]
  },
  {
   "cell_type": "code",
   "execution_count": 1,
   "metadata": {
    "slideshow": {
     "slide_type": "skip"
    }
   },
   "outputs": [],
   "source": [
    "%display latex"
   ]
  },
  {
   "cell_type": "markdown",
   "metadata": {
    "slideshow": {
     "slide_type": "slide"
    }
   },
   "source": [
    "# DIN-5034-2-Algorithmus"
   ]
  },
  {
   "cell_type": "markdown",
   "metadata": {},
   "source": [
    "Der DIN-Algorithmus ist für die Berechnung der Sonneneinstrahlung in Innenräume entwickelt worden."
   ]
  },
  {
   "cell_type": "code",
   "execution_count": 2,
   "metadata": {
    "slideshow": {
     "slide_type": "-"
    }
   },
   "outputs": [],
   "source": [
    "import datetime as dt\n",
    "\n",
    "RR.scientific_notation(True)\n",
    "\n",
    "var('Zeit Stunden') # Zeiteinheit\n",
    "\n",
    "var('Jahreswinkel J') # Winkel auf der Sonnenumlaufbahn\n",
    "var('TagDesJahres d')\n",
    "var('Zeitgleichung ZG')\n",
    "var('Sonnendeklination delta') # Sonnendeklination\n",
    "var('LZ UTC WOZ MOZ') # Zeitangaben: Lokalzeit, koordinierte Weltzeit, wahre und mittlere Ortszeit\n",
    "var('Zeitzone ZZ')\n",
    "var('Laengengrad')\n",
    "var('l', latex_name='\\lambda')\n",
    "var('Breitengrad varphi')\n",
    "var('Stundenwinkel')\n",
    "var('Sonnenhoehe gamma')\n",
    "var('Sonnenazimut alpha')\n",
    "var('Luftmasse LM')\n",
    "\n",
    "# Faktoren und Konstanten\n",
    "Grad = pi/180\n",
    "Minuten = Stunden / 60\n",
    "ZahlDerTageImJahr = 365"
   ]
  },
  {
   "cell_type": "markdown",
   "metadata": {
    "slideshow": {
     "slide_type": "slide"
    }
   },
   "source": [
    "Der **Jahreswinkel** $J$:"
   ]
  },
  {
   "cell_type": "code",
   "execution_count": 3,
   "metadata": {},
   "outputs": [
    {
     "data": {
      "text/html": [
       "<html><script type=\"math/tex; mode=display\">\\newcommand{\\Bold}[1]{\\mathbf{#1}}J = \\frac{2}{365} \\, \\pi d</script></html>"
      ],
      "text/plain": [
       "J == 2/365*pi*d"
      ]
     },
     "metadata": {},
     "output_type": "display_data"
    }
   ],
   "source": [
    "J_eqn = J == 360 * Grad * TagDesJahres / ZahlDerTageImJahr;\n",
    "pretty_print(J_eqn(TagDesJahres=d))"
   ]
  },
  {
   "cell_type": "markdown",
   "metadata": {},
   "source": [
    "die **Sonnendeklination** $\\delta$:"
   ]
  },
  {
   "cell_type": "code",
   "execution_count": 4,
   "metadata": {},
   "outputs": [
    {
     "data": {
      "text/html": [
       "<html><script type=\"math/tex; mode=display\">\\newcommand{\\Bold}[1]{\\mathbf{#1}}\\delta = -\\frac{1}{1800000} \\, \\pi {\\left(1764 \\, \\cos\\left(\\frac{13}{90} \\, \\pi + 3 \\, J\\right) + 232559 \\, \\cos\\left(\\frac{91}{1800} \\, \\pi + J\\right) + 3915 \\, \\cos\\left(\\frac{3}{100} \\, \\pi + 2 \\, J\\right) - 3948\\right)}</script></html>"
      ],
      "text/plain": [
       "delta == -1/1800000*pi*(1764*cos(13/90*pi + 3*J) + 232559*cos(91/1800*pi + J) + 3915*cos(3/100*pi + 2*J) - 3948)"
      ]
     },
     "metadata": {},
     "output_type": "display_data"
    }
   ],
   "source": [
    "delta_eqn = delta == (0.3948 \n",
    "                        - 23.2559 * cos(J + 9.1 * Grad)\n",
    "                        - 0.3915 * cos(2 * J + 5.4 * Grad)\n",
    "                        - 0.1764 * cos(3 * J + 26. * Grad)\n",
    "                     ) * Grad;\n",
    "pretty_print(delta_eqn.factor())\n",
    "\n",
    "delta_eqn = solve([delta_eqn, J_eqn], J, delta)[-1][-1].factor()\n",
    "#pretty_print(delta_eqn(TagDesJahres=d))"
   ]
  },
  {
   "cell_type": "markdown",
   "metadata": {},
   "source": [
    "An diesen Gleichungen wird bereits deutlich, dass der Algorithmus nur ungefähre Ergebnisse liefern kann, da das Konzept der Schaltjahre und Schaltsekunden nicht berücksichtigt wird."
   ]
  },
  {
   "cell_type": "markdown",
   "metadata": {
    "slideshow": {
     "slide_type": "slide"
    }
   },
   "source": [
    "Die sogenannte **Zeitgleichung** $ZG$ beschreibt die Abweichung der **wahren Ortszeit** $WOZ$ von der **mittleren Ortszeit** $MOZ$.\n",
    "Die mittlere Ortszeit ist relativ zur **koordinierten Weltzeit** $UTC$ definiert und hängt vom **Längengrad** $\\lambda$ ab.\n",
    "Mit der Angabe der **Zeitzone** $ZZ$ ist auch die **lokale Zeit** $LZ$ gegeben:"
   ]
  },
  {
   "cell_type": "code",
   "execution_count": 5,
   "metadata": {},
   "outputs": [
    {
     "data": {
      "text/html": [
       "<html><script type=\"math/tex; mode=display\">\\newcommand{\\Bold}[1]{\\mathbf{#1}}\\mathit{ZG} = -\\mathit{MOZ} + \\mathit{WOZ}</script></html>"
      ],
      "text/plain": [
       "ZG == -MOZ + WOZ"
      ]
     },
     "metadata": {},
     "output_type": "display_data"
    },
    {
     "data": {
      "text/html": [
       "<html><script type=\"math/tex; mode=display\">\\newcommand{\\Bold}[1]{\\mathbf{#1}}\\mathit{ZG} = \\frac{1}{600000} \\, \\mathit{Stunden} {\\left(99359 \\, \\cos\\left(\\frac{121}{200} \\, \\pi + 2 \\, J\\right) + 3387 \\, \\cos\\left(\\frac{263}{450} \\, \\pi + 3 \\, J\\right) + 73525 \\, \\cos\\left(\\frac{859}{1800} \\, \\pi + J\\right) + 66\\right)}</script></html>"
      ],
      "text/plain": [
       "ZG == 1/600000*Stunden*(99359*cos(121/200*pi + 2*J) + 3387*cos(263/450*pi + 3*J) + 73525*cos(859/1800*pi + J) + 66)"
      ]
     },
     "metadata": {},
     "output_type": "display_data"
    },
    {
     "data": {
      "text/html": [
       "<html><script type=\"math/tex; mode=display\">\\newcommand{\\Bold}[1]{\\mathbf{#1}}\\mathit{MOZ} = \\mathit{LZ} - \\mathit{ZZ} - \\frac{12 \\, \\mathit{Stunden} {\\lambda}}{\\pi}</script></html>"
      ],
      "text/plain": [
       "MOZ == LZ - ZZ - 12*Stunden*l/pi"
      ]
     },
     "metadata": {},
     "output_type": "display_data"
    }
   ],
   "source": [
    "ZG_def = ZG == WOZ - MOZ;\n",
    "ZG_eqn = ZG == (0.0066 \n",
    "                    + 7.3525 * cos(J + 85.9 * Grad)\n",
    "                    + 9.9359 * cos(2 * J + 108.9 * Grad)\n",
    "                    + 0.3387 * cos(3 * J + 105.2 * Grad)\n",
    "               ) * Minuten;\n",
    "pretty_print(ZG_def)\n",
    "pretty_print(ZG_eqn.factor())\n",
    "\n",
    "ZG_eqn = solve([ZG_eqn, J_eqn], J, ZG)[-1][-1].factor()\n",
    "#pretty_print(ZG_eqn(TagDesJahres=d))\n",
    "\n",
    "LZ_eqn = LZ == UTC + ZZ\n",
    "MOZ_eqn = MOZ == UTC - 4 * Minuten/(1 * Grad) * Laengengrad\n",
    "MOZ_eqn = solve([MOZ_eqn, LZ_eqn], UTC, MOZ)[-1][-1].expand()\n",
    "pretty_print(MOZ_eqn(Laengengrad=l))"
   ]
  },
  {
   "cell_type": "markdown",
   "metadata": {
    "slideshow": {
     "slide_type": "slide"
    }
   },
   "source": [
    "Aus der Definition und einer empirischen Zeitgleichung kann die wahre Ortszeit bestimmt werden:"
   ]
  },
  {
   "cell_type": "code",
   "execution_count": 6,
   "metadata": {},
   "outputs": [
    {
     "data": {
      "text/html": [
       "<html><script type=\"math/tex; mode=display\">\\newcommand{\\Bold}[1]{\\mathbf{#1}}\\mathit{WOZ} = \\frac{99359}{600000} \\, \\mathit{Stunden} \\cos\\left(\\frac{121}{200} \\, \\pi + \\frac{4}{365} \\, \\pi d\\right) + \\frac{1129}{200000} \\, \\mathit{Stunden} \\cos\\left(\\frac{263}{450} \\, \\pi + \\frac{6}{365} \\, \\pi d\\right) + \\frac{2941}{24000} \\, \\mathit{Stunden} \\cos\\left(\\frac{55217}{115705} \\, \\pi + \\frac{2}{365} \\, \\pi d\\right) + \\mathit{LZ} + \\frac{11}{100000} \\, \\mathit{Stunden} - \\mathit{ZZ} - \\frac{12 \\, \\mathit{Stunden} {\\lambda}}{\\pi}</script></html>"
      ],
      "text/plain": [
       "WOZ == 99359/600000*Stunden*cos(121/200*pi + 4/365*pi*d) + 1129/200000*Stunden*cos(263/450*pi + 6/365*pi*d) + 2941/24000*Stunden*cos(55217/115705*pi + 2/365*pi*d) + LZ + 11/100000*Stunden - ZZ - 12*Stunden*l/pi"
      ]
     },
     "metadata": {},
     "output_type": "display_data"
    }
   ],
   "source": [
    "WOZ_eqn = solve([ZG_def, ZG_eqn], ZG, WOZ)[-1][-1]\n",
    "WOZ_eqn = solve([WOZ_eqn, MOZ_eqn], MOZ, WOZ)[-1][-1].expand()\n",
    "pretty_print(WOZ_eqn(TagDesJahres=d, Laengengrad=l))"
   ]
  },
  {
   "cell_type": "markdown",
   "metadata": {
    "slideshow": {
     "slide_type": "-"
    }
   },
   "source": [
    "Der **Stundenwinkel**:"
   ]
  },
  {
   "cell_type": "code",
   "execution_count": 7,
   "metadata": {},
   "outputs": [
    {
     "data": {
      "text/html": [
       "<html><script type=\"math/tex; mode=display\">\\newcommand{\\Bold}[1]{\\mathbf{#1}}\\mathit{Stundenwinkel} = \\pi - \\frac{\\pi \\mathit{WOZ}}{12 \\, \\mathit{Stunden}}</script></html>"
      ],
      "text/plain": [
       "Stundenwinkel == pi - 1/12*pi*WOZ/Stunden"
      ]
     },
     "metadata": {},
     "output_type": "display_data"
    }
   ],
   "source": [
    "Stundenwinkel_eqn = Stundenwinkel == (12 * Stunden - WOZ) * 15 * Grad / Stunden;\n",
    "pretty_print(Stundenwinkel_eqn.expand())\n",
    "\n",
    "Stundenwinkel_eqn = solve([Stundenwinkel_eqn, WOZ_eqn], WOZ, Stundenwinkel)[-1][-1].expand()\n",
    "#pretty_print(Stundenwinkel_eqn(TagDesJahres=d, Laengengrad=l))"
   ]
  },
  {
   "cell_type": "markdown",
   "metadata": {
    "slideshow": {
     "slide_type": "slide"
    }
   },
   "source": [
    "Mit der **geographischen Breite $\\varphi$** lassen sich **Sonnenhöhe** $\\gamma$ und -**azimut** $\\alpha$ berechnen:"
   ]
  },
  {
   "cell_type": "code",
   "execution_count": 8,
   "metadata": {},
   "outputs": [
    {
     "data": {
      "text/html": [
       "<html><script type=\"math/tex; mode=display\">\\newcommand{\\Bold}[1]{\\mathbf{#1}}\\mathit{Sonnenhoehe} = \\arcsin\\left(\\cos\\left(\\mathit{Stundenwinkel}\\right) \\cos\\left(\\delta\\right) \\cos\\left(\\varphi\\right) + \\sin\\left(\\delta\\right) \\sin\\left(\\varphi\\right)\\right)</script></html>"
      ],
      "text/plain": [
       "Sonnenhoehe == arcsin(cos(Stundenwinkel)*cos(delta)*cos(varphi) + sin(delta)*sin(varphi))"
      ]
     },
     "metadata": {},
     "output_type": "display_data"
    }
   ],
   "source": [
    "Sonnenhoehe_eqn = Sonnenhoehe == arcsin(\n",
    "    cos(Stundenwinkel) * cos(Breitengrad) * cos(delta)\n",
    "    + sin(Breitengrad) * sin(delta)\n",
    "    );\n",
    "pretty_print(Sonnenhoehe_eqn(Laengengrad=l, Breitengrad=varphi))\n",
    "\n",
    "Sonnenhoehe_eqn = solve([Sonnenhoehe_eqn, Stundenwinkel_eqn], Stundenwinkel, Sonnenhoehe)[-1][-1]\n",
    "Sonnenhoehe_eqn = solve([Sonnenhoehe_eqn, delta_eqn], delta, Sonnenhoehe)[-1][-1]\n",
    "#pretty_print(Sonnenhoehe_eqn(TagDesJahres=d, Laengengrad=l, Breitengrad=varphi))"
   ]
  },
  {
   "cell_type": "code",
   "execution_count": 9,
   "metadata": {},
   "outputs": [
    {
     "data": {
      "text/html": [
       "<html><script type=\"math/tex; mode=display\">\\newcommand{\\Bold}[1]{\\mathbf{#1}}\\mathit{Sonnenazimut} = \\pi + \\arccos\\left(\\frac{\\sin\\left(\\mathit{Sonnenhoehe}\\right) \\sin\\left(\\varphi\\right) - \\sin\\left(\\delta\\right)}{\\cos\\left(\\mathit{Sonnenhoehe}\\right) \\cos\\left(\\varphi\\right)}\\right) \\mathrm{sgn}\\left(\\frac{\\mathit{WOZ}}{\\mathit{Stunden}} - 12\\right)</script></html>"
      ],
      "text/plain": [
       "Sonnenazimut == pi + arccos((sin(Sonnenhoehe)*sin(varphi) - sin(delta))/(cos(Sonnenhoehe)*cos(varphi)))*sgn(WOZ/Stunden - 12)"
      ]
     },
     "metadata": {},
     "output_type": "display_data"
    }
   ],
   "source": [
    "Sonnenazimut_eqn = Sonnenazimut == (180 * Grad \n",
    "    + sign(WOZ/Stunden - 12)\n",
    "    * arccos(\n",
    "        (sin(Sonnenhoehe) * sin(Breitengrad) - sin(delta))\n",
    "        / (cos(Sonnenhoehe) * cos(Breitengrad))\n",
    "        )\n",
    "    );\n",
    "pretty_print(Sonnenazimut_eqn(Breitengrad=varphi))\n",
    "Sonnenazimut_eqn = solve([Sonnenazimut_eqn, Sonnenhoehe_eqn], Sonnenhoehe, Sonnenazimut)[-1][-1]\n",
    "Sonnenazimut_eqn = solve([Sonnenazimut_eqn, WOZ_eqn], WOZ, Sonnenazimut)[-1][-1]\n",
    "Sonnenazimut_eqn = solve([Sonnenazimut_eqn, delta_eqn], delta, Sonnenazimut)[-1][-1]\n",
    "#pretty_print(Sonnenazimut_eqn(TagDesJahres=d, Laengengrad=l, Breitengrad=varphi))"
   ]
  },
  {
   "cell_type": "markdown",
   "metadata": {
    "slideshow": {
     "slide_type": "slide"
    }
   },
   "source": [
    "## Heutiger Sonnenweg und jetziger Sonnestand"
   ]
  },
  {
   "cell_type": "markdown",
   "metadata": {},
   "source": [
    "Der heutige Sonnenweg am DBI-TZ kann mit den gegebenen Gleichungen bestimmt werden. Ein Vergleich kann mit dem Online-Angebot von [Sonnenverlauf.de](https://www.sonnenverlauf.de/#/50.93,13.35,17/2018.12.07/09:15/1/0) vorgenommen werden."
   ]
  },
  {
   "cell_type": "code",
   "execution_count": 10,
   "metadata": {},
   "outputs": [],
   "source": [
    "LON = -13.35 * Grad\n",
    "LAT = 50.93 * Grad\n",
    "\n",
    "Sonnenhoehe_hier = Sonnenhoehe_eqn(Laengengrad=LON, Breitengrad=LAT).factor()\n",
    "Sonnenazimut_hier = Sonnenazimut_eqn(Laengengrad=LON, Breitengrad=LAT).factor()\n",
    "WOZ_hier = WOZ_eqn(Laengengrad=LON)"
   ]
  },
  {
   "cell_type": "markdown",
   "metadata": {},
   "source": [
    "Zurzeit gilt die **Mitteleuropäische Normalzeit** $MEZ$:"
   ]
  },
  {
   "cell_type": "code",
   "execution_count": 11,
   "metadata": {},
   "outputs": [],
   "source": [
    "MEZ = + 1 * Stunden\n",
    "MESZ = + 2 * Stunden\n",
    "\n",
    "Jetzt = dt.datetime.utcnow() + dt.timedelta(hours = int(MEZ / Stunden));\n",
    "Heute = (Jetzt.date() - dt.date(Jetzt.year,1,1)).days + 1;\n",
    "\n",
    "LokaleZeit = (Jetzt.hour + Jetzt.minute/60) * Stunden;"
   ]
  },
  {
   "cell_type": "code",
   "execution_count": 12,
   "metadata": {},
   "outputs": [],
   "source": [
    "WOZ_jetzt = (WOZ_hier(TagDesJahres=Heute, LZ=LokaleZeit, ZZ=MEZ)/Stunden).expand()"
   ]
  },
  {
   "cell_type": "markdown",
   "metadata": {
    "slideshow": {
     "slide_type": "slide"
    }
   },
   "source": [
    "Mit dem **Tag des Jahres** ergibt sich:"
   ]
  },
  {
   "cell_type": "code",
   "execution_count": 13,
   "metadata": {},
   "outputs": [],
   "source": [
    "J_heute = J_eqn(TagDesJahres=Heute).rhs()\n",
    "delta_heute = delta_eqn(TagDesJahres=Heute).rhs()\n",
    "ZG_heute = ZG_eqn(TagDesJahres=Heute).rhs()"
   ]
  },
  {
   "cell_type": "code",
   "execution_count": 14,
   "metadata": {
    "scrolled": true
   },
   "outputs": [
    {
     "data": {
      "text/html": [
       "<html><script type=\"math/tex; mode=display\">\\newcommand{\\Bold}[1]{\\mathbf{#1}}\\begin{array}{l}\n",
       "\\verb|Seit|\\phantom{\\verb!x!}\\verb|Beginn|\\phantom{\\verb!x!}\\verb|des|\\phantom{\\verb!x!}\\verb|Tages|\\phantom{\\verb!x!}\\verb|sind|\\phantom{\\verb!x!}\\verb|12.8|\\phantom{\\verb!x!}\\verb|Stunden|\\phantom{\\verb!x!}\\verb|vergangen.|\\\\\n",
       "\\verb|Heute|\\phantom{\\verb!x!}\\verb|haben|\\phantom{\\verb!x!}\\verb|wir|\\phantom{\\verb!x!}\\verb|den|\\phantom{\\verb!x!}\\verb|341.|\\phantom{\\verb!x!}\\verb|Tag|\\phantom{\\verb!x!}\\verb|des|\\phantom{\\verb!x!}\\verb|Jahres.|\\\\\n",
       "\\verb|Die|\\phantom{\\verb!x!}\\verb|Erde|\\phantom{\\verb!x!}\\verb|hat|\\phantom{\\verb!x!}\\verb|seit|\\phantom{\\verb!x!}\\verb|Begin|\\phantom{\\verb!x!}\\verb|des|\\phantom{\\verb!x!}\\verb|Jahres|\\phantom{\\verb!x!}\\verb|336.3|\\phantom{\\verb!x!}\\verb|Grad|\\phantom{\\verb!x!}\\verb|auf|\\phantom{\\verb!x!}\\verb|der|\\phantom{\\verb!x!}\\verb|Sonnenumlaufbahn|\\phantom{\\verb!x!}\\verb|zurückgelegt.|\\\\\n",
       "\\verb|Die|\\phantom{\\verb!x!}\\verb|Abweichung|\\phantom{\\verb!x!}\\verb|des|\\phantom{\\verb!x!}\\verb|Sonnenstandes|\\phantom{\\verb!x!}\\verb|ist|\\phantom{\\verb!x!}\\verb|heute|\\phantom{\\verb!x!}\\verb|etwa|\\phantom{\\verb!x!}\\verb|-22.5|\\phantom{\\verb!x!}\\verb|Grad.|\\\\\n",
       "\\verb|Die|\\phantom{\\verb!x!}\\verb|Sonnenzeit|\\phantom{\\verb!x!}\\verb|weicht|\\phantom{\\verb!x!}\\verb|heute|\\phantom{\\verb!x!}\\verb|8.4|\\phantom{\\verb!x!}\\verb|Minuten|\\phantom{\\verb!x!}\\verb|von|\\phantom{\\verb!x!}\\verb|der|\\phantom{\\verb!x!}\\verb|lokalen|\\phantom{\\verb!x!}\\verb|Zeit|\\phantom{\\verb!x!}\\verb|ab.|\n",
       "\\end{array}</script></html>"
      ],
      "text/plain": [
       "'Seit Beginn des Tages sind 12.8 Stunden vergangen.\\nHeute haben wir den 341. Tag des Jahres.\\nDie Erde hat seit Begin des Jahres 336.3 Grad auf der Sonnenumlaufbahn zur\\xc3\\xbcckgelegt.\\nDie Abweichung des Sonnenstandes ist heute etwa -22.5 Grad.\\nDie Sonnenzeit weicht heute 8.4 Minuten von der lokalen Zeit ab.'"
      ]
     },
     "metadata": {},
     "output_type": "display_data"
    }
   ],
   "source": [
    "pretty_print(   'Seit Beginn des Tages sind {:.1f} Stunden vergangen.\\n'\n",
    "                'Heute haben wir den {}. Tag des Jahres.\\n'\n",
    "                'Die Erde hat seit Begin des Jahres {:.1f} Grad auf der Sonnenumlaufbahn zurückgelegt.\\n'\n",
    "                'Die Abweichung des Sonnenstandes ist heute etwa {:.1f} Grad.\\n'\n",
    "                'Die Sonnenzeit weicht heute {:.1f} Minuten von der lokalen Zeit ab.'.format(\n",
    "                    float(LokaleZeit/Stunden),\n",
    "                    Heute,\n",
    "                    float(J_heute/Grad),\n",
    "                    float(delta_heute/Grad),\n",
    "                    float(ZG_heute/Minuten))\n",
    "            )"
   ]
  },
  {
   "cell_type": "markdown",
   "metadata": {
    "slideshow": {
     "slide_type": "slide"
    }
   },
   "source": [
    "Über das Jahr gesehen hat die **Abweichung** folgenden Verlauf."
   ]
  },
  {
   "cell_type": "code",
   "execution_count": 15,
   "metadata": {},
   "outputs": [
    {
     "data": {
      "image/png": "[encoded data removed]",
      "text/plain": [
       "Graphics object consisting of 1 graphics primitive"
      ]
     },
     "execution_count": 15,
     "metadata": {},
     "output_type": "execute_result"
    }
   ],
   "source": [
    "Deltadiagram = plot(delta_eqn.rhs()/Grad, 0, 365)\n",
    "Deltadiagram.axes_labels(['Tag des\\n Jahres',u'Sonnendeklination\\n in °'])\n",
    "Deltadiagram"
   ]
  },
  {
   "cell_type": "markdown",
   "metadata": {
    "slideshow": {
     "slide_type": "slide"
    }
   },
   "source": [
    "Über das Jahr gesehen hat die **Zeitgleichung** folgenden Verlauf."
   ]
  },
  {
   "cell_type": "code",
   "execution_count": 16,
   "metadata": {},
   "outputs": [
    {
     "data": {
      "image/png": "[encoded data removed]",
      "text/plain": [
       "Graphics object consisting of 1 graphics primitive"
      ]
     },
     "execution_count": 16,
     "metadata": {},
     "output_type": "execute_result"
    }
   ],
   "source": [
    "Zgldiagramm = plot(ZG_eqn.rhs()/Minuten, 0, 365)\n",
    "Zgldiagramm.axes_labels(['Tag des\\n Jahres','Abweichung von der\\n Sonnenzeit in Minuten'])\n",
    "Zgldiagramm"
   ]
  },
  {
   "cell_type": "markdown",
   "metadata": {
    "slideshow": {
     "slide_type": "slide"
    }
   },
   "source": [
    "Für **heute**:"
   ]
  },
  {
   "cell_type": "code",
   "execution_count": 17,
   "metadata": {},
   "outputs": [],
   "source": [
    "SH = (Sonnenhoehe_hier(TagDesJahres=Heute, ZZ=MEZ, LZ=LZ*Stunden).rhs()/Grad).function(LZ)"
   ]
  },
  {
   "cell_type": "code",
   "execution_count": 18,
   "metadata": {},
   "outputs": [
    {
     "data": {
      "text/html": [
       "<html><script type=\"math/tex; mode=display\">\\newcommand{\\Bold}[1]{\\mathbf{#1}}\\verb|Zur|\\phantom{\\verb!x!}\\verb|Zeit|\\phantom{\\verb!x!}\\verb|steht|\\phantom{\\verb!x!}\\verb|die|\\phantom{\\verb!x!}\\verb|Sonne|\\phantom{\\verb!x!}\\verb|in|\\phantom{\\verb!x!}\\verb|einem|\\phantom{\\verb!x!}\\verb|Winkel|\\phantom{\\verb!x!}\\verb|von|\\phantom{\\verb!x!}\\verb|etwa|\\phantom{\\verb!x!}\\verb|15.8|\\phantom{\\verb!x!}\\verb|Grad|\\phantom{\\verb!x!}\\verb|ueber|\\phantom{\\verb!x!}\\verb|dem|\\phantom{\\verb!x!}\\verb|DBI-TZ.|</script></html>"
      ],
      "text/plain": [
       "'Zur Zeit steht die Sonne in einem Winkel von etwa 15.8 Grad ueber dem DBI-TZ.'"
      ]
     },
     "metadata": {},
     "output_type": "display_data"
    }
   ],
   "source": [
    "Hoehe = SH(LokaleZeit/Stunden).n()\n",
    "pretty_print('Zur Zeit steht die Sonne in einem Winkel von etwa {:.1f} Grad ueber dem DBI-TZ.'.format(float(Hoehe)))"
   ]
  },
  {
   "cell_type": "markdown",
   "metadata": {
    "slideshow": {
     "slide_type": "slide"
    }
   },
   "source": [
    "Natürlich können wir mit unseren Gleichungen auch den Zeitpunkt des Sonnenauf- und -untergangs berechnen, indem wir die Nulldurchgänge der Sonnenhöhe am Vormittag und Nachmittag bestimmen."
   ]
  },
  {
   "cell_type": "code",
   "execution_count": 19,
   "metadata": {},
   "outputs": [
    {
     "data": {
      "text/html": [
       "<html><script type=\"math/tex; mode=display\">\\newcommand{\\Bold}[1]{\\mathbf{#1}}\\verb|Sonnenaufgang|\\phantom{\\verb!x!}\\verb|war|\\phantom{\\verb!x!}\\verb|etwa|\\phantom{\\verb!x!}\\verb|um|\\phantom{\\verb!x!}\\verb|08:01|\\phantom{\\verb!x!}\\verb|und|\\phantom{\\verb!x!}\\verb|Sonnenuntergang|\\phantom{\\verb!x!}\\verb|wird|\\phantom{\\verb!x!}\\verb|etwa|\\phantom{\\verb!x!}\\verb|um|\\phantom{\\verb!x!}\\verb|15:55|\\phantom{\\verb!x!}\\verb|sein.|</script></html>"
      ],
      "text/plain": [
       "'Sonnenaufgang war etwa um 08:01 und Sonnenuntergang wird etwa um 15:55 sein.'"
      ]
     },
     "metadata": {},
     "output_type": "display_data"
    }
   ],
   "source": [
    "Sonnenaufgang = find_root(SH,0,12)\n",
    "Sonnenuntergang = find_root(SH,12,24)\n",
    "\n",
    "pretty_print('Sonnenaufgang war etwa um {:%H:%M} und Sonnenuntergang wird etwa um {:%H:%M} sein.'.format(\n",
    "                dt.datetime.utcfromtimestamp(float(Sonnenaufgang*3600))\n",
    "                ,dt.datetime.utcfromtimestamp(float(Sonnenuntergang*3600))\n",
    "                )\n",
    "            )"
   ]
  },
  {
   "cell_type": "markdown",
   "metadata": {
    "slideshow": {
     "slide_type": "slide"
    }
   },
   "source": [
    "Wir können auch den Sonnenhöchststand ermitteln, indem wir die folgende Extremwertaufgabe lösen."
   ]
  },
  {
   "cell_type": "code",
   "execution_count": 20,
   "metadata": {},
   "outputs": [
    {
     "data": {
      "text/html": [
       "<html><script type=\"math/tex; mode=display\">\\newcommand{\\Bold}[1]{\\mathbf{#1}}\\verb|Der|\\phantom{\\verb!x!}\\verb|Sonnenhöchststand|\\phantom{\\verb!x!}\\verb|ist|\\phantom{\\verb!x!}\\verb|heute|\\phantom{\\verb!x!}\\verb|um|\\phantom{\\verb!x!}\\verb|11:58.|</script></html>"
      ],
      "text/plain": [
       "'Der Sonnenh\\xc3\\xb6chststand ist heute um 11:58.'"
      ]
     },
     "metadata": {},
     "output_type": "display_data"
    }
   ],
   "source": [
    "Mittag = find_root(SH.diff(LZ),Sonnenaufgang,Sonnenuntergang)\n",
    "pretty_print('Der Sonnenhöchststand ist heute um {:%H:%M}.'.format(\n",
    "                dt.datetime.utcfromtimestamp(float(Mittag*3600))\n",
    "                )\n",
    "            )"
   ]
  },
  {
   "cell_type": "code",
   "execution_count": 21,
   "metadata": {},
   "outputs": [
    {
     "data": {
      "text/html": [
       "<html><script type=\"math/tex; mode=display\">\\newcommand{\\Bold}[1]{\\mathbf{#1}}\\verb|Zur|\\phantom{\\verb!x!}\\verb|Zeit|\\phantom{\\verb!x!}\\verb|steht|\\phantom{\\verb!x!}\\verb|die|\\phantom{\\verb!x!}\\verb|Sonne|\\phantom{\\verb!x!}\\verb|im|\\phantom{\\verb!x!}\\verb|Azimut|\\phantom{\\verb!x!}\\verb|von|\\phantom{\\verb!x!}\\verb|191.5|\\phantom{\\verb!x!}\\verb|Grad.|</script></html>"
      ],
      "text/plain": [
       "'Zur Zeit steht die Sonne im Azimut von 191.5 Grad.'"
      ]
     },
     "metadata": {},
     "output_type": "display_data"
    }
   ],
   "source": [
    "SA = Sonnenazimut_hier(TagDesJahres=Heute, ZZ=MEZ, LZ=LZ*Stunden).rhs()/Grad\n",
    "SA = SA(Stunden=1).function(LZ) # Die sign-Funktion lässt sich sonst nicht gut vereinfachen.\n",
    "\n",
    "Azimut = SA(LZ=LokaleZeit/Stunden).n()\n",
    "pretty_print('Zur Zeit steht die Sonne im Azimut von {:.1f} Grad.'.format(float(Azimut)))"
   ]
  },
  {
   "cell_type": "code",
   "execution_count": 22,
   "metadata": {
    "slideshow": {
     "slide_type": "slide"
    }
   },
   "outputs": [],
   "source": [
    "aspectratio = 3\n",
    "durchmesser = 10\n",
    "StundenListe = srange(12-6, 12+10, 2)\n",
    "\n",
    "# Sonnenweg\n",
    "Sonnenwegdiagram = parametric_plot( (SA(Zeit), SH(Zeit)), (Zeit, Sonnenaufgang, Sonnenuntergang ) )\n",
    "# Punkte für Stunden\n",
    "SonnenwegdiagramStunden = point( [(SA(Zeit), SH(Zeit)) for Zeit in StundenListe] )\n",
    "# Symbol für die Sonne\n",
    "Sonne = ellipse((Azimut,Hoehe),durchmesser,durchmesser / aspectratio,rgbcolor='yellow', fill=True, legend_label='Die Sonne')\n",
    "\n",
    "# Grafikobjekt\n",
    "G = Graphics()\n",
    "G += Sonnenwegdiagram\n",
    "G += SonnenwegdiagramStunden\n",
    "# Beschriftung für Stunden\n",
    "for Zeit in StundenListe:\n",
    "    if SH(Zeit) > -5:\n",
    "        da = 3\n",
    "        if Zeit < 12: da = -3\n",
    "        G += text('{}'.format(Zeit),(SA(Zeit) + da, SH(Zeit) + 6 / aspectratio))\n",
    "G += Sonne\n",
    "\n",
    "G.axes_range(0,360,0,60)\n",
    "G.axes_labels(['Azimut',u'Höhe'])\n",
    "G.set_aspect_ratio(aspectratio)"
   ]
  },
  {
   "cell_type": "code",
   "execution_count": 23,
   "metadata": {
    "slideshow": {
     "slide_type": "slide"
    }
   },
   "outputs": [
    {
     "data": {
      "image/png": "[encoded data removed]",
      "text/plain": [
       "Graphics object consisting of 8 graphics primitives"
      ]
     },
     "metadata": {},
     "output_type": "display_data"
    }
   ],
   "source": [
    "G.show()"
   ]
  },
  {
   "cell_type": "markdown",
   "metadata": {
    "slideshow": {
     "slide_type": "slide"
    }
   },
   "source": [
    "## Sonnenstunden\n",
    "Die Definition der Luftmasse in der Vorlesung $LM = \\frac{1}{\\sin{\\gamma_S}}$ gilt nur für große Winkel $\\gamma_S > 30\\, °$.\n",
    "Diese Bedingung ist in unseren Breitengraden selten der Fall.\n",
    "Deshalb verwenden wir hier eine [Formel](http://www.pveducation.org/pvcdrom/2-properties-sunlight/air-mass),\n",
    "die die Krümmung der Erdoberfläche berücksichtigt."
   ]
  },
  {
   "cell_type": "code",
   "execution_count": 24,
   "metadata": {},
   "outputs": [
    {
     "data": {
      "text/html": [
       "<html><script type=\"math/tex; mode=display\">\\newcommand{\\Bold}[1]{\\mathbf{#1}}\\mathit{Luftmasse} = \\frac{1}{\\sin\\left(\\gamma\\right)}</script></html>"
      ],
      "text/plain": [
       "Luftmasse == (1/sin(gamma))"
      ]
     },
     "metadata": {},
     "output_type": "display_data"
    },
    {
     "data": {
      "text/html": [
       "<html><script type=\"math/tex; mode=display\">\\newcommand{\\Bold}[1]{\\mathbf{#1}}\\mathit{Luftmasse} = \\frac{45 \\, \\left(\\frac{9}{20000}\\right)^{\\frac{1591}{2500}} \\left(\\frac{13511 \\, \\pi + 400000 \\, \\gamma}{\\pi}\\right)^{\\frac{4091}{2500}}}{45 \\, \\left(\\frac{9}{20000}\\right)^{\\frac{1591}{2500}} \\left(\\frac{13511 \\, \\pi + 400000 \\, \\gamma}{\\pi}\\right)^{\\frac{4091}{2500}} \\sin\\left(\\gamma\\right) + 50572}</script></html>"
      ],
      "text/plain": [
       "Luftmasse == 45*(9/20000)^(1591/2500)*((13511*pi + 400000*gamma)/pi)^(4091/2500)/(45*(9/20000)^(1591/2500)*((13511*pi + 400000*gamma)/pi)^(4091/2500)*sin(gamma) + 50572)"
      ]
     },
     "metadata": {},
     "output_type": "display_data"
    }
   ],
   "source": [
    "# Formel aus der Vorlesung\n",
    "LM_eqn = Luftmasse == (1/sin(Sonnenhoehe))\n",
    "pretty_print(LM_eqn(Sonnenhoehe=gamma))\n",
    "\n",
    "# Alternative Formel\n",
    "LM_alt = Luftmasse == (1/(cos(90 * Grad - Sonnenhoehe) + 0.50572 * (6.07995 + Sonnenhoehe/Grad)**(-1.6364))).factor()\n",
    "pretty_print(LM_alt(Sonnenhoehe=gamma))"
   ]
  },
  {
   "cell_type": "code",
   "execution_count": 25,
   "metadata": {
    "slideshow": {
     "slide_type": "-"
    }
   },
   "outputs": [],
   "source": [
    "SH = Sonnenhoehe_hier(ZZ=MEZ, LZ=LZ*Stunden).rhs()\n",
    "LM_hier = LM_alt.subs(Sonnenhoehe=SH).rhs()"
   ]
  },
  {
   "cell_type": "markdown",
   "metadata": {
    "slideshow": {
     "slide_type": "slide"
    }
   },
   "source": [
    "Anhand des Sonnenweges können die Sonnenstunden eines Jahres und die mittlere Luftmasse ermittelt werden."
   ]
  },
  {
   "cell_type": "code",
   "execution_count": 26,
   "metadata": {
    "slideshow": {
     "slide_type": "-"
    }
   },
   "outputs": [],
   "source": [
    "ErsterTag = 1\n",
    "Sonnenstunden = 0\n",
    "LM_sum = 0\n",
    "Delta = 0.01\n",
    "\n",
    "for Heute in srange(ErsterTag, ErsterTag + ZahlDerTageImJahr, 1):\n",
    "    SH_heute = SH(TagDesJahres=Heute).factor()\n",
    "    LM_heute = LM_hier(TagDesJahres=Heute).factor()\n",
    "    Sonnenaufgang = find_root(SH_heute, 0, 12)\n",
    "    Sonnenuntergang = find_root(SH_heute, 12, 24)\n",
    "    Sonnenstunden += float(Sonnenuntergang - Sonnenaufgang - 2 * Delta)\n",
    "    LM_sum += numerical_integral(\n",
    "                    LM_heute, \n",
    "                    Sonnenaufgang + Delta, \n",
    "                    Sonnenuntergang - Delta\n",
    "                )[0]/float(Sonnenuntergang - Sonnenaufgang - 2 * Delta)"
   ]
  },
  {
   "cell_type": "code",
   "execution_count": 27,
   "metadata": {},
   "outputs": [
    {
     "data": {
      "text/html": [
       "<html><script type=\"math/tex; mode=display\">\\newcommand{\\Bold}[1]{\\mathbf{#1}}\\begin{array}{l}\n",
       "\\verb|An|\\phantom{\\verb!x!}\\verb|diesem|\\phantom{\\verb!x!}\\verb|Ort|\\phantom{\\verb!x!}\\verb|gibt|\\phantom{\\verb!x!}\\verb|es|\\phantom{\\verb!x!}\\verb|4398|\\phantom{\\verb!x!}\\verb|Stunden|\\phantom{\\verb!x!}\\verb|Tageslicht|\\phantom{\\verb!x!}\\verb|im|\\phantom{\\verb!x!}\\verb|Jahr.|\\\\\n",
       "\\verb|Die|\\phantom{\\verb!x!}\\verb|mittlere|\\phantom{\\verb!x!}\\verb|tägliche|\\phantom{\\verb!x!}\\verb|Sonnenscheindauer|\\phantom{\\verb!x!}\\verb|beträgt|\\phantom{\\verb!x!}\\verb|12.05|\\phantom{\\verb!x!}\\verb|Stunden.|\\\\\n",
       "\\verb|Die|\\phantom{\\verb!x!}\\verb|mittlere|\\phantom{\\verb!x!}\\verb|Luftmasse|\\phantom{\\verb!x!}\\verb|beträgt|\\phantom{\\verb!x!}\\verb|4.88.|\n",
       "\\end{array}</script></html>"
      ],
      "text/plain": [
       "'An diesem Ort gibt es 4398 Stunden Tageslicht im Jahr.\\nDie mittlere t\\xc3\\xa4gliche Sonnenscheindauer betr\\xc3\\xa4gt 12.05 Stunden.\\nDie mittlere Luftmasse betr\\xc3\\xa4gt 4.88.'"
      ]
     },
     "metadata": {},
     "output_type": "display_data"
    }
   ],
   "source": [
    "pretty_print(   'An diesem Ort gibt es {:.0f} Stunden Tageslicht im Jahr.\\n'\n",
    "                'Die mittlere tägliche Sonnenscheindauer beträgt {:.2f} Stunden.\\n'\n",
    "                'Die mittlere Luftmasse beträgt {:.2f}.'.format(\n",
    "                    Sonnenstunden,\n",
    "                    Sonnenstunden/ZahlDerTageImJahr,\n",
    "                    LM_sum/ZahlDerTageImJahr) \n",
    "            )"
   ]
  },
  {
   "cell_type": "markdown",
   "metadata": {
    "slideshow": {
     "slide_type": "slide"
    }
   },
   "source": [
    "In Deutschland wird von einer Sonnenscheindauer von $1000$ Stunden pro Jahr ausgegangen.\n",
    "Um auf die Sonnenscheindauer zu kommen, wird die gleiche Auswertung für die Mittagsstunden wiederholt."
   ]
  },
  {
   "cell_type": "code",
   "execution_count": 28,
   "metadata": {},
   "outputs": [],
   "source": [
    "ErsterTag = 1\n",
    "Sonnenstunden = 0\n",
    "LM_sum = 0\n",
    "Delta = 0.01\n",
    "for Heute in srange(ErsterTag, ErsterTag + ZahlDerTageImJahr, 1):\n",
    "    SH_heute = SH(TagDesJahres=Heute).factor()\n",
    "    LM_heute = LM_hier(TagDesJahres=Heute).factor()\n",
    "    Sonnenaufgang = find_root(SH_heute, 0, 12)\n",
    "    Sonnenuntergang = find_root(SH_heute, 12, 24)\n",
    "    Mittag = find_root(SH_heute.diff(LZ), Sonnenaufgang, Sonnenuntergang)\n",
    "    Mittagsstunden = (Sonnenuntergang - Sonnenaufgang)/4\n",
    "    Anfangszeit = Mittag - Mittagsstunden/2\n",
    "    Endzeit = Mittag + Mittagsstunden/2\n",
    "    Sonnenstunden += float(Mittagsstunden)\n",
    "    LM_sum += numerical_integral(\n",
    "                    LM_heute, \n",
    "                    Sonnenaufgang + Delta, \n",
    "                    Sonnenuntergang - Delta\n",
    "                )[0]/float(Mittagsstunden)"
   ]
  },
  {
   "cell_type": "code",
   "execution_count": 29,
   "metadata": {},
   "outputs": [
    {
     "data": {
      "text/html": [
       "<html><script type=\"math/tex; mode=display\">\\newcommand{\\Bold}[1]{\\mathbf{#1}}\\begin{array}{l}\n",
       "\\verb|An|\\phantom{\\verb!x!}\\verb|diesem|\\phantom{\\verb!x!}\\verb|Ort|\\phantom{\\verb!x!}\\verb|gibt|\\phantom{\\verb!x!}\\verb|es|\\phantom{\\verb!x!}\\verb|1101|\\phantom{\\verb!x!}\\verb|Stunden|\\phantom{\\verb!x!}\\verb|Sonnenschein|\\phantom{\\verb!x!}\\verb|im|\\phantom{\\verb!x!}\\verb|Jahr.|\\\\\n",
       "\\verb|Die|\\phantom{\\verb!x!}\\verb|mittlere|\\phantom{\\verb!x!}\\verb|tägliche|\\phantom{\\verb!x!}\\verb|Sonnenscheindauer|\\phantom{\\verb!x!}\\verb|beträgt|\\phantom{\\verb!x!}\\verb|3.02|\\phantom{\\verb!x!}\\verb|Stunden.|\\\\\n",
       "\\verb|Die|\\phantom{\\verb!x!}\\verb|mittlere|\\phantom{\\verb!x!}\\verb|Luftmasse|\\phantom{\\verb!x!}\\verb|beträgt|\\phantom{\\verb!x!}\\verb|1.97.|\n",
       "\\end{array}</script></html>"
      ],
      "text/plain": [
       "'An diesem Ort gibt es 1101 Stunden Sonnenschein im Jahr.\\nDie mittlere t\\xc3\\xa4gliche Sonnenscheindauer betr\\xc3\\xa4gt 3.02 Stunden.\\nDie mittlere Luftmasse betr\\xc3\\xa4gt 1.97.'"
      ]
     },
     "metadata": {},
     "output_type": "display_data"
    }
   ],
   "source": [
    "pretty_print(   'An diesem Ort gibt es {:.0f} Stunden Sonnenschein im Jahr.\\n'\n",
    "                'Die mittlere tägliche Sonnenscheindauer beträgt {:.2f} Stunden.\\n'\n",
    "                'Die mittlere Luftmasse beträgt {:.2f}.'.format(\n",
    "                    Sonnenstunden,\n",
    "                    Sonnenstunden/ZahlDerTageImJahr,\n",
    "                    LM_sum/ZahlDerTageImJahr) \n",
    "            )"
   ]
  },
  {
   "cell_type": "markdown",
   "metadata": {
    "slideshow": {
     "slide_type": "slide"
    }
   },
   "source": [
    "Für einen bestimmten Tag des Jahres ergibt sich folgender Verlauf der Luftmasse und der Sonnenhöhe."
   ]
  },
  {
   "cell_type": "code",
   "execution_count": 30,
   "metadata": {
    "slideshow": {
     "slide_type": "-"
    }
   },
   "outputs": [
    {
     "name": "stdout",
     "output_type": "stream",
     "text": [
      "----------------------\n",
      "Zeit\t LM\t SH\n",
      "in h\t -\t in °\n",
      "---------------------\n",
      " 8.4\t28.8\t 0.0\n",
      " 9.4\t 7.4\t 0.1\n",
      "10.4\t 4.6\t 0.2\n",
      "11.4\t 3.7\t 0.3\n",
      "12.4\t 3.6\t 0.3\n",
      "13.4\t 4.0\t 0.2\n",
      "14.4\t 5.3\t 0.2\n",
      "15.4\t10.7\t 0.1\n",
      "---------------------\n"
     ]
    }
   ],
   "source": [
    "Heute = 1 #364/2\n",
    "\n",
    "SH_heute = SH(TagDesJahres=Heute).factor()\n",
    "LM_heute = LM_hier(TagDesJahres=Heute).factor()\n",
    "\n",
    "Sonnenaufgang = find_root(SH_heute, 0, 12)\n",
    "Sonnenuntergang = find_root(SH_heute, 12, 24)\n",
    "Mittag = find_root(SH_heute.diff(LZ), Sonnenaufgang, Sonnenuntergang)\n",
    "\n",
    "print '----------------------'\n",
    "print 'Zeit\\t LM\\t SH'\n",
    "print 'in h\\t -\\t in °'\n",
    "print '---------------------'\n",
    "for Zeit in srange(Sonnenaufgang+0.1,Sonnenuntergang):\n",
    "    print '{:4.1f}\\t{:4.1f}\\t{:4.1f}'.format(float(Zeit), float(LM_heute(LZ=Zeit)), float(SH_heute(LZ=Zeit)))\n",
    "print '---------------------'"
   ]
  },
  {
   "cell_type": "markdown",
   "metadata": {},
   "source": [
    "----"
   ]
  },
  {
   "cell_type": "raw",
   "metadata": {
    "slideshow": {
     "slide_type": "skip"
    }
   },
   "source": [
    "<script>\n",
    "  $(document).ready(function(){\n",
    "    $('div.prompt').hide();\n",
    "    $('div.back-to-top').hide();\n",
    "    <!-- $('nav#menubar').hide(); -->\n",
    "    $('.breadcrumb').hide();\n",
    "    $('.hidden-print').hide();\n",
    "  });\n",
    "</script>\n",
    "\n",
    "<footer id=\"attribution\" style=\"float:right; color:#999; background:#fff;\">\n",
    "Created with Jupyter, delivered by Fastly, rendered by Rackspace.\n",
    "</footer>"
   ]
  }
 ],
 "metadata": {
  "celltoolbar": "Slideshow",
  "kernelspec": {
   "display_name": "SageMath 8.0",
   "language": "",
   "name": "sagemath"
  },
  "language_info": {
   "codemirror_mode": {
    "name": "ipython",
    "version": 2
   },
   "file_extension": ".py",
   "mimetype": "text/x-python",
   "name": "python",
   "nbconvert_exporter": "python",
   "pygments_lexer": "ipython2",
   "version": "2.7.13"
  },
  "livereveal": {
   "scroll": true,
   "slideNumber": "c.v",
   "start_slideshow_at": "selected",
   "theme": "sky",
   "transition": "zoom"
  }
 },
 "nbformat": 4,
 "nbformat_minor": 2
}
