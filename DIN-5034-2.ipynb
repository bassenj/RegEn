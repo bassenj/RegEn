{
 "cells": [
  {
   "cell_type": "markdown",
   "metadata": {
    "deletable": true,
    "editable": true
   },
   "source": [
    "# DIN-5032-2-Algorithmus"
   ]
  },
  {
   "cell_type": "markdown",
   "metadata": {
    "deletable": true,
    "editable": true
   },
   "source": [
    "Berechne mithilfe von"
   ]
  },
  {
   "cell_type": "code",
   "execution_count": 1,
   "metadata": {
    "collapsed": true,
    "deletable": true,
    "editable": true
   },
   "outputs": [],
   "source": [
    "%display plain #latex"
   ]
  },
  {
   "cell_type": "code",
   "execution_count": 2,
   "metadata": {
    "collapsed": false,
    "deletable": true,
    "editable": true
   },
   "outputs": [],
   "source": [
    "Grad=pi/180\n",
    "var('TagDesJahres')\n",
    "ZahlDerTageImJahr=365\n",
    "J = 360 * Grad * TagDesJahres / ZahlDerTageImJahr;"
   ]
  },
  {
   "cell_type": "markdown",
   "metadata": {
    "deletable": true,
    "editable": true
   },
   "source": [
    "die Sonnendeklination"
   ]
  },
  {
   "cell_type": "code",
   "execution_count": 3,
   "metadata": {
    "collapsed": false,
    "deletable": true,
    "editable": true
   },
   "outputs": [],
   "source": [
    "delta = (0.3948 \n",
    "         - 23.2559 * cos(J + 9.1 * Grad)\n",
    "         - 0.3915 * cos(2 * J + 5.4 * Grad)\n",
    "         - 0.1764 * cos(3 * J + 26. * Grad)\n",
    "        ) * Grad;\n",
    "delta;"
   ]
  },
  {
   "cell_type": "markdown",
   "metadata": {
    "deletable": true,
    "editable": true
   },
   "source": [
    "An diesen Gleichungen wird bereits deutlich, dass der Algorithmus nur ungefähre Ergebnisse liefern kann, da das Konzept der Schaltjahre und Schaltsekunden nicht berücksichtigt wird."
   ]
  },
  {
   "cell_type": "markdown",
   "metadata": {
    "deletable": true,
    "editable": true
   },
   "source": [
    "Bestimme die sogenannte Zeitgleichung"
   ]
  },
  {
   "cell_type": "code",
   "execution_count": 4,
   "metadata": {
    "collapsed": false,
    "deletable": true,
    "editable": true
   },
   "outputs": [],
   "source": [
    "var('Stunden')\n",
    "Minuten = Stunden / 60\n",
    "Zgl = (0.0066 \n",
    "       + 7.3525 * cos(J + 85.9 * Grad)\n",
    "       + 9.9359 * cos(2 * J + 108.9 * Grad)\n",
    "       + 0.3387 * cos(3 * J + 105.2 * Grad)\n",
    "      ) * Minuten;\n",
    "Zgl;"
   ]
  },
  {
   "cell_type": "markdown",
   "metadata": {
    "deletable": true,
    "editable": true
   },
   "source": [
    "und aus der lokalen Zeit LZ und der Zeitzone (z.B. MEZ = UTC+1 oder MESZ = UTC+2) oder direkt aus der Weltzeit (UTC) in Abhängigkeit der geographischen Länge $\\lambda$ die mittlere Ortszeit"
   ]
  },
  {
   "cell_type": "code",
   "execution_count": 5,
   "metadata": {
    "collapsed": false,
    "deletable": true,
    "editable": true
   },
   "outputs": [],
   "source": [
    "var('LZ')\n",
    "var('Zeitzone')\n",
    "var('Laengengrad')\n",
    "UTC = LZ - Zeitzone\n",
    "MOZ= UTC - 4 * (0 * 15 * Grad - Laengengrad) * Minuten / Grad;\n",
    "MOZ;"
   ]
  },
  {
   "cell_type": "markdown",
   "metadata": {
    "deletable": true,
    "editable": true
   },
   "source": [
    "und damit die wahre Ortszeit, welche die Schwankungen der Erdrotation berücksichtigt,"
   ]
  },
  {
   "cell_type": "code",
   "execution_count": 6,
   "metadata": {
    "collapsed": false,
    "deletable": true,
    "editable": true
   },
   "outputs": [],
   "source": [
    "WOZ = MOZ + Zgl;\n",
    "WOZ;"
   ]
  },
  {
   "cell_type": "markdown",
   "metadata": {
    "deletable": true,
    "editable": true
   },
   "source": [
    "Durch die geographische Breite $\\varphi$ und den Stundenwinkel"
   ]
  },
  {
   "cell_type": "code",
   "execution_count": 7,
   "metadata": {
    "collapsed": false,
    "deletable": true,
    "editable": true
   },
   "outputs": [],
   "source": [
    "Stundenwinkel = (12 * Stunden - WOZ) * 15 * Grad / Stunden;\n",
    "Stundenwinkel;"
   ]
  },
  {
   "cell_type": "markdown",
   "metadata": {
    "deletable": true,
    "editable": true
   },
   "source": [
    "lassen sich Sonnenhöhe und –azimut berechnen"
   ]
  },
  {
   "cell_type": "code",
   "execution_count": 8,
   "metadata": {
    "collapsed": false,
    "deletable": true,
    "editable": true
   },
   "outputs": [],
   "source": [
    "var('Breitengrad')\n",
    "Sonnenhoehe = arcsin(\n",
    "    cos(Stundenwinkel) * cos(Breitengrad) * cos(delta)\n",
    "    + sin(Breitengrad) * sin(delta)\n",
    "    );\n",
    "Sonnenhoehe;\n",
    "Sonnenazimut = (180 * Grad \n",
    "    + sign(WOZ / Stunden - 12)\n",
    "    * arccos(\n",
    "        (sin(Sonnenhoehe) * sin(Breitengrad) - sin(delta))\n",
    "        / (cos(Sonnenhoehe) * cos(Breitengrad))\n",
    "        )\n",
    "    );\n",
    "Sonnenazimut;"
   ]
  },
  {
   "cell_type": "markdown",
   "metadata": {
    "deletable": true,
    "editable": true
   },
   "source": [
    "## Rechenaufgabe:"
   ]
  },
  {
   "cell_type": "markdown",
   "metadata": {
    "deletable": true,
    "editable": true
   },
   "source": [
    "Bestimme den heutigen Sonnenweg am DBI-TZ! Ein Vergleich kann mit dem Online-Angebot von [Sonnenverlauf.de](https://www.sonnenverlauf.de/#/50.93,13.35,17/2017.09.22/15:10/1/0) vorgenommen werden.\n",
    "\n",
    "Dafür wird zunächst die lokale Zeit bestimmt."
   ]
  },
  {
   "cell_type": "code",
   "execution_count": 9,
   "metadata": {
    "collapsed": false,
    "deletable": true,
    "editable": true
   },
   "outputs": [
    {
     "data": {
      "text/plain": [
       "'Seit Beginn des Tages sind 17.26 Stunden vergangen.'"
      ]
     },
     "execution_count": 9,
     "metadata": {},
     "output_type": "execute_result"
    }
   ],
   "source": [
    "import datetime as dt\n",
    "MEZ = + 1 * Stunden\n",
    "MESZ = + 2 * Stunden\n",
    "ZZ = MEZ\n",
    "Jetzt = dt.datetime.utcnow() + dt.timedelta(hours = int(ZZ / Stunden));\n",
    "#Jetzt = dt.datetime(2017,10,24,9,30)\n",
    "Jetzt;\n",
    "LokaleZeit = (Jetzt.hour + Jetzt.minute / 60) * Stunden;\n",
    "'Seit Beginn des Tages sind {:.5} Stunden vergangen.'.format((LokaleZeit/Stunden).n())"
   ]
  },
  {
   "cell_type": "markdown",
   "metadata": {
    "deletable": true,
    "editable": true
   },
   "source": [
    "Dann brauchen wir die Information, welchen Tag des Jahres wir heute haben."
   ]
  },
  {
   "cell_type": "code",
   "execution_count": 10,
   "metadata": {
    "collapsed": false,
    "deletable": true,
    "editable": true
   },
   "outputs": [
    {
     "data": {
      "text/plain": [
       "'Heute haben wir den 320. Tag des Jahres.'"
      ]
     },
     "execution_count": 10,
     "metadata": {},
     "output_type": "execute_result"
    }
   ],
   "source": [
    "Heute = (Jetzt.date() - dt.date(Jetzt.year,1,1)).days + 1;\n",
    "'Heute haben wir den {}. Tag des Jahres.'.format(Heute)"
   ]
  },
  {
   "cell_type": "markdown",
   "metadata": {
    "deletable": true,
    "editable": true
   },
   "source": [
    "Nun können wir einige der Funktionen von oben testen. Wenn möglich, liefert die Methode n() eine numerische Näherung des symbolischen Ausdruckes."
   ]
  },
  {
   "cell_type": "code",
   "execution_count": 11,
   "metadata": {
    "collapsed": false,
    "deletable": true,
    "editable": true
   },
   "outputs": [
    {
     "data": {
      "text/plain": [
       "'Die Sonnenumrundung hat 315.6 Grad erreicht.'"
      ]
     },
     "execution_count": 11,
     "metadata": {},
     "output_type": "execute_result"
    }
   ],
   "source": [
    "'Die Sonnenumrundung hat {:.5} Grad erreicht.'.format( (J(TagDesJahres = Heute) / Grad).n() )"
   ]
  },
  {
   "cell_type": "code",
   "execution_count": 12,
   "metadata": {
    "collapsed": false,
    "deletable": true,
    "editable": true
   },
   "outputs": [
    {
     "data": {
      "text/plain": [
       "'Die Abweichung des Sonnenstandes ist heute etwa -18.5 Grad.'"
      ]
     },
     "execution_count": 12,
     "metadata": {},
     "output_type": "execute_result"
    }
   ],
   "source": [
    "'Die Abweichung des Sonnenstandes ist heute etwa {:.5} Grad.'.format((delta(TagDesJahres = Heute) / Grad).n() )"
   ]
  },
  {
   "cell_type": "markdown",
   "metadata": {
    "deletable": true,
    "editable": true
   },
   "source": [
    "Über das Jahr gesehen hat die Abweichung folgenden Verlauf."
   ]
  },
  {
   "cell_type": "code",
   "execution_count": 13,
   "metadata": {
    "collapsed": false,
    "deletable": true,
    "editable": true
   },
   "outputs": [],
   "source": [
    "Deltadiagram = plot(delta.function(TagDesJahres) / Grad, 0, 365)\n",
    "Deltadiagram.axes_labels(['Tag des\\n Jahres',u'Sonnendeklination\\n in °'])\n",
    "Deltadiagram;"
   ]
  },
  {
   "cell_type": "code",
   "execution_count": 14,
   "metadata": {
    "collapsed": false,
    "deletable": true,
    "editable": true
   },
   "outputs": [
    {
     "data": {
      "text/plain": [
       "'Die Abweichung von der Sonnenzeit ist heute 15.13 Minuten.'"
      ]
     },
     "execution_count": 14,
     "metadata": {},
     "output_type": "execute_result"
    }
   ],
   "source": [
    "'Die Abweichung von der Sonnenzeit ist heute {:.5} Minuten.'.format( (Zgl(TagDesJahres = Heute) / Minuten).n() )"
   ]
  },
  {
   "cell_type": "markdown",
   "metadata": {
    "deletable": true,
    "editable": true
   },
   "source": [
    "Über das Jahr gesehen hat die Zeitgleichung folgenden Verlauf."
   ]
  },
  {
   "cell_type": "code",
   "execution_count": 15,
   "metadata": {
    "collapsed": false,
    "deletable": true,
    "editable": true
   },
   "outputs": [],
   "source": [
    "Zgldiagramm = plot(Zgl.function(TagDesJahres) / Minuten, 0, 365)\n",
    "Zgldiagramm.axes_labels(['Tag des\\n Jahres','Abweichung von der\\n Sonnenzeit in Minuten'])\n",
    "Zgldiagramm;"
   ]
  },
  {
   "cell_type": "markdown",
   "metadata": {
    "deletable": true,
    "editable": true
   },
   "source": [
    "Für die Berechnung der anderen Gleichungen ist der geographische Standort entscheidend. Dafür werden der Längengrad $l$ und der Breitengrad $b$ des DBI-TZ verwendet."
   ]
  },
  {
   "cell_type": "code",
   "execution_count": 16,
   "metadata": {
    "collapsed": false,
    "deletable": true,
    "editable": true
   },
   "outputs": [],
   "source": [
    "l = 13.35 * Grad;\n",
    "l.n();"
   ]
  },
  {
   "cell_type": "code",
   "execution_count": 17,
   "metadata": {
    "collapsed": false,
    "deletable": true,
    "editable": true
   },
   "outputs": [],
   "source": [
    "b = 50.93 * Grad;\n",
    "b.n();"
   ]
  },
  {
   "cell_type": "markdown",
   "metadata": {
    "deletable": true,
    "editable": true
   },
   "source": [
    "Um herauszufinden von welchen Variablen ein Ausdruck abhängt, kann nach den Argumenten des Ausdrucks gefragt werden."
   ]
  },
  {
   "cell_type": "code",
   "execution_count": 18,
   "metadata": {
    "collapsed": false,
    "deletable": true,
    "editable": true
   },
   "outputs": [
    {
     "data": {
      "text/plain": [
       "(LZ, Laengengrad, Stunden, Zeitzone)"
      ]
     },
     "execution_count": 18,
     "metadata": {},
     "output_type": "execute_result"
    }
   ],
   "source": [
    "MOZ.arguments()"
   ]
  },
  {
   "cell_type": "markdown",
   "metadata": {
    "deletable": true,
    "editable": true
   },
   "source": [
    "Hier ersetzen wir den Längengrad und die Zeitzone durch unsere Werte und erhalten einen vereinfachten Ausdruck mittels `gp`."
   ]
  },
  {
   "cell_type": "code",
   "execution_count": 19,
   "metadata": {
    "collapsed": false,
    "deletable": true,
    "editable": true
   },
   "outputs": [
    {
     "data": {
      "text/plain": [
       "LZ - 0.1099999999999998800000000000*Stunden"
      ]
     },
     "execution_count": 19,
     "metadata": {},
     "output_type": "execute_result"
    }
   ],
   "source": [
    "gp(\n",
    "    MOZ.subs({\n",
    "        Laengengrad:l\n",
    "        ,Zeitzone:ZZ\n",
    "    })\n",
    ")"
   ]
  },
  {
   "cell_type": "code",
   "execution_count": 20,
   "metadata": {
    "collapsed": false,
    "deletable": true,
    "editable": true
   },
   "outputs": [
    {
     "data": {
      "text/plain": [
       "(LZ, Laengengrad, Stunden, TagDesJahres, Zeitzone)"
      ]
     },
     "execution_count": 20,
     "metadata": {},
     "output_type": "execute_result"
    }
   ],
   "source": [
    "WOZ.arguments()"
   ]
  },
  {
   "cell_type": "code",
   "execution_count": 21,
   "metadata": {
    "collapsed": false,
    "deletable": true,
    "editable": true
   },
   "outputs": [
    {
     "data": {
      "text/plain": [
       "17.40899792971162894363146246*Stunden"
      ]
     },
     "execution_count": 21,
     "metadata": {},
     "output_type": "execute_result"
    }
   ],
   "source": [
    "gp(\n",
    "    WOZ.subs({    \n",
    "        TagDesJahres:Heute\n",
    "        ,Laengengrad:l\n",
    "        ,Zeitzone:ZZ\n",
    "        ,LZ:LokaleZeit\n",
    "    })\n",
    ")"
   ]
  },
  {
   "cell_type": "code",
   "execution_count": 22,
   "metadata": {
    "collapsed": false,
    "deletable": true,
    "editable": true
   },
   "outputs": [
    {
     "data": {
      "text/plain": [
       "(LZ, Laengengrad, Stunden, TagDesJahres, Zeitzone)"
      ]
     },
     "execution_count": 22,
     "metadata": {},
     "output_type": "execute_result"
    }
   ],
   "source": [
    "Stundenwinkel.arguments()"
   ]
  },
  {
   "cell_type": "code",
   "execution_count": 23,
   "metadata": {
    "collapsed": false,
    "deletable": true,
    "editable": true
   },
   "outputs": [
    {
     "data": {
      "text/plain": [
       "-81.13496894567446665447193696"
      ]
     },
     "execution_count": 23,
     "metadata": {},
     "output_type": "execute_result"
    }
   ],
   "source": [
    "gp(\n",
    "    Stundenwinkel.subs({    \n",
    "        TagDesJahres:Heute\n",
    "        ,Laengengrad:l\n",
    "        ,Zeitzone:ZZ\n",
    "        ,LZ:LokaleZeit\n",
    "    })\n",
    ")/Grad"
   ]
  },
  {
   "cell_type": "code",
   "execution_count": 24,
   "metadata": {
    "collapsed": false,
    "deletable": true,
    "editable": true
   },
   "outputs": [
    {
     "data": {
      "text/plain": [
       "-18.58227218236989575008027027"
      ]
     },
     "execution_count": 24,
     "metadata": {},
     "output_type": "execute_result"
    }
   ],
   "source": [
    "gp(delta(TagDesJahres=Heute))/Grad"
   ]
  },
  {
   "cell_type": "code",
   "execution_count": 25,
   "metadata": {
    "collapsed": false,
    "deletable": true,
    "editable": true
   },
   "outputs": [
    {
     "data": {
      "text/plain": [
       "(Breitengrad, LZ, Laengengrad, Stunden, TagDesJahres, Zeitzone)"
      ]
     },
     "execution_count": 25,
     "metadata": {},
     "output_type": "execute_result"
    }
   ],
   "source": [
    "Sonnenhoehe.arguments()"
   ]
  },
  {
   "cell_type": "markdown",
   "metadata": {
    "deletable": true,
    "editable": true
   },
   "source": [
    "Wir schreiben nun die heutige Sonnenhöhe am DBI-TZ zur Sommerzeit als Funktion der lokalen Zeit."
   ]
  },
  {
   "cell_type": "code",
   "execution_count": 26,
   "metadata": {
    "collapsed": false,
    "deletable": true,
    "editable": true
   },
   "outputs": [
    {
     "data": {
      "text/plain": [
       "'Zur Zeit steht die Sonne in einem Winkel von etwa -8.93 Grad ueber dem DBI-TZ.'"
      ]
     },
     "execution_count": 26,
     "metadata": {},
     "output_type": "execute_result"
    }
   ],
   "source": [
    "SH=(\n",
    "    Sonnenhoehe.subs({    \n",
    "        TagDesJahres:Heute\n",
    "        ,LZ:LZ*Stunden\n",
    "        ,Laengengrad:l\n",
    "        ,Breitengrad:b\n",
    "        ,Zeitzone:ZZ\n",
    "    })/Grad\n",
    ").function(LZ)\n",
    "Hoehe = SH(LokaleZeit/Stunden).n()\n",
    "'Zur Zeit steht die Sonne in einem Winkel von etwa {:.5} Grad ueber dem DBI-TZ.'.format(Hoehe)"
   ]
  },
  {
   "cell_type": "markdown",
   "metadata": {
    "deletable": true,
    "editable": true
   },
   "source": [
    "Natürlich können wir mit unseren Gleichungen auch den Zeitpunkt des Sonnenauf- und -untergangs berechnen, indem wir die Nulldurchgänge der Sonnenhöhe am Vormittag und Nachmittag bestimmen."
   ]
  },
  {
   "cell_type": "code",
   "execution_count": 27,
   "metadata": {
    "collapsed": false,
    "deletable": true,
    "editable": true
   },
   "outputs": [
    {
     "data": {
      "text/plain": [
       "'Sonnenaufgang war etwa um 7:29 und Sonnenuntergang wird etwa um 16:13 sein.'"
      ]
     },
     "execution_count": 27,
     "metadata": {},
     "output_type": "execute_result"
    }
   ],
   "source": [
    "Sonnenaufgang = find_root(SH(LZ),0,12)\n",
    "Sonnenuntergang = find_root(SH(LZ),12,24)\n",
    "'Sonnenaufgang war etwa um {:.4} und Sonnenuntergang wird etwa um {:.5} sein.'.format(\n",
    "    dt.timedelta(hours=Sonnenaufgang)\n",
    "    ,dt.timedelta(hours=Sonnenuntergang)\n",
    "    )"
   ]
  },
  {
   "cell_type": "markdown",
   "metadata": {
    "deletable": true,
    "editable": true
   },
   "source": [
    "Wir können auch den Sonnenhöchststand ermitteln, indem wir die folgende Extremwertaufgabe lösen."
   ]
  },
  {
   "cell_type": "code",
   "execution_count": 28,
   "metadata": {
    "collapsed": false,
    "deletable": true,
    "editable": true
   },
   "outputs": [
    {
     "data": {
      "text/plain": [
       "'Der Sonnenhoeststand ist heute um 11:51.'"
      ]
     },
     "execution_count": 28,
     "metadata": {},
     "output_type": "execute_result"
    }
   ],
   "source": [
    "Mittag = find_root(diff(SH(LZ),LZ),Sonnenaufgang,Sonnenuntergang)\n",
    "'Der Sonnenhoeststand ist heute um {:.5}.'.format(dt.timedelta(hours=Mittag))"
   ]
  },
  {
   "cell_type": "code",
   "execution_count": 29,
   "metadata": {
    "collapsed": false,
    "deletable": true,
    "editable": true
   },
   "outputs": [
    {
     "data": {
      "text/plain": [
       "(Breitengrad, LZ, Laengengrad, Stunden, TagDesJahres, Zeitzone)"
      ]
     },
     "execution_count": 29,
     "metadata": {},
     "output_type": "execute_result"
    }
   ],
   "source": [
    "Sonnenazimut.arguments()"
   ]
  },
  {
   "cell_type": "code",
   "execution_count": 30,
   "metadata": {
    "collapsed": false,
    "deletable": true,
    "editable": true
   },
   "outputs": [
    {
     "data": {
      "text/plain": [
       "'Zur Zeit steht die Sonne im Azimut von 251.4 Grad.'"
      ]
     },
     "execution_count": 30,
     "metadata": {},
     "output_type": "execute_result"
    }
   ],
   "source": [
    "SA=(\n",
    "    Sonnenazimut.subs({    \n",
    "        TagDesJahres:Heute\n",
    "        ,LZ:LZ*Stunden\n",
    "        ,Laengengrad:l\n",
    "        ,Breitengrad:b\n",
    "        ,Zeitzone:ZZ\n",
    "    }).subs(Stunden=1)/Grad\n",
    ").function(LZ)\n",
    "Azimut = SA(LokaleZeit/Stunden).n()\n",
    "'Zur Zeit steht die Sonne im Azimut von {:.5} Grad.'.format(Azimut)"
   ]
  },
  {
   "cell_type": "code",
   "execution_count": 31,
   "metadata": {
    "collapsed": false,
    "deletable": true,
    "editable": true
   },
   "outputs": [
    {
     "data": {
      "image/png": "[encoded data removed]",
      "text/plain": [
       "Graphics object consisting of 8 graphics primitives"
      ]
     },
     "metadata": {},
     "output_type": "display_data"
    }
   ],
   "source": [
    "Zeit=var('Zeit')\n",
    "aspectratio = 3\n",
    "durchmesser = 10\n",
    "StundenListe = srange(12-6, 12+10, 2)\n",
    "G = Graphics()\n",
    "Sonnenwegdiagram = parametric_plot( (SA(Zeit), SH(Zeit)), (Zeit, Sonnenaufgang, Sonnenuntergang ) )\n",
    "SonnenwegdiagramStunden = point( [(SA(Zeit), SH(Zeit)) for Zeit in StundenListe] )\n",
    "Sonne = ellipse((Azimut,Hoehe),durchmesser,durchmesser / aspectratio,rgbcolor='yellow', fill=True, legend_label='Die Sonne')\n",
    "G += Sonnenwegdiagram\n",
    "G += SonnenwegdiagramStunden\n",
    "for Zeit in StundenListe:\n",
    "    if SH(Zeit) > -5:\n",
    "        da = 3\n",
    "        if Zeit < 12: da = -3\n",
    "        G += text('{}'.format(Zeit),(SA(Zeit) + da, SH(Zeit) + 6 / aspectratio))\n",
    "G += Sonne\n",
    "G.axes_range(0,360,0,60)\n",
    "G.axes_labels(['Azimut',u'Höhe'])\n",
    "G.set_aspect_ratio(aspectratio)\n",
    "G.show()"
   ]
  }
 ],
 "metadata": {
  "kernelspec": {
   "display_name": "SageMath 8.0",
   "language": "",
   "name": "sagemath"
  },
  "language_info": {
   "codemirror_mode": {
    "name": "ipython",
    "version": 2
   },
   "file_extension": ".py",
   "mimetype": "text/x-python",
   "name": "python",
   "nbconvert_exporter": "python",
   "pygments_lexer": "ipython2",
   "version": "2.7.13"
  }
 },
 "nbformat": 4,
 "nbformat_minor": 2
}
