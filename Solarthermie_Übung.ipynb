{
 "cells": [
  {
   "cell_type": "raw",
   "metadata": {
    "slideshow": {
     "slide_type": "skip"
    }
   },
   "source": [
    "<script>\n",
    "  jQuery(document).ready(function($) {  \n",
    "  \n",
    "  $(window).on('load', function(){\n",
    "    $('#preloader').fadeOut('slow',function(){$(this).remove();});\n",
    "  });\n",
    "  \n",
    "  });\n",
    "</script>\n",
    "\n",
    "<style type=\"text/css\">\n",
    "  div#preloader { position: fixed; \n",
    "      left: 0; \n",
    "      top: 0; \n",
    "      z-index: 999; \n",
    "      width: 100%; \n",
    "      height: 100%; \n",
    "      overflow: visible; \n",
    "      background: #fff url('http://preloaders.net/preloaders/720/Moving%20line.gif') no-repeat center center; \n",
    "  }\n",
    "\n",
    "</style>\n",
    "\n",
    "<div id=\"preloader\">\n",
    "\n",
    "</div>"
   ]
  },
  {
   "cell_type": "raw",
   "metadata": {
    "slideshow": {
     "slide_type": "skip"
    }
   },
   "source": [
    "<script>\n",
    "  function code_toggle() {\n",
    "    if (code_shown){\n",
    "      $('div.input').hide('500');\n",
    "      $('#toggleButton1').val('Show Code')\n",
    "    } else {\n",
    "      $('div.input').show('500');\n",
    "      $('#toggleButton1').val('Hide Code')\n",
    "    }\n",
    "    code_shown = !code_shown\n",
    "  }\n",
    "\n",
    "  $( document ).ready(function(){\n",
    "    code_shown=false;\n",
    "    $('div.input').hide()\n",
    "  });\n",
    "</script>\n",
    "<form action=\"javascript:code_toggle()\"><input type=\"submit\" id=\"toggleButton1\" value=\"Show Code\"></form>"
   ]
  },
  {
   "cell_type": "raw",
   "metadata": {
    "slideshow": {
     "slide_type": "skip"
    }
   },
   "source": [
    "<script>\n",
    "  function result_toggle() {\n",
    "    if (result_shown){\n",
    "      $('div.output').hide('500');\n",
    "      $('#toggleButton2').val('Show Results')\n",
    "    } else {\n",
    "      $('div.output').show('500');\n",
    "      $('#toggleButton2').val('Hide Results')\n",
    "    }\n",
    "    result_shown = !result_shown\n",
    "  }\n",
    "\n",
    "  $( document ).ready(function(){\n",
    "    result_shown=false;\n",
    "    $('div.output').hide()\n",
    "  });\n",
    "</script>\n",
    "<form action=\"javascript:result_toggle()\"><input type=\"submit\" id=\"toggleButton2\" value=\"Show Results\"></form>"
   ]
  },
  {
   "cell_type": "code",
   "execution_count": 10,
   "metadata": {
    "slideshow": {
     "slide_type": "skip"
    }
   },
   "outputs": [],
   "source": [
    "%display latex"
   ]
  },
  {
   "cell_type": "markdown",
   "metadata": {
    "slideshow": {
     "slide_type": "slide"
    }
   },
   "source": [
    "# Solarthermie\n",
    "\n",
    "Mögliche Fragestellungen:\n",
    "* Kollektorwirkungsgrad anhand der empirischen Formel:\n",
    "$$ \\eta_K = \\frac{\\dot{Q}_{Nutz}}{E_G\\cdot A_K} = \\tau_{Abs} \\cdot \\alpha_{Abs} -\\frac{a_1(T_K-T_U)}{E_G}-\\frac{a_2(T_K-T_U)^2}{E_G} $$\n",
    "    am Beispiel eines \n",
    "    [Bosch SOLAR 4000 TF](https://junkers-de.resource.bosch.com/media/de_nj/fachkunde/05_dokumentation/02_broschueren_und_flyer/02_broschueren/broschueren_2017_03/pr17459_--_junkers_--_broschure_--_solar_--_8_737_706_479_--_rzlowres.pdf) \n",
    "    Flachkollektors:\n",
    "$$ \\begin{align*}\n",
    "A_K & = 1,94 m^2 \\\\\n",
    "\\eta_{optisch} & = \\tau_{Abs} \\cdot \\alpha_{Abs} = 0,761 \\\\\n",
    "a_1 & = 4,083 W/(m^2 K)\\\\\n",
    "a_2 & = 0,012 W/(m^2 K)\n",
    "\\end{align*}$$\n",
    "* Wärmebedarf aus Energieeffizienzklasse und Warmwasserverbrauch\n",
    "$$ \\dot{Q} = \\rho \\cdot \\dot{V} \\cdot c_p \\cdot \\Delta{T} $$\n",
    "* Volumen eines Speichers aus Wärmekapazität von Wasser\n",
    "$$ \\dot{V} = \\frac{\\mathrm{d}V}{\\mathrm{d}t}$$\n",
    "* Dauer der Abdeckung durch einen Speicher\n",
    "* Anwendung des Wärmedurchgangskoeffizienten\n",
    "$$ \\dot{Q} = U \\cdot \\Delta{T} \\cdot A$$\n",
    "* Konzentrationsfaktor und Flächen"
   ]
  },
  {
   "cell_type": "markdown",
   "metadata": {
    "slideshow": {
     "slide_type": "slide"
    }
   },
   "source": [
    "## 1. Wärmebedarf\n",
    "Berechnen Sie den Wärmebedarf eines 4-Personen-Einfamilienhauses \n",
    "(Energieeffizienzklasse, $160\\, kW/(m^2a)$. \n",
    "Die Wohnfläche beträgt $150\\, m^2$ zzgl. 20% sonstige Flächen. \n",
    "Pro Person werden $40\\, L$ Warmwasser mit einer Temperatur von $60\\, °C$ benötigt. \n",
    "Die Vorlauftemperatur des Wasseranschlusses beträgt $10\\, °C$."
   ]
  },
  {
   "cell_type": "code",
   "execution_count": 11,
   "metadata": {
    "slideshow": {
     "slide_type": "subslide"
    }
   },
   "outputs": [
    {
     "data": {
      "text/html": [
       "<html><script type=\"math/tex; mode=display\">\\newcommand{\\Bold}[1]{\\mathbf{#1}}32198.5555555556</script></html>"
      ],
      "text/plain": [
       "32198.5555555556"
      ]
     },
     "execution_count": 11,
     "metadata": {},
     "output_type": "execute_result"
    }
   ],
   "source": [
    "# SI-Einheiten\n",
    "Meter = var('Meter')\n",
    "kg = var('kg')\n",
    "Kelvin = var('Kelvin')\n",
    "Sekunde = var('Sekunde')\n",
    "Joule = var('Joule')\n",
    "\n",
    "# Abgeleitete Einheiten\n",
    "Minute = 60 * Sekunde\n",
    "Stunde = 60 * Minute\n",
    "Tag = 24 * Stunde\n",
    "Jahr = 365 * Tag\n",
    "Woche = 7 * Tag\n",
    "Watt = Joule / Sekunde\n",
    "kWh = 1000 * Watt * Stunde\n",
    "Liter = Meter**3 / 1000\n",
    "\n",
    "# Eigenschaften von Wasser\n",
    "Dichte = 1000 * kg / Meter**3\n",
    "Waermekapazitaet = 4190 * Joule / (kg * Kelvin)\n",
    "\n",
    "# Berechnung des Energiebedarfs\n",
    "JaehrlicheHeizenergie = 150 * Meter**2 * 1.2 * 160 * kWh / (Meter**2 * Jahr)\n",
    "TemperaturDifferenz = (60 - 10) * Kelvin\n",
    "JaehrlicheWarmwasserenergie = 4 * 40 * Liter / Tag * Dichte * Waermekapazitaet * TemperaturDifferenz\n",
    "JaehrlicherWaermebedarf = JaehrlicheHeizenergie + JaehrlicheWarmwasserenergie\n",
    "\n",
    "# Jährlicher Wärmebedarf in kWh/a\n",
    "JaehrlicherWaermebedarf / (kWh / Jahr)"
   ]
  },
  {
   "cell_type": "markdown",
   "metadata": {
    "slideshow": {
     "slide_type": "slide"
    }
   },
   "source": [
    "Berechnen Sie das Volumen eines Speichers, der die Familie $4$ Wochen mit Warmwasser versorgen kann."
   ]
  },
  {
   "cell_type": "code",
   "execution_count": 12,
   "metadata": {},
   "outputs": [
    {
     "data": {
      "text/html": [
       "<html><script type=\"math/tex; mode=display\">\\newcommand{\\Bold}[1]{\\mathbf{#1}}4480</script></html>"
      ],
      "text/plain": [
       "4480"
      ]
     },
     "execution_count": 12,
     "metadata": {},
     "output_type": "execute_result"
    }
   ],
   "source": [
    "Volumen = JaehrlicheWarmwasserenergie * 4 * Woche / (Waermekapazitaet * Dichte * TemperaturDifferenz)\n",
    "\n",
    "# Benötigtes Volumen in L\n",
    "Volumen / Liter"
   ]
  },
  {
   "cell_type": "markdown",
   "metadata": {
    "slideshow": {
     "slide_type": "slide"
    }
   },
   "source": [
    "Wie viele Tage würde ein handelsüblicher Warmwasserspeicher mit einem Volumen von $400\\, L$ die Familie versorgen?"
   ]
  },
  {
   "cell_type": "code",
   "execution_count": 13,
   "metadata": {},
   "outputs": [
    {
     "data": {
      "text/html": [
       "<html><script type=\"math/tex; mode=display\">\\newcommand{\\Bold}[1]{\\mathbf{#1}}\\frac{5}{2}</script></html>"
      ],
      "text/plain": [
       "5/2"
      ]
     },
     "execution_count": 13,
     "metadata": {},
     "output_type": "execute_result"
    }
   ],
   "source": [
    "GespeicherteWaerme = Waermekapazitaet * Dichte * TemperaturDifferenz * 400 * Liter\n",
    "Dauer = GespeicherteWaerme / JaehrlicheWarmwasserenergie\n",
    "\n",
    "# Versorgungsdauer in Tagen\n",
    "Dauer / Tag"
   ]
  },
  {
   "cell_type": "markdown",
   "metadata": {
    "slideshow": {
     "slide_type": "slide"
    }
   },
   "source": [
    "## 2. Kollektorwirkungsgrad\n",
    "Ein Solarkollektor, wie z.B. der Solar 4000 TF von Bosch, liefert bei einer Außentemperatur von $𝑇_𝑈 = 25\\, °C$ und einer Einstrahlleistung von $𝐸_𝐺=800\\, W/m^2$ eine Übertemperatur von $𝑇_𝐾 - 𝑇_𝑈 = 65\\, K$. \n",
    "Die Anlage lässt sich durch einen optischen Wirkungsgrad $\\tau_{Abd}\\cdot \\alpha_{Abs}$ von $76,1\\%$ und \n",
    "Verlustkoeffizienten $a_1 = 4,083\\, W/(m^2K)$ und $a_2 = 0,012\\, W/(m^2K^2)$ beschreiben. \n",
    "Bestimmen Sie die momentane Kollektorleistung."
   ]
  },
  {
   "cell_type": "code",
   "execution_count": 14,
   "metadata": {
    "slideshow": {
     "slide_type": "subslide"
    }
   },
   "outputs": [
    {
     "data": {
      "text/html": [
       "<html><script type=\"math/tex; mode=display\">\\newcommand{\\Bold}[1]{\\mathbf{#1}}53.2850000000000</script></html>"
      ],
      "text/plain": [
       "53.2850000000000"
      ]
     },
     "execution_count": 14,
     "metadata": {},
     "output_type": "execute_result"
    }
   ],
   "source": [
    "# Eigenschaften des Kollektors\n",
    "optischerWirkungsgrad = 0.761\n",
    "a_1 = 4.083 * Watt / (Meter**2 * Kelvin)\n",
    "a_2 = 0.012 * Watt / (Meter**2 * Kelvin**2)\n",
    "\n",
    "# Variablen\n",
    "TemperaturDifferenz = var('TemperaturDifferenz')\n",
    "GlobaleEinstrahlung = var('GlobaleEinstrahlung')\n",
    "\n",
    "# Formel \n",
    "Kollektorwirkungsgrad = (\n",
    "    optischerWirkungsgrad \n",
    "    - a_1 * TemperaturDifferenz / GlobaleEinstrahlung \n",
    "    - a_2 * TemperaturDifferenz**2 / GlobaleEinstrahlung\n",
    ")\n",
    "\n",
    "# Kollektorwirkungsgrad in %\n",
    "Kollektorwirkungsgrad(\n",
    "    TemperaturDifferenz = 40 * Kelvin\n",
    "    ,GlobaleEinstrahlung = 800 * Watt / Meter**2\n",
    ") * 100"
   ]
  },
  {
   "cell_type": "markdown",
   "metadata": {
    "slideshow": {
     "slide_type": "slide"
    }
   },
   "source": [
    "Berechnen Sie die Kollektorleistung des $1,94\\, m^2$ großen Kollektors unter den gleichen Betriebsbedingungen wie zuvor."
   ]
  },
  {
   "cell_type": "code",
   "execution_count": 15,
   "metadata": {},
   "outputs": [
    {
     "data": {
      "text/html": [
       "<html><script type=\"math/tex; mode=display\">\\newcommand{\\Bold}[1]{\\mathbf{#1}}826.983200000000</script></html>"
      ],
      "text/plain": [
       "826.983200000000"
      ]
     },
     "execution_count": 15,
     "metadata": {},
     "output_type": "execute_result"
    }
   ],
   "source": [
    "Aperturflaeche = var('Aperturflaeche')\n",
    "Kollektorleistung = Kollektorwirkungsgrad * Aperturflaeche * GlobaleEinstrahlung\n",
    "\n",
    "# Leistung eines handelsüblichen Kollektors\n",
    "Kollektorleistung(\n",
    "    Aperturflaeche = 1.94 * Meter**2\n",
    "    ,TemperaturDifferenz = 40 * Kelvin\n",
    "    ,GlobaleEinstrahlung = 800 * Watt / Meter**2 \n",
    ") / Watt"
   ]
  },
  {
   "cell_type": "markdown",
   "metadata": {
    "slideshow": {
     "slide_type": "slide"
    }
   },
   "source": [
    "Vergleichen Sie diesen Wert mit der Leistung Ihrer Küchengeräte."
   ]
  },
  {
   "cell_type": "markdown",
   "metadata": {
    "slideshow": {
     "slide_type": "slide"
    }
   },
   "source": [
    "## 3. Wärmedurchgangskoeffizient\n",
    "Berechnen Sie den äquivalenten Wärmedurchgangskoeffizient eines Fensters mit Dreifachwärmeschutzverglasung mit einem Energiedurchlassgrad $g = {}^2/_3$ und einem Wärmedurchgangskoeffizient $U_W = 1,5\\, W/(m^2K)$ wenn dieses Fenster nach Süden ausgerichtet ist."
   ]
  },
  {
   "cell_type": "code",
   "execution_count": 16,
   "metadata": {
    "slideshow": {
     "slide_type": "subslide"
    }
   },
   "outputs": [
    {
     "data": {
      "text/html": [
       "<html><script type=\"math/tex; mode=display\">\\newcommand{\\Bold}[1]{\\mathbf{#1}}0.240000000000000</script></html>"
      ],
      "text/plain": [
       "0.240000000000000"
      ]
     },
     "execution_count": 16,
     "metadata": {},
     "output_type": "execute_result"
    }
   ],
   "source": [
    "Waermedurchgangskoeffizient = 1.5 * Watt / (Meter**2 * Kelvin)\n",
    "Energiedurchlassgrad = 2./3.\n",
    "Strahlungsgewinnungskoeffizient = 2.1 * Watt / (Meter**2 * Kelvin)\n",
    "aequivalenterWaermedurchgangskoeffizient = (\n",
    "    Waermedurchgangskoeffizient - 0.9 * Energiedurchlassgrad * Strahlungsgewinnungskoeffizient\n",
    ")\n",
    "\n",
    "# äquivalenter Wärmedurchgangskoeffizient in W/(m^2 K)\n",
    "aequivalenterWaermedurchgangskoeffizient / (Watt / (Meter**2 * Kelvin))"
   ]
  },
  {
   "cell_type": "markdown",
   "metadata": {
    "slideshow": {
     "slide_type": "slide"
    }
   },
   "source": [
    "Vergleichen Sie diesen Wert mit dem Grenzwert für Außenwände von Wohngebäuden nach der EnEV."
   ]
  },
  {
   "cell_type": "markdown",
   "metadata": {
    "slideshow": {
     "slide_type": "slide"
    }
   },
   "source": [
    "Wieviel Wärme verlieren Sie durch dieses Fenster in einer Stunde an einem Wintertag mit einer Außentemperatur von \n",
    "$T_{außen} = -10\\, °C$, wenn das Fenster $80\\,cm$ breit und $120\\,cm$ hoch ist und Sie eine Innentemperatur von $T_{innen} = 20\\,°C$ halten wollen."
   ]
  },
  {
   "cell_type": "code",
   "execution_count": 17,
   "metadata": {},
   "outputs": [
    {
     "data": {
      "text/html": [
       "<html><script type=\"math/tex; mode=display\">\\newcommand{\\Bold}[1]{\\mathbf{#1}}24.8832000000000</script></html>"
      ],
      "text/plain": [
       "24.8832000000000"
      ]
     },
     "execution_count": 17,
     "metadata": {},
     "output_type": "execute_result"
    }
   ],
   "source": [
    "# Abgeleitete Einheit\n",
    "cm = Meter / 100\n",
    "mm = Meter / 1000\n",
    "\n",
    "# Berechnung\n",
    "Flaeche = 80 * cm * 120 * cm\n",
    "TemperaturDifferenz = (20+10) * Kelvin\n",
    "Waermeverlust = aequivalenterWaermedurchgangskoeffizient * Flaeche * TemperaturDifferenz * 1 * Stunde\n",
    "\n",
    "# Wärmeverlust in einer Stunde in kJ\n",
    "Waermeverlust / (1000 * Joule)"
   ]
  },
  {
   "cell_type": "markdown",
   "metadata": {
    "slideshow": {
     "slide_type": "slide"
    }
   },
   "source": [
    "## 4. Konzentrationsfaktor\n",
    "Kann in Deutschland durch Konzentration der Solarstrahlung die Leistungsdichte von Kohle im Dampferzeuger-Brennraum eines Kraftwerkes $500\\, kW/m^2$ erzeugt werden, wenn der Konzentrator nur einachsig nachgeführt werden kann?"
   ]
  },
  {
   "cell_type": "code",
   "execution_count": 18,
   "metadata": {},
   "outputs": [
    {
     "name": "stdout",
     "output_type": "stream",
     "text": [
      "Nein\n"
     ]
    }
   ],
   "source": [
    "C_max = 46211\n",
    "C_maxEinachsig = sqrt(C_max)\n",
    "GlobaleEinstrahlung = 800 * Watt / Meter**2\n",
    "if GlobaleEinstrahlung * C_maxEinachsig / (1000 * Watt / Meter**2)  < 500:\n",
    "    print \"Nein\"\n",
    "else:\n",
    "    print \"Ja\""
   ]
  },
  {
   "cell_type": "markdown",
   "metadata": {},
   "source": [
    "----"
   ]
  },
  {
   "cell_type": "raw",
   "metadata": {
    "slideshow": {
     "slide_type": "skip"
    }
   },
   "source": [
    "<script>\n",
    "  $(document).ready(function(){\n",
    "    $('div.prompt').hide();\n",
    "    $('div.back-to-top').hide();\n",
    "    <!-- $('nav#menubar').hide(); -->\n",
    "    $('.breadcrumb').hide();\n",
    "    $('.hidden-print').hide();\n",
    "  });\n",
    "</script>\n",
    "\n",
    "<footer id=\"attribution\" style=\"float:right; color:#999; background:#fff;\">\n",
    "Created with Jupyter, delivered by Fastly, rendered by Rackspace.\n",
    "</footer>"
   ]
  }
 ],
 "metadata": {
  "celltoolbar": "Slideshow",
  "kernelspec": {
   "display_name": "SageMath 8.0",
   "language": "",
   "name": "sagemath"
  },
  "language_info": {
   "codemirror_mode": {
    "name": "ipython",
    "version": 2
   },
   "file_extension": ".py",
   "mimetype": "text/x-python",
   "name": "python",
   "nbconvert_exporter": "python",
   "pygments_lexer": "ipython2",
   "version": "2.7.13"
  },
  "livereveal": {
   "scroll": true,
   "slideNumber": "c.v",
   "start_slideshow_at": "selected",
   "theme": "sky",
   "transition": "zoom"
  }
 },
 "nbformat": 4,
 "nbformat_minor": 2
}
